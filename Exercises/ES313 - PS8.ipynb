{
 "cells": [
  {
   "cell_type": "markdown",
   "metadata": {},
   "source": [
    "# Phase Change\n",
    "\n",
    "Find the critical value of the percentage ($p$) of porous cells to reach the bottom of the structure.\n",
    "\n",
    "1. Remember to simulate multiple times (100) for a given $p$ to include stochastic effects.\n",
    "2. How many time steps do you have to simulate? When do you stop?\n",
    "3. Try to make an automatic procedure that gives the critical value (2 significant digits)?\n",
    "4. Does the size of the structure plays a role?"
   ]
  },
  {
   "cell_type": "markdown",
   "metadata": {},
   "source": [
    "# Fractals"
   ]
  },
  {
   "cell_type": "code",
   "execution_count": 1,
   "metadata": {},
   "outputs": [
    {
     "name": "stdout",
     "output_type": "stream",
     "text": [
      "\u001b[32m\u001b[1m  Updating\u001b[22m\u001b[39m registry at `~/.julia/registries/General`\n",
      "\u001b[32m\u001b[1m  Updating\u001b[22m\u001b[39m git-repo `https://github.com/JuliaRegistries/General.git`\n",
      "\u001b[2K\u001b[?25h\u001b[32m\u001b[1m Resolving\u001b[22m\u001b[39m package versions...\n",
      "\u001b[32m\u001b[1m Installed\u001b[22m\u001b[39m BinaryProvider ─ v0.5.1\n",
      "\u001b[32m\u001b[1m Installed\u001b[22m\u001b[39m FileIO ───────── v1.0.2\n",
      "\u001b[32m\u001b[1m Installed\u001b[22m\u001b[39m Luxor ────────── v1.1.1\n",
      "\u001b[32m\u001b[1m  Updating\u001b[22m\u001b[39m `~/.julia/environments/v1.0/Project.toml`\n",
      " \u001b[90m [b99e7846]\u001b[39m\u001b[93m ↑ BinaryProvider v0.5.0 ⇒ v0.5.1\u001b[39m\n",
      " \u001b[90m [ae8d54c2]\u001b[39m\u001b[93m ↑ Luxor v1.0.0 ⇒ v1.1.1\u001b[39m\n",
      "\u001b[32m\u001b[1m  Updating\u001b[22m\u001b[39m `~/.julia/environments/v1.0/Manifest.toml`\n",
      " \u001b[90m [b99e7846]\u001b[39m\u001b[93m ↑ BinaryProvider v0.5.0 ⇒ v0.5.1\u001b[39m\n",
      " \u001b[90m [5789e2e9]\u001b[39m\u001b[93m ↑ FileIO v1.0.1 ⇒ v1.0.2\u001b[39m\n",
      " \u001b[90m [ae8d54c2]\u001b[39m\u001b[93m ↑ Luxor v1.0.0 ⇒ v1.1.1\u001b[39m\n"
     ]
    }
   ],
   "source": [
    "using Pkg\n",
    "pkg\"add Plots\""
   ]
  },
  {
   "cell_type": "code",
   "execution_count": 2,
   "metadata": {},
   "outputs": [
    {
     "name": "stderr",
     "output_type": "stream",
     "text": [
      "┌ Info: Recompiling stale cache file /home/jupyter/.julia/compiled/v1.0/Plots/ld3vC.ji for Plots [91a5bcdd-55d7-5caf-9e0b-520d859cae80]\n",
      "└ @ Base loading.jl:1184\n"
     ]
    }
   ],
   "source": [
    "using Plots"
   ]
  },
  {
   "cell_type": "markdown",
   "metadata": {},
   "source": [
    "## 1D Cellular Automata\n",
    "\n",
    "The dimension of a cellular automata can be estimated by its area, i.e. the number of \"on\" cells.\n",
    "\n",
    "Make a loglog plot (`plot(x, y, xscale=:log10, yscale=:log10)`) of the area of rule (20, 50 and 18) as a function of the number of time steps, $n$. Compare with the graphs of $y=n$ and $y=n^2$.\n",
    "\n",
    "The dimension is the slope of the resulting graph. A fractal result means that the cellular automata shows a fractal behavior."
   ]
  },
  {
   "cell_type": "markdown",
   "metadata": {},
   "source": [
    "## Percolation\n",
    "\n",
    "The dimension of a percolation model is also estimated by its area, i.e. the number of \"wet\" cells at the end of the simulation.\n",
    "\n",
    "Make of loglog plot of the number of wet cells as a function of the total number of cells. Show that for a critical value of $p$ the dimension is fractal."
   ]
  },
  {
   "cell_type": "code",
   "execution_count": null,
   "metadata": {},
   "outputs": [],
   "source": []
  }
 ],
 "metadata": {
  "kernelspec": {
   "display_name": "Julia 1.0.1",
   "language": "julia",
   "name": "julia-1.0"
  },
  "language_info": {
   "file_extension": ".jl",
   "mimetype": "application/julia",
   "name": "julia",
   "version": "1.0.1"
  }
 },
 "nbformat": 4,
 "nbformat_minor": 2
}
