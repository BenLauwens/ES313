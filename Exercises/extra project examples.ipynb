{
 "cells": [
  {
   "cell_type": "markdown",
   "metadata": {},
   "source": [
    "# Some specific applications\n"
   ]
  },
  {
   "cell_type": "markdown",
   "metadata": {},
   "source": [
    "## 1. See whether an item is available in a store\n",
    "For some aaplications you might need to verify if an item exists in a store without using a `get` expression. Internally the store's items are saved as a set calles `store.items`. If you want to check the pressence of an item in a store, you can simply use `item in store.items`. You can also manipulate items in the store directly this way, but you will bypass the scheduling, so be careful when doing this.\n",
    "\n",
    "Below you have a small example:"
   ]
  },
  {
   "cell_type": "code",
   "execution_count": 4,
   "metadata": {},
   "outputs": [],
   "source": [
    "using SimJulia"
   ]
  },
  {
   "cell_type": "code",
   "execution_count": 17,
   "metadata": {},
   "outputs": [
    {
     "name": "stdout",
     "output_type": "stream",
     "text": [
      "found the item on time 10.0\n",
      "found the item on time 11.0\n"
     ]
    }
   ],
   "source": [
    "# checking for presence\n",
    "mutable struct mytype\n",
    "    id::Int\n",
    "    status::Int\n",
    "end\n",
    "\n",
    "@resumable function putter(sim::Simulation,s::Store, m::mytype)\n",
    "    @yield timeout(sim,10)\n",
    "    put(s, m)\n",
    "    @yield timeout(sim, 2)\n",
    "    get(s)\n",
    "end\n",
    "\n",
    "@resumable function checker(sim::Simulation, s::Store, m::mytype)\n",
    "    while true\n",
    "        @yield timeout(sim,1)\n",
    "        if m in s.items\n",
    "            println(\"found the item on time $(now(sim))\")\n",
    "        end\n",
    "    end\n",
    "end\n",
    "   \n",
    "sim = Simulation()\n",
    "store = Store{mytype}(sim)\n",
    "m = mytype(12,0)\n",
    "@process putter(sim,store, m)\n",
    "@process checker(sim, store, m)\n",
    "run(sim,15)"
   ]
  },
  {
   "cell_type": "code",
   "execution_count": 53,
   "metadata": {},
   "outputs": [
    {
     "name": "stdout",
     "output_type": "stream",
     "text": [
      "found the item 9 on time 9.0\n",
      "found the item 9 on time 10.0\n",
      "found the item 9 on time 11.0\n",
      "found the item 9 on time 12.0\n",
      "found the item 9 on time 13.0\n",
      "found the item 9 on time 14.0\n"
     ]
    }
   ],
   "source": [
    "# checking for presence based on property\n",
    "mutable struct mytype\n",
    "    id::Int\n",
    "    status::Int\n",
    "end\n",
    "\n",
    "@resumable function putter(sim::Simulation,s::Store)\n",
    "    i = 1\n",
    "    while true\n",
    "        @yield timeout(sim,1)\n",
    "        put(s, mytype(i,rand([0,1])))\n",
    "        i += 1\n",
    "    end\n",
    "end\n",
    "\n",
    "@resumable function checker(sim::Simulation, s::Store, n::Int)\n",
    "    while true\n",
    "        @yield timeout(sim,1)\n",
    "        if n in [x.id for x in s.items]\n",
    "            println(\"found the item $(n) on time $(now(sim))\")\n",
    "        end\n",
    "    end\n",
    "end\n",
    "   \n",
    "sim = Simulation()\n",
    "store = Store{mytype}(sim)\n",
    "# modify the store without the scheduler:\n",
    "push!(store.items, mytype(172,172))\n",
    "# ----------------------------------\n",
    "@process putter(sim,store)\n",
    "@process checker(sim, store, 9)\n",
    "run(sim,15)"
   ]
  },
  {
   "cell_type": "code",
   "execution_count": 55,
   "metadata": {},
   "outputs": [
    {
     "name": "stdout",
     "output_type": "stream",
     "text": [
      "Set(mytype[mytype(12, 1), mytype(2, 0), mytype(9, 0), mytype(13, 1), mytype(10, 0), mytype(4, 0), mytype(7, 1), mytype(14, 1), mytype(5, 0), mytype(1, 1), mytype(172, 172), mytype(11, 0), mytype(3, 0), mytype(6, 1), mytype(8, 0)])\n"
     ]
    },
    {
     "data": {
      "text/plain": [
       "Set(mytype[mytype(2, 0), mytype(9, 0), mytype(4, 0), mytype(7, 1), mytype(5, 0), mytype(1, 1), mytype(3, 0), mytype(6, 1), mytype(8, 0)])"
      ]
     },
     "execution_count": 55,
     "metadata": {},
     "output_type": "execute_result"
    }
   ],
   "source": [
    "println(store.items)\n",
    "# Modify the store without the schuduler:\n",
    "store.items = filter!(x -> x.id  ∉ [172, 10, 11, 12, 13, 14], store.items)"
   ]
  },
  {
   "cell_type": "markdown",
   "metadata": {},
   "source": [
    "## 2. Generate a model based on historical data\n",
    "Suppose you have some historical data in a tabular form (Excel/CSV file) that you want to process and use to fit a model for a simulation."
   ]
  },
  {
   "cell_type": "code",
   "execution_count": 193,
   "metadata": {},
   "outputs": [
    {
     "data": {
      "text/html": [
       "<table class=\"data-frame\"><thead><tr><th></th><th>Asset</th><th>date</th></tr><tr><th></th><th>Any</th><th>Date</th></tr></thead><tbody><p>20 rows × 2 columns</p><tr><th>1</th><td>CH001</td><td>2015-03-01</td></tr><tr><th>2</th><td>CH002</td><td>2015-01-02</td></tr><tr><th>3</th><td>CH003</td><td>2015-04-23</td></tr><tr><th>4</th><td>CH002</td><td>2016-12-19</td></tr><tr><th>5</th><td>CH001</td><td>2014-05-08</td></tr><tr><th>6</th><td>CH002</td><td>2016-05-23</td></tr><tr><th>7</th><td>CH003</td><td>2014-11-06</td></tr><tr><th>8</th><td>CH002</td><td>2014-07-09</td></tr><tr><th>9</th><td>CH001</td><td>2017-03-03</td></tr><tr><th>10</th><td>CH002</td><td>2011-08-05</td></tr><tr><th>11</th><td>CH003</td><td>2012-12-10</td></tr><tr><th>12</th><td>CH002</td><td>2014-05-18</td></tr><tr><th>13</th><td>CH001</td><td>2017-07-30</td></tr><tr><th>14</th><td>CH002</td><td>2016-10-21</td></tr><tr><th>15</th><td>CH003</td><td>2016-09-15</td></tr><tr><th>16</th><td>CH002</td><td>2015-04-13</td></tr><tr><th>17</th><td>CH001</td><td>2015-04-12</td></tr><tr><th>18</th><td>CH001</td><td>2015-07-31</td></tr><tr><th>19</th><td>CH001</td><td>2015-12-23</td></tr><tr><th>20</th><td>CH001</td><td>2016-03-01</td></tr></tbody></table>"
      ],
      "text/latex": [
       "\\begin{tabular}{r|cc}\n",
       "\t& Asset & date\\\\\n",
       "\t\\hline\n",
       "\t& Any & Date\\\\\n",
       "\t\\hline\n",
       "\t1 & CH001 & 2015-03-01 \\\\\n",
       "\t2 & CH002 & 2015-01-02 \\\\\n",
       "\t3 & CH003 & 2015-04-23 \\\\\n",
       "\t4 & CH002 & 2016-12-19 \\\\\n",
       "\t5 & CH001 & 2014-05-08 \\\\\n",
       "\t6 & CH002 & 2016-05-23 \\\\\n",
       "\t7 & CH003 & 2014-11-06 \\\\\n",
       "\t8 & CH002 & 2014-07-09 \\\\\n",
       "\t9 & CH001 & 2017-03-03 \\\\\n",
       "\t10 & CH002 & 2011-08-05 \\\\\n",
       "\t11 & CH003 & 2012-12-10 \\\\\n",
       "\t12 & CH002 & 2014-05-18 \\\\\n",
       "\t13 & CH001 & 2017-07-30 \\\\\n",
       "\t14 & CH002 & 2016-10-21 \\\\\n",
       "\t15 & CH003 & 2016-09-15 \\\\\n",
       "\t16 & CH002 & 2015-04-13 \\\\\n",
       "\t17 & CH001 & 2015-04-12 \\\\\n",
       "\t18 & CH001 & 2015-07-31 \\\\\n",
       "\t19 & CH001 & 2015-12-23 \\\\\n",
       "\t20 & CH001 & 2016-03-01 \\\\\n",
       "\\end{tabular}\n"
      ],
      "text/plain": [
       "20×2 DataFrame\n",
       "│ Row │ Asset │ date       │\n",
       "│     │ \u001b[90mAny\u001b[39m   │ \u001b[90mDate\u001b[39m       │\n",
       "├─────┼───────┼────────────┤\n",
       "│ 1   │ CH001 │ 2015-03-01 │\n",
       "│ 2   │ CH002 │ 2015-01-02 │\n",
       "│ 3   │ CH003 │ 2015-04-23 │\n",
       "│ 4   │ CH002 │ 2016-12-19 │\n",
       "│ 5   │ CH001 │ 2014-05-08 │\n",
       "│ 6   │ CH002 │ 2016-05-23 │\n",
       "│ 7   │ CH003 │ 2014-11-06 │\n",
       "│ 8   │ CH002 │ 2014-07-09 │\n",
       "│ 9   │ CH001 │ 2017-03-03 │\n",
       "│ 10  │ CH002 │ 2011-08-05 │\n",
       "│ 11  │ CH003 │ 2012-12-10 │\n",
       "│ 12  │ CH002 │ 2014-05-18 │\n",
       "│ 13  │ CH001 │ 2017-07-30 │\n",
       "│ 14  │ CH002 │ 2016-10-21 │\n",
       "│ 15  │ CH003 │ 2016-09-15 │\n",
       "│ 16  │ CH002 │ 2015-04-13 │\n",
       "│ 17  │ CH001 │ 2015-04-12 │\n",
       "│ 18  │ CH001 │ 2015-07-31 │\n",
       "│ 19  │ CH001 │ 2015-12-23 │\n",
       "│ 20  │ CH001 │ 2016-03-01 │"
      ]
     },
     "execution_count": 193,
     "metadata": {},
     "output_type": "execute_result"
    }
   ],
   "source": [
    "using DataFrames, Query, XLSX # for data manipulation and import\n",
    "using Dates                   # for datetime functionality\n",
    "# read the files\n",
    "df = DataFrame(XLSX.readtable(\"demofile.xlsx\",\"Sheet1\")...)\n",
    "# set column type to dates\n",
    "df.date = Dates.Date.(df.date)\n",
    "# show DataFrame\n",
    "df"
   ]
  },
  {
   "cell_type": "code",
   "execution_count": 197,
   "metadata": {},
   "outputs": [
    {
     "data": {
      "text/plain": [
       "17-element Array{Any,1}:\n",
       " 297 days \n",
       " 42 days  \n",
       " 110 days \n",
       " 145 days \n",
       " 69 days  \n",
       " 367 days \n",
       " 149 days \n",
       " 696 days \n",
       " 168 days \n",
       " 511 days \n",
       " 1017 days\n",
       " 52 days  \n",
       " 177 days \n",
       " 101 days \n",
       " 406 days \n",
       " 151 days \n",
       " 59 days  "
      ]
     },
     "execution_count": 197,
     "metadata": {},
     "output_type": "execute_result"
    }
   ],
   "source": [
    "# extract time between events\n",
    "TBF = []\n",
    "for asset in Set(df.Asset)\n",
    "    # make intermediate dataframe for specific asset\n",
    "    tdf =  @from i in df begin  \n",
    "            @where i.Asset == asset   # filter on asset name\n",
    "            @select {i.date}          # select dates only\n",
    "            @collect DataFrame        # return dataframe     \n",
    "    end\n",
    "    # get sorted dates for specific asset\n",
    "    mdates = sort(tdf.date) \n",
    "    # calculate time between events\n",
    "    res = mdates[2:end] - mdates[1:end-1] \n",
    "    # store result\n",
    "    append!(TBF,res)\n",
    "end\n",
    "TBF"
   ]
  },
  {
   "cell_type": "code",
   "execution_count": 198,
   "metadata": {},
   "outputs": [
    {
     "data": {
      "text/plain": [
       "Exact one sample Kolmogorov-Smirnov test\n",
       "----------------------------------------\n",
       "Population details:\n",
       "    parameter of interest:   Supremum of CDF differences\n",
       "    value under h_0:         0.0\n",
       "    point estimate:          0.1607412254373159\n",
       "\n",
       "Test summary:\n",
       "    outcome with 95% confidence: fail to reject h_0\n",
       "    two-sided p-value:           0.7138\n",
       "\n",
       "Details:\n",
       "    number of observations:   17\n"
      ]
     },
     "execution_count": 198,
     "metadata": {},
     "output_type": "execute_result"
    }
   ],
   "source": [
    "# Make distribution\n",
    "using Distributions, HypothesisTests\n",
    "# try poisson model\n",
    "mydist = fit(Exponential, Dates.value.(TBF))\n",
    "# evaluate the fit\n",
    "ExactOneSampleKSTest(Dates.value.(TBF), mydist)"
   ]
  },
  {
   "cell_type": "code",
   "execution_count": null,
   "metadata": {},
   "outputs": [],
   "source": []
  }
 ],
 "metadata": {
  "kernelspec": {
   "display_name": "Julia 1.2.0",
   "language": "julia",
   "name": "julia-1.2"
  },
  "language_info": {
   "file_extension": ".jl",
   "mimetype": "application/julia",
   "name": "julia",
   "version": "1.2.0"
  }
 },
 "nbformat": 4,
 "nbformat_minor": 4
}
