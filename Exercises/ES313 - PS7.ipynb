{
 "cells": [
  {
   "cell_type": "markdown",
   "metadata": {},
   "source": [
    "# PS 02-03 Oct\n",
    "Remember vector spaces? Remember how this was not so easy/beatiful to implement in Matlab? Use your own defined type to implement the vector space $C=\\{(x_{1},x_{2})\\mid x_{1},x_{2}\\in\\mathbb{R}\\}$ where the addition and scalar multiplication are defined as:\n",
    "\\begin{equation}\n",
    "(x_{1},x_{2})+(y_{1},y_{2})=(x_{1}+y_{1}+1,x_{2}+y_{2}+1)\\\\\n",
    "\\alpha(x_{1},x_{2})=(\\alpha x_{1}+\\alpha-1,\\alpha x_{2}+\\alpha-1)\n",
    "\\end{equation}\n",
    "\n",
    "When you request a vector without values for its components, it should return the zero vector (watch out, the zero vector is defined as $(-1,-1)$).\n",
    "\n",
    "Implement the basic operations using the standard operators `+`,`*`,`-`,`==` etc."
   ]
  },
  {
   "cell_type": "code",
   "execution_count": null,
   "metadata": {},
   "outputs": [],
   "source": []
  },
  {
   "cell_type": "markdown",
   "metadata": {},
   "source": [
    "### Card play\n",
    "Implement a card game using your own types for cards, a deck, a hand etc. Consider the ace as a card with rank 1.\n",
    "\n",
    "make a deck, shuffle it and deal the hands. Try to implement a poker game (cf. Ch. 18 from ThinkJulia)"
   ]
  },
  {
   "cell_type": "code",
   "execution_count": null,
   "metadata": {},
   "outputs": [],
   "source": []
  }
 ],
 "metadata": {
  "kernelspec": {
   "display_name": "Julia 1.0.0",
   "language": "julia",
   "name": "julia-1.0"
  },
  "language_info": {
   "file_extension": ".jl",
   "mimetype": "application/julia",
   "name": "julia",
   "version": "1.0.0"
  }
 },
 "nbformat": 4,
 "nbformat_minor": 2
}
