{
 "cells": [
  {
   "cell_type": "markdown",
   "metadata": {},
   "source": [
    "# PS 02-03 Oct\n",
    "Remember vector spaces? Remember how this was not so easy/beatiful to implement in Matlab? Use your own defined type to implement the vector space $C=\\{(x_{1},x_{2})\\mid x_{1},x_{2}\\in\\mathbb{R}\\}$ where the addition and scalar multiplication are defined as:\n",
    "\\begin{equation}\n",
    "(x_{1},x_{2})+(y_{1},y_{2})=(x_{1}+y_{1}+1,x_{2}+y_{2}+1)\\\\\n",
    "\\alpha(x_{1},x_{2})=(\\alpha x_{1}+\\alpha-1,\\alpha x_{2}+\\alpha-1)\n",
    "\\end{equation}\n",
    "\n",
    "When you request a vector without values for its components, it should return the zero vector (watch out, the zero vector is defined as $(-1,-1)$).\n",
    "\n",
    "Implement the basic operations using the standard operators `+`,`*`,`-`,`==` etc."
   ]
  },
  {
   "cell_type": "code",
   "execution_count": null,
   "metadata": {},
   "outputs": [],
   "source": []
  },
  {
   "cell_type": "markdown",
   "metadata": {},
   "source": [
    "### Card play\n",
    "Implement a card game using your own types for cards, a deck, a hand etc. Consider the ace as a card with rank 1.\n",
    "\n",
    "make a deck, shuffle it and deal the hands. Try to implement a poker game (cf. Ch. 18 from ThinkJulia)"
   ]
  },
  {
   "cell_type": "code",
   "execution_count": null,
   "metadata": {},
   "outputs": [],
   "source": []
  },
  {
   "cell_type": "markdown",
   "metadata": {},
   "source": [
    "## Small coding challenges and student questions\n",
    "### Ch1\n",
    "Write a program to solve a classic ancient Chinese puzzle: \n",
    "We count 35 heads and 94 legs among the chickens and rabbits in a farm. How many rabbits and how many chickens do we have?\n",
    "\n",
    "1. Solve this\n",
    "2. Expand this to more animals. Think how you could implement this. What is a possible problem?\n"
   ]
  },
  {
   "cell_type": "code",
   "execution_count": null,
   "metadata": {},
   "outputs": [],
   "source": []
  },
  {
   "cell_type": "markdown",
   "metadata": {},
   "source": [
    "### Ch2\n",
    "write a program to print pascal's triangle for a number of lines (input parameter). Optionally use memoizing to accallerate the code"
   ]
  },
  {
   "cell_type": "code",
   "execution_count": null,
   "metadata": {},
   "outputs": [],
   "source": []
  },
  {
   "cell_type": "markdown",
   "metadata": {},
   "source": [
    "### Ch3 \n",
    "implement a robot in Julia.\n",
    "* robot should be a type\n",
    "* robot should have its methods to deal with movement (forward, turning etc.)\n",
    "* write a function that takes a robot and string input to do a series of actions \n",
    "  \n",
    "  e.g. \"FFLLARR\" could move  the robot Forward for two steps, then turn Left twice, do an Action and finally turn Right twice."
   ]
  },
  {
   "cell_type": "code",
   "execution_count": null,
   "metadata": {},
   "outputs": [],
   "source": []
  },
  {
   "cell_type": "markdown",
   "metadata": {},
   "source": [
    "### Ch4\n",
    "write a passwordgenerator:\n",
    "* Length should be an option. \n",
    "* You should somehow be able to make a selection of character types (e.g. uppercase/ lowercase only or also include special characters)"
   ]
  },
  {
   "cell_type": "code",
   "execution_count": null,
   "metadata": {},
   "outputs": [],
   "source": []
  }
 ],
 "metadata": {
  "kernelspec": {
   "display_name": "Julia 1.0.0",
   "language": "julia",
   "name": "julia-1.0"
  },
  "language_info": {
   "file_extension": ".jl",
   "mimetype": "application/julia",
   "name": "julia",
   "version": "1.0.0"
  }
 },
 "nbformat": 4,
 "nbformat_minor": 2
}
