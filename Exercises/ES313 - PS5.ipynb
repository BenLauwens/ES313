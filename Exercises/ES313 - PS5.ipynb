{
 "cells": [
  {
   "cell_type": "markdown",
   "metadata": {},
   "source": [
    "# PS19 Sep - more wordplay\n",
    "Below you find some useful functions for the following applications (Zipf's law & Markov analysis)"
   ]
  },
  {
   "cell_type": "code",
   "execution_count": 2,
   "metadata": {},
   "outputs": [
    {
     "data": {
      "text/plain": [
       "makehist (generic function with 1 method)"
      ]
     },
     "execution_count": 2,
     "metadata": {},
     "output_type": "execute_result"
    }
   ],
   "source": [
    "# useful functions:\n",
    "\n",
    "\"\"\"Split a String into an Array of Strings, removing whitespace and deleting empty values\"\"\"\n",
    "function splitphrase(phrase)\n",
    "   split(phrase,keepempty=false)\n",
    "end\n",
    "\n",
    "\"\"\"Iterate over the Chars in a String and return the letters only of the original String\"\"\"\n",
    "function cleanword(word)\n",
    "    newword = \"\"\n",
    "    for ltr in lowercase(word)\n",
    "        if isletter(ltr)\n",
    "            newword = newword*ltr\n",
    "        end\n",
    "    end\n",
    "    return newword\n",
    "end\n",
    "\n",
    "\"\"\"\n",
    "Opens a .txt file and returns a cleaned list of chronologically occuring words in the text\n",
    "Useful for other applications...\n",
    "\"\"\"\n",
    "function readbook(filename)\n",
    "    book = readlines(filename)\n",
    "    wordlist = []\n",
    "    for line in book\n",
    "        append!(wordlist,splitphrase(line))\n",
    "    end\n",
    "    return cleanword.(wordlist)\n",
    "end\n",
    "\n",
    "\"\"\"Takes a list of words and returns a dictionay with the words as keys and their frequency as values \"\"\"\n",
    "function makehist(list)\n",
    "    hist = Dict()\n",
    "    for item in list\n",
    "        hist[item] = get(hist,item,0) + 1\n",
    "    end\n",
    "end"
   ]
  },
  {
   "cell_type": "markdown",
   "metadata": {},
   "source": [
    "### Zipf's law\n",
    "\n",
    "The “rank” of a word is its position in an array of words sorted by frequency: the most common word has rank 1, the second most common has rank 2, etc.\n",
    "\n",
    "Zipf’s law describes a relationship between the ranks and frequencies of words in natural languages [(cf. Wikipedia)](https://en.wikipedia.org/wiki/Zipf's_law). Specifically, it predicts that the frequency, $f$ of the word with rank $r$ is:\n",
    "\\begin{equation}\n",
    "f=cr^{−s}\n",
    "\\end{equation}\n",
    "where $s$ and $c$ are parameters that depend on the language and the text. If you take the logarithm of both sides of this equation, you get:\n",
    "\\begin{equation}\n",
    "\\log{f}=\\log{c}-s\\log{r}\n",
    "\\end{equation}\n",
    "\n",
    "So if you plot $\\log{f}$ versus $\\log{r}$, you should get a straight line with slope $−s$ and intercept $\\log{c}$. For the linear regression you can use the following:\n",
    "```Julia\n",
    "\"\"\"Simple linear regression implementation\"\"\"\n",
    "function linreg(x, y) \n",
    "    hcat(fill!(similar(x), 1), x) \\ y\n",
    "end\n",
    "```\n",
    "\n",
    "A graphical representation of your data and the model is definitely worth considering. You can use this with the Plots package and the appropriote back-end (e.g. GR). For more information on the Plots package cf. [its documentation](https://juliaplots.org) and various examples on the web.\n",
    "\n",
    "```Julia\n",
    "using Plots\n",
    "Plots.gr()\n",
    "```"
   ]
  },
  {
   "cell_type": "markdown",
   "metadata": {},
   "source": [
    "#### Tasks(s)\n",
    "* Write a program that reads a text from a file, counts word frequencies. Determine $c$ and $s experimentally for texts in different languages.\n",
    "* Try your application for several texts: \"3mousquetaires.txt\", \"Dracula.txt\", \"deoogst.txt\". Do you observe important differences between the languages?"
   ]
  },
  {
   "cell_type": "code",
   "execution_count": null,
   "metadata": {},
   "outputs": [],
   "source": []
  },
  {
   "cell_type": "markdown",
   "metadata": {},
   "source": [
    "### Markov analysis\n",
    "A series of random words seldom makes sense because there is no relationship between successive words. For example, in a real sentence you would expect an article like “the” to be followed by an adjective or a noun, and probably not a verb or adverb.\n",
    "\n",
    "One way to measure these kinds of relationships is Markov analysis, which characterizes, for a given sequence of words, the probability of the words that might come next. For example, the song Eric, the Half a Bee begins:\n",
    "\n",
    "```\n",
    "Half a bee, philosophically,\n",
    "Must, ipso facto, half not be.\n",
    "But half the bee has got to be\n",
    "Vis a vis, its entity. D’you see?\n",
    "\n",
    "But can a bee be said to be\n",
    "Or not to be an entire bee\n",
    "When half the bee is not a bee\n",
    "Due to some ancient injury?\n",
    "```\n",
    "\n",
    "In this text, the phrase “half the” is always followed by the word “bee”, but the phrase “the bee” might be followed by either “has” or “is”.\n",
    "\n",
    "The result of Markov analysis is a mapping from each prefix (like “half the” and “the bee”) to all possible suffixes (like “has” and “is”). suffix)\n",
    "\n",
    "Given this mapping, you can generate a random text by starting with any prefix and choosing at random from the possible suffixes. Next, you can combine the end of the prefix and the new suffix to form the next prefix, and repeat.\n",
    "\n",
    "For example, if you start with the prefix “Half a”, then the next word has to be “bee”, because the prefix only appears once in the text. The next prefix is “a bee”, so the next suffix might be “philosophically”, “be” or “due”.\n",
    "\n",
    "#### Task(s)\n",
    "* Design an application that takes a text and performs a Markov analysis for a sequence of words. The length $n$ of the sequence should be a variable.\n",
    "    * You should register not only the possible word to come next, but also its frequency\n",
    "* Design an application that, for a given sequence, returns the next word, based on the probabilities that you derive from the frequencies (the word should be chosen at random, taking into account the probabilities.\n",
    "* Use the two tools you just built to generate a random text, based on $n$ starting words of a given length $N$\n",
    "    * Try it out on the poem, is the result as expected?\n"
   ]
  },
  {
   "cell_type": "code",
   "execution_count": null,
   "metadata": {},
   "outputs": [],
   "source": []
  }
 ],
 "metadata": {
  "kernelspec": {
   "display_name": "Julia 1.0.0",
   "language": "julia",
   "name": "julia-1.0"
  },
  "language_info": {
   "file_extension": ".jl",
   "mimetype": "application/julia",
   "name": "julia",
   "version": "1.0.0"
  }
 },
 "nbformat": 4,
 "nbformat_minor": 2
}
