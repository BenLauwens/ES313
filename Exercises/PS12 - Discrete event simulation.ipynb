{
 "cells": [
  {
   "cell_type": "markdown",
   "metadata": {},
   "source": [
    "# Discrete event simulation\n",
    "We will do several small application to familiarise you with the different concepts of resumable functions and discrete event simulation."
   ]
  },
  {
   "cell_type": "markdown",
   "metadata": {},
   "source": [
    "## Working with resumable functions\n",
    "Try to implement the pascal triangle, using a resumable function. Each iteration should return a line of the Pascal trianlge. (rem: a resumable function returns an iterator you need to call)."
   ]
  },
  {
   "cell_type": "code",
   "execution_count": null,
   "metadata": {},
   "outputs": [],
   "source": [
    "using ResumableFunctions"
   ]
  },
  {
   "cell_type": "markdown",
   "metadata": {},
   "source": [
    "Try to implement a root finding method using a resumable function (e.g. square root of a number)"
   ]
  },
  {
   "cell_type": "markdown",
   "metadata": {},
   "source": [
    "## Working with SimJulia"
   ]
  },
  {
   "cell_type": "code",
   "execution_count": 1,
   "metadata": {},
   "outputs": [],
   "source": [
    "using Logging       # for proper logging\n",
    "using SimJulia      # for DES\n",
    "using Distributions # for random events "
   ]
  },
  {
   "cell_type": "markdown",
   "metadata": {},
   "source": [
    "### Using containers\n",
    "Containers represent a level of something (e.g. liquid level, energy ...). If you want to store a specific type of object, you will be better of using a store (which uses a FIFO principle).\n",
    "\n",
    "\n",
    "#### Basics\n",
    "Experiment a bit with containers (`::Container`). Discover their attributes (environment, capacity, level, get_queue, put_queue, seid) and find out how to use them. Generate a simple setting and verify everything works as intended (e.g. a filler process, an process that empties the container and a monitor process).\n"
   ]
  },
  {
   "cell_type": "code",
   "execution_count": 123,
   "metadata": {},
   "outputs": [
    {
     "data": {
      "text/plain": [
       "monitor (generic function with 1 method)"
      ]
     },
     "execution_count": 123,
     "metadata": {},
     "output_type": "execute_result"
    }
   ],
   "source": [
    "@resumable function fillme(sim::Simulation, c::Container)\n",
    "    while true \n",
    "        @yield timeout(sim,rand(1:10))\n",
    "        @yield put(c,1)\n",
    "        @info \"item added to the container on time $(now(sim))\"\n",
    "    end\n",
    "end\n",
    "\n",
    "@resumable function emptyme(sim::Simulation, c::Container)\n",
    "    while true\n",
    "        @yield timeout(sim,rand(1:10))\n",
    "        n = rand(1:3)\n",
    "        @info \"Filed my request for $(n) items on time $(now(sim))\"\n",
    "        @yield get(c,n)\n",
    "        @info \"Got my $(n) items on time $(now(sim))\"\n",
    "    end\n",
    "end\n",
    "    \n",
    "@resumable function monitor(sim::Simulation, c::Container)\n",
    "    while true\n",
    "        @logmsg LogLevel(-1000) \"$(now(sim)) - current container level: $(c.level)/$(c.capacity)\"\n",
    "        @yield timeout(sim,1)\n",
    "    end\n",
    "end"
   ]
  },
  {
   "cell_type": "code",
   "execution_count": 126,
   "metadata": {},
   "outputs": [
    {
     "name": "stdout",
     "output_type": "stream",
     "text": [
      "┌ Info: item added to the container on time 7.0\n",
      "└ @ Main In[106]:5\n",
      "┌ Info: Filed my request for 1 items on time 8.0\n",
      "└ @ Main In[106]:13\n",
      "┌ Info: Got my 1 items on time 8.0\n",
      "└ @ Main In[106]:15\n",
      "┌ Info: Filed my request for 3 items on time 9.0\n",
      "└ @ Main In[106]:13\n",
      "┌ Info: item added to the container on time 11.0\n",
      "└ @ Main In[106]:5\n",
      "┌ Info: item added to the container on time 20.0\n",
      "└ @ Main In[106]:5\n",
      "┌ Info: item added to the container on time 28.0\n",
      "└ @ Main In[106]:5\n",
      "┌ Info: Got my 3 items on time 28.0\n",
      "└ @ Main In[106]:15\n"
     ]
    }
   ],
   "source": [
    "# add global logger\n",
    "Logging.global_logger(Logging.SimpleLogger(stdout,-5000))\n",
    "Logging.disable_logging(LogLevel(-1000)); # to avoid logmessages\n",
    "\n",
    "# setup the simulation\n",
    "sim = Simulation()\n",
    "c = Container(sim,10)\n",
    "@process filler(sim,c)\n",
    "@process monitor(sim,c)\n",
    "@process emptier(sim,c)\n",
    "run(sim,30)"
   ]
  },
  {
   "cell_type": "markdown",
   "metadata": {},
   "source": [
    "#### Small application with statistics \n",
    "Consider a candy machines that is continuously being monitored by a supervisor.  If the level is below a given treshold, the supervisor fills the machine up. \n",
    "* Client arrival follows an exponential distribution with parameter $\\theta = 1$ and each client takes two candies at a time.\n",
    "* Look at the mean time between refills. Is this what you would expect?\n",
    "* What happens when the amount of candy varies?  Is this still what you would expect? E.g. a clients takes one, two or three candies."
   ]
  },
  {
   "cell_type": "code",
   "execution_count": 1,
   "metadata": {},
   "outputs": [],
   "source": [
    "# dependencies\n",
    "using SimJulia\n",
    "using Distributions\n",
    "using Logging"
   ]
  },
  {
   "cell_type": "code",
   "execution_count": null,
   "metadata": {},
   "outputs": [],
   "source": []
  },
  {
   "cell_type": "markdown",
   "metadata": {},
   "source": [
    "### Using stores\n",
    "#### basic\n",
    "We model a store to hold our own type of object (struct) that can be used by other. Reconsider the same small scale application as before for the containers, i.e. generate a simple setting and verify everything works as intended (e.g. a filler process, an process that empties the container and a monitor process). Implement a chicken vendor selling three sizes of chicken and clients needing one of three as well.\n",
    "\n",
    "Stores can also work with priorities, but more on that later (cf. below). Also take a look at all the different fields/attributes of the store (capacity, env, get_queue, items, put_queue, seid). These fields can be used to monitor queue length at a given time (be it upon the request or be it on a continuous basis).\n",
    "\n",
    "Capacity is basically limited to max of UInt64 (i.e. very large $\\approx$ 18e18) `Int128(typemax(UInt64))/1e18`"
   ]
  },
  {
   "cell_type": "code",
   "execution_count": null,
   "metadata": {},
   "outputs": [],
   "source": []
  },
  {
   "cell_type": "markdown",
   "metadata": {},
   "source": [
    "\n",
    "#### Small application\n",
    "When modeling physical things such as cables, RF propagation, etc. encapsulation of this process is better in order to keep the propagation mechanism outside of the sending and receiving processes.\n",
    "\n",
    "Consider the following:\n",
    "* a sender sends messages on a regular interval (e.g. every 5 minutes)\n",
    "* a receiver is listening on a permanent basis for new messages\n",
    "* the transfer between both of them is not instantaneous, but takes some time. To model this, you can store (hint: use a `::Store`) the messages on the cable for later reception.\n",
    "\n",
    "\n",
    "Credits to Ben Lauwens"
   ]
  },
  {
   "cell_type": "code",
   "execution_count": null,
   "metadata": {},
   "outputs": [],
   "source": []
  },
  {
   "cell_type": "markdown",
   "metadata": {},
   "source": [
    "## Another store example: \n",
    "suppose you have two machines, each producing a different product (with different production times). The assembly of a third product requires both of these. Analyse this simple case to find bottlenecks is the proces"
   ]
  },
  {
   "cell_type": "code",
   "execution_count": null,
   "metadata": {},
   "outputs": [],
   "source": []
  },
  {
   "cell_type": "markdown",
   "metadata": {},
   "source": [
    "### Some tips and tricks with small examples\n",
    "#### Linking a process to a type\n",
    "* Suppose you create your own type (e.g. a puppy) that has its associated process (e.g. switching between sleeping, walking and getting food) which uses the object itself.\n",
    "* generate another process that startles a random puppy at a given time (mimicking being picked up)\n"
   ]
  },
  {
   "cell_type": "code",
   "execution_count": null,
   "metadata": {},
   "outputs": [],
   "source": []
  },
  {
   "cell_type": "markdown",
   "metadata": {},
   "source": [
    "### How to chose if only one event needs to be realised\n",
    "#### Example setting: \n",
    "an agent requests a resource but only has a limited amount of patience before no longer wanting/needing the resource. \n",
    "```Julia\n",
    "@resumable function agent(sim::Simulation,con::Resource)\n",
    "    req = request(con)\n",
    "    res = @yield req | timeout(sim,4)\n",
    "    if res[req].state == SimJulia.processed\n",
    "        println(\"using my resource...\")\n",
    "        @yield timeout(sim,1)\n",
    "        release(res)\n",
    "    else\n",
    "        println(\"patience ran out... on time $(sim.time)\")\n",
    "        cancel(con,req)\n",
    "    end\n",
    "end\n",
    "\n",
    "sim = Simulation()\n",
    "con = Resource(sim,0)\n",
    "@process agent(sim,con)\n",
    "run(sim,10)\n",
    "```\n",
    "`patience ran out... on time 4.0`\n",
    "\n",
    "For the example, a simulation is made with a `::Resource` with a capacity of $0$. So the agent can never obtain the requested resource. In the `agent` function the following happens:\n",
    "1. A request for `con::Resource` is made. The type of `req` is `SimJulia.Put`. This event will be triggered by an `@yield`\n",
    "2. the variable `req` is a dictionary with the events as key and the `::StateValue` as value. The first event to have been processed will have its `::StateValue` equal to `SimJulia.processed`\n",
    "3. the `if` conditions test whether the `::StateValue` of our request is equal to `SimJulia.processed`. \n",
    "  1. If this is the case, the agent obtains the `::Resource`, uses it for 1 time unit and releases it back for further use.\n",
    "  2. If this is NOT the case, the other event will have taken place (in this case the timeout) and we remove the request from the `::Resource` queue with `cancel`.\n",
    "4. the simulation terminates since no more processes are active on time 4.0.\n",
    "\n",
    "```Julia\n",
    "req: SimJulia.Put 4\n",
    "\n",
    "res: Dict{AbstractEvent,SimJulia.StateValue}(SimJulia.Timeout 5=>StateValue(processed, nothing),\n",
    "SimJulia.Put 4=>StateValue(idle, nothing))\n",
    "```\n",
    "\n",
    "The above method can also be used for more than two events where the completion of a single one of them is sufficient."
   ]
  },
  {
   "cell_type": "markdown",
   "metadata": {},
   "source": [
    "### How to chose between whatever resource comes available first (resource concurrency)\n",
    "Setting: when dealing with multiple available resources, it might be sufficient for an agent to obtain a single one of them in order to be able to proceed. In the example below this is illustrated for two different resources. The difference between both is the time required before they become available again. One of both resource has two units while the other only has one. Several agents (requiring just one of both resources to function) are active.\n",
    "```Julia\n",
    "@resumable function agent(sim::Simulation,res1::Resource,res2::Resource,name::String)\n",
    "    r1 = request(res1)\n",
    "    r2 = request(res2)\n",
    "    res = @yield r1 | r2\n",
    "    if res[r1].state == SimJulia.processed\n",
    "        println(\"$name obtains slow resource on time $(sim.time)\")\n",
    "        if res[r2].state == SimJulia.processed\n",
    "            release(res2)\n",
    "        else\n",
    "            cancel(res2,r2)\n",
    "        end\n",
    "        @yield timeout(sim,2)\n",
    "        release(res1)\n",
    "        println(\"$name releases slow resource on time $(sim.time)\")\n",
    "    else\n",
    "        cancel(res1,r1)\n",
    "        println(\"$name obtains fast resource on time $(sim.time)\")\n",
    "        @yield timeout(sim,1)\n",
    "        release(res2)\n",
    "        println(\"$name releases fast resource on time $(sim.time)\")\n",
    "    end\n",
    "end\n",
    "\n",
    "sim = Simulation()\n",
    "slowresource = Resource(sim,1)\n",
    "fastresource = Resource(sim,2)\n",
    "for i in 1:7\n",
    "    @process agent(sim,slowresource,fastresource,\"Agent $i\")\n",
    "end\n",
    "run(sim)\n",
    "```\n",
    "\n",
    "```\n",
    "Agent 1 obtains slow resource on time 0.0\n",
    "Agent 2 obtains fast resource on time 0.0\n",
    "Agent 3 obtains fast resource on time 0.0\n",
    "Agent 2 releases fast resource on time 1.0\n",
    "Agent 3 releases fast resource on time 1.0\n",
    "Agent 4 obtains fast resource on time 1.0\n",
    "Agent 5 obtains fast resource on time 1.0\n",
    "Agent 1 releases slow resource on time 2.0\n",
    "Agent 4 releases fast resource on time 2.0\n",
    "Agent 5 releases fast resource on time 2.0\n",
    "Agent 6 obtains slow resource on time 2.0\n",
    "Agent 7 obtains fast resource on time 2.0\n",
    "Agent 7 releases fast resource on time 3.0\n",
    "Agent 6 releases slow resource on time 4.0\n",
    "```\n",
    "In the agent the following happens:\n",
    "1. Individual requests for both resources `res1` and `res2` are made. The type of `r1`/`r2` is `SimJulia.Put`. The events will be triggered by an `@yield`\n",
    "2. the variable `res` is a dictionary with the events as key and the `::StateValue` as value. The first event to have been processed will have its `::StateValue` equal to `SimJulia.processed`\n",
    "3. the `if` conditions test whether the `::StateValue` of our request for resource `res1` is equal to `SimJulia.processed`. \n",
    "  1. If this is the case, the agent obtains the `::Resource`. Meanwhile is it possible that `res2` was also available at the same time. In order to avoid double resource usage we need to do one of both things:\n",
    "    * release `res2` if it was obtained at the sime time as `res1`\n",
    "    * remove the request for `res2` from its queue with `cancel`\n",
    "  \n",
    "    In the example `res1` is consided as the slow resource. The agent uses it for 2 time units and releases it back for further use.\n",
    "  2. If this is NOT the case, we will have obtained `res2`. Again, to avoid double resource usage, we remove the request for `res1` from its queue with `cancel`. The agent uses it for 1 time unit and releases `res2` back for further use.\n",
    "4. the simulation terminates when all agents have been processed."
   ]
  },
  {
   "cell_type": "markdown",
   "metadata": {},
   "source": [
    "### Competing for a Resource\n",
    "When to entities request a `::Resource` at the same time, you can determine which one should get priority base on the `priority` keyword in the `request` instruction. The lower the integer value, the higher the priority. Default values for all request are equal to 0.\n",
    "\n",
    "```Julia\n",
    "using SimJulia\n",
    "\n",
    "@resumable function grabsource(sim::Simulation,res::Resource)\n",
    "    for i in 1:4\n",
    "        @yield request(res)\n",
    "    end\n",
    "    println(\"got them all on time $(sim.time)\")\n",
    "    @yield timeout(sim,10)\n",
    "    @yield release(res)\n",
    "    println(\"released ONE on time $(sim.time)\")\n",
    "end\n",
    "\n",
    "@resumable function priosource(sim::Simulation,res::Resource)\n",
    "    @yield timeout(sim,1)\n",
    "    @yield request(res,priority = -1)\n",
    "    println(\"PRIO got it at $(sim.time)\")\n",
    "    @yield timeout(sim,1)\n",
    "    @yield release(res,priority = -1)\n",
    "end\n",
    "\n",
    "@resumable function secondsource(sim::Simulation,res::Resource)\n",
    "    @yield timeout(sim,1)\n",
    "    @yield request(res,priority = 1)\n",
    "    println(\"SECOND got it at $(sim.time)\")\n",
    "    @yield timeout(sim,1)\n",
    "    @yield release(res)\n",
    "end\n",
    "\n",
    "sim = Simulation()\n",
    "res = Resource(sim,4)\n",
    "@process grabsource(sim, res)\n",
    "@process priosource(sim, res)\n",
    "@process secondsource(sim,res)\n",
    "run(sim,20)\n",
    "```\n",
    "```\n",
    "got them all on time 0.0\n",
    "released ONE on time 10.0\n",
    "PRIO got it at 10.0\n",
    "SECOND got it at 11.0\n",
    "```\n",
    "\n",
    "1. Initialy (in time 0) all `Resources` are attributed to the grabsource process.\n",
    "2. On time one, both the priosource and secondsource process request a resource. The priority of priosource however is a lower number and gets a higher priority.\n",
    "2. On time 10 the grabsource process releases one `Resources`. At the sime time, the `Resource`is attributed to the priosource process.\n",
    "\n"
   ]
  },
  {
   "cell_type": "code",
   "execution_count": null,
   "metadata": {},
   "outputs": [],
   "source": []
  }
 ],
 "metadata": {
  "kernelspec": {
   "display_name": "Julia 1.2.0",
   "language": "julia",
   "name": "julia-1.2"
  },
  "language_info": {
   "file_extension": ".jl",
   "mimetype": "application/julia",
   "name": "julia",
   "version": "1.2.0"
  }
 },
 "nbformat": 4,
 "nbformat_minor": 4
}
