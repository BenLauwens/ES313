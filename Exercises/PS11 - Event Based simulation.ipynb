{
 "cells": [
  {
   "cell_type": "markdown",
   "metadata": {},
   "source": [
    "# Discrete event simulation - Intro\n",
    "\n",
    "\n",
    "## General approach\n",
    "When a simulation is used to answer a question or to solve a problem, the following steps are involved:\n",
    "* Formulate the problem and plan the study\n",
    "* Collect the data and formulate the simulation Model\n",
    "* Check the accuracy of the simulation model (assumptions, limitations etc.)\n",
    "* Construct a computer program\n",
    "* Test the validity of the simulation model\n",
    "* Plan the simulations to be performed\n",
    "* Conduct the simulation runs and analyze the results\n",
    "* Present the conclusions\n",
    "\n",
    "We will run some small simulations going over all these steps."
   ]
  },
  {
   "cell_type": "markdown",
   "metadata": {},
   "source": [
    "# Intro to monte carlo simulation\n",
    "Idea: rely on repeated random sampling to obtain numerical results."
   ]
  },
  {
   "cell_type": "markdown",
   "metadata": {},
   "source": [
    "## Estimating $\\pi$\n",
    "We know that the area of a circle is given by $\\pi r^2$. Use this information to approximate $\\pi$.\n"
   ]
  },
  {
   "cell_type": "code",
   "execution_count": null,
   "metadata": {},
   "outputs": [],
   "source": []
  },
  {
   "cell_type": "markdown",
   "metadata": {},
   "source": [
    "## Application - Casino\n",
    "A casino offers a coin flipping game with the following rules:\n",
    "1. Each play of the game involves repeatedly flipping an unbiased coin \n",
    "2. The game stops when de difference between the number of heads tossed and the number of tails is 3\n",
    "3. If you decide to play, each flip costs you € 1. You are not allowed to quit during a play of the game.\n",
    "4. You receive € 8 at the end of each play of the game.\n",
    "\n",
    "\n",
    "The problem at hand is to decide whether to play or not and to get an idea of the expected gains and the length of each game.\n",
    "\n",
    "*Tip:* it can be analytically proven that the true mean of the number of flips required for a play of this game is 9. \n",
    "\n",
    "**Steps in the simulation process:**\n",
    "* Formulate the problem and plan the study $\\Rightarrow$ OK, cf. suppra\n",
    "* Collect the data and formulate the simulation Model:\n",
    "    \n",
    "    Set $X$ the outcome of one coin flip $\\Rightarrow X\\sim \\mathcal{Be}(1/2)$\n",
    "* Check the accuracy of the simulation model $\\Rightarrow$ OK\n",
    "* Construct a computer program:\n",
    "\n"
   ]
  },
  {
   "cell_type": "code",
   "execution_count": null,
   "metadata": {},
   "outputs": [],
   "source": []
  },
  {
   "cell_type": "markdown",
   "metadata": {},
   "source": [
    "* Test the validity of the simulation model\n",
    "\n",
    "\n"
   ]
  },
  {
   "cell_type": "code",
   "execution_count": null,
   "metadata": {},
   "outputs": [],
   "source": []
  },
  {
   "cell_type": "markdown",
   "metadata": {},
   "source": [
    "* Plan the simulations to be performed: we will run a certain number of simulations (optimal number to be defined ULT)"
   ]
  },
  {
   "cell_type": "code",
   "execution_count": null,
   "metadata": {},
   "outputs": [],
   "source": []
  },
  {
   "cell_type": "markdown",
   "metadata": {},
   "source": [
    "* Conduct the simulation runs and analyze the results\n"
   ]
  },
  {
   "cell_type": "code",
   "execution_count": null,
   "metadata": {},
   "outputs": [],
   "source": []
  },
  {
   "cell_type": "markdown",
   "metadata": {},
   "source": [
    "* Present the conclusions"
   ]
  },
  {
   "cell_type": "code",
   "execution_count": null,
   "metadata": {},
   "outputs": [],
   "source": []
  },
  {
   "cell_type": "markdown",
   "metadata": {},
   "source": [
    "We have discovered that for a single simulation run to truthfully represent the reality, we need 10e5 runs/simulation. With this knowledge, we find the average game length to be 9 (same as theoretically predicted) and the average gain to be around € -1, i.e. on average you will lose. It is also interesting to consider that the maximum gain of a single game is € 5. This can only happen if the first three coin flips are all the same."
   ]
  },
  {
   "cell_type": "markdown",
   "metadata": {},
   "source": [
    "**Extra's:**\n",
    "* Do a parametric study on the previous game where you investigate the influence of the difference between the amount of heads and tails. What do you think?"
   ]
  },
  {
   "cell_type": "code",
   "execution_count": null,
   "metadata": {},
   "outputs": [],
   "source": []
  },
  {
   "cell_type": "markdown",
   "metadata": {},
   "source": [
    "## Project management\n",
    "Simulation can be used for project management. Suppose we have the following process:\n",
    "\n",
    "| Activity | Predecessors | Completion time |\n",
    "|----------|--------------|---------------- |\n",
    "| A | - | $\\sim \\mathcal{N}(6,1)$ |\n",
    "| B | A | $\\sim \\mathcal{U}(6,10)$ |\n",
    "| C | A | $\\sim \\mathcal{U}(1.5,2.5)$ |\n",
    "| D | B,C | $\\sim \\mathcal{U}(1.5,3)$ |\n",
    "| E | D | $\\sim \\mathcal{U}(3,6)$ |\n",
    "| F | E | $\\sim \\mathcal{U}(2,5)$ |\n",
    "| G | E | $\\sim \\mathcal{U}(3,5)$ |\n",
    "| H | F,G | $\\sim \\mathcal{U}(4,7)$ |\n",
    "| I | H | $\\sim \\mathcal{U}(5,7)$ |\n",
    "| J | H | $\\le 5$ |\n",
    "\n",
    "We want the get an idea of:\n",
    "1. the mean project completion time\n",
    "2. the probability that the project will be finished in less than 36 time units\n",
    "3. determine the critical subprocesses (make a sensitivity chart)"
   ]
  },
  {
   "cell_type": "code",
   "execution_count": null,
   "metadata": {},
   "outputs": [],
   "source": []
  }
 ],
 "metadata": {
  "kernelspec": {
   "display_name": "Julia 1.2.0",
   "language": "julia",
   "name": "julia-1.2"
  },
  "language_info": {
   "file_extension": ".jl",
   "mimetype": "application/julia",
   "name": "julia",
   "version": "1.2.0"
  }
 },
 "nbformat": 4,
 "nbformat_minor": 4
}
