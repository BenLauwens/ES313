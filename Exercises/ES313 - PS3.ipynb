{
 "cells": [
  {
   "cell_type": "markdown",
   "metadata": {},
   "source": [
    "# PS 12 Sep - string, wordplay, arrays, tuples"
   ]
  },
  {
   "cell_type": "markdown",
   "metadata": {},
   "source": [
    "\n",
    "\n",
    "#### Fruitful functions, indexing, logical operators, type checking, incremental development etc.\n",
    "Write a function that take an array and an index $i$ as input and returns the value at position $i$\n",
    "\n",
    "\n",
    "\n",
    "Test your function on the array `x = [1 2 3 4]`.\n"
   ]
  },
  {
   "cell_type": "code",
   "execution_count": null,
   "metadata": {},
   "outputs": [],
   "source": []
  },
  {
   "cell_type": "markdown",
   "metadata": {},
   "source": [
    "In Julia, indexing starts at 1. Write a function that takes an index and a maximum dimension and maps it to an appropriate value. Example for `x = [1 2 3 4]`.\n",
    "\n",
    "* index: -1 0 1 2 3 4 5 6\n",
    "* value:  3 4 1 2 3 4 1 2"
   ]
  },
  {
   "cell_type": "code",
   "execution_count": null,
   "metadata": {},
   "outputs": [],
   "source": []
  },
  {
   "cell_type": "markdown",
   "metadata": {},
   "source": [
    "Use the mapper function to create a modified selection function that takes an array and a value and returns the element (cyclic)."
   ]
  },
  {
   "cell_type": "code",
   "execution_count": null,
   "metadata": {},
   "outputs": [],
   "source": []
  },
  {
   "cell_type": "markdown",
   "metadata": {},
   "source": [
    "Expand the capacities of the previously created function to a matrix. Test the function on the array `x = [1 2 3 4; 5 6 7 8]`.\n",
    "\n",
    "Useful instruction: `?size()`"
   ]
  },
  {
   "cell_type": "code",
   "execution_count": null,
   "metadata": {},
   "outputs": [],
   "source": []
  },
  {
   "cell_type": "markdown",
   "metadata": {},
   "source": [
    "**Challenge:**\n",
    "build a function that takes a matrix $A$,two indices $(i,j)$ and a value $n$ that returns a square submatrix of A of size $1+2n$. E.g. if $n=0$, the function should only return $A[i,j]$. If $n=1$, the  function should return a $3\\times3$ matrix with $A[i,j]$ as central element etc. \n",
    "\n",
    "Use the function you just built to map negative indices and values that exceed the matrix dimension to their corresponding value."
   ]
  },
  {
   "cell_type": "code",
   "execution_count": null,
   "metadata": {},
   "outputs": [],
   "source": []
  },
  {
   "cell_type": "markdown",
   "metadata": {},
   "source": [
    "#### Basic string iteration"
   ]
  },
  {
   "cell_type": "markdown",
   "metadata": {},
   "source": [
    "Gerate a funtion that asks a users' first and last name and return a message greeting the user and returning the number of elapsed days, hours and seconds since the UNIX epoch"
   ]
  },
  {
   "cell_type": "code",
   "execution_count": null,
   "metadata": {},
   "outputs": [],
   "source": []
  },
  {
   "cell_type": "markdown",
   "metadata": {},
   "source": [
    "##### simple Crypto\n",
    "A Caesar cypher is a weak form of encryption that involves “rotating” each letter by a fixed number of places. To rotate a letter means to shift it through the alphabet, wrapping around to the beginning if necessary, so ’A’ rotated by 3 is ’D’ and ’Z’ rotated by 1 is ’A’.\n",
    "\n",
    "To rotate a word, rotate each letter by the same amount. For example, \"cheer\" rotated by 7 is \"jolly\" and \"melon\" rotated by -10 is \"cubed\". In the movie 2001: A Space Odyssey, the ship computer is called HAL, which is IBM rotated by -1.\n",
    "\n",
    "Write a function called rotateword that takes a string and an integer as parameters, and returns a new string that contains the letters from the original string rotated by the given amount.\n",
    "\n",
    "Hint: ?Int() ?Char"
   ]
  },
  {
   "cell_type": "code",
   "execution_count": null,
   "metadata": {},
   "outputs": [],
   "source": []
  },
  {
   "cell_type": "markdown",
   "metadata": {},
   "source": [
    "##### palindromes\n",
    "Since a string can be traversed, it is easy to construct a palindrome. Write a function to verify if is a word is a palindrome."
   ]
  },
  {
   "cell_type": "code",
   "execution_count": null,
   "metadata": {},
   "outputs": [],
   "source": []
  },
  {
   "cell_type": "markdown",
   "metadata": {},
   "source": [
    "\n",
    "##### anagrams\n",
    "An anagram is a word or phrase formed by rearranging the letters of a different word or phrase, typically using all the original letters exactly once. For example, `binary`  can be rearranged into `brainy`.\n",
    "\n",
    "Write a function that returns a list of anagrams of length x"
   ]
  },
  {
   "cell_type": "code",
   "execution_count": null,
   "metadata": {},
   "outputs": [],
   "source": []
  },
  {
   "cell_type": "markdown",
   "metadata": {},
   "source": [
    "#### Zipf's law\n",
    "\n",
    "The “rank” of a word is its position in an array of words sorted by frequency: the most common word has rank 1, the second most common has rank 2, etc.\n",
    "\n",
    "Zipf’s law describes a relationship between the ranks and frequencies of words in natural languages [(cf. Wikipedia)](https://en.wikipedia.org/wiki/Zipf's_law). Specifically, it predicts that the frequency, $f$ of the word with rank $r$ is:\n",
    "\\begin{equation}\n",
    "f=cr^{−s}\n",
    "\\end{equation}\n",
    "where $s$ and $c$ are parameters that depend on the language and the text. If you take the logarithm of both sides of this equation, you get:\n",
    "\\begin{equation}\n",
    "\\log{f}=\\log{c}-s\\log{r}\n",
    "\\end{equation}\n",
    "\n",
    "So if you plot $\\log{f}$ versus $\\log{r}$, you should get a straight line with slope $−s$ and intercept $\\log{c}$.\n",
    "\n",
    "Write a program that reads a text from a file, counts word frequencies. Determine $c$ and $s$ experimentally for texts in different languages.\n",
    "\n",
    "For the linear regression you can use the following:\n",
    "```Julia\n",
    "\"\"\"Simple linear regression implementation\"\"\"\n",
    "function linreg(x, y) \n",
    "    hcat(fill!(similar(x), 1), x) \\ y\n",
    "end\n",
    "```"
   ]
  },
  {
   "cell_type": "code",
   "execution_count": null,
   "metadata": {},
   "outputs": [],
   "source": [
    "# Example:"
   ]
  },
  {
   "cell_type": "code",
   "execution_count": null,
   "metadata": {},
   "outputs": [],
   "source": []
  }
 ],
 "metadata": {
  "kernelspec": {
   "display_name": "Julia 1.0.0",
   "language": "julia",
   "name": "julia-1.0"
  },
  "language_info": {
   "file_extension": ".jl",
   "mimetype": "application/julia",
   "name": "julia",
   "version": "1.0.0"
  }
 },
 "nbformat": 4,
 "nbformat_minor": 2
}
