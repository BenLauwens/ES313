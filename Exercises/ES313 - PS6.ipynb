{
 "cells": [
  {
   "cell_type": "markdown",
   "metadata": {},
   "source": [
    "# PS6 - 26 Sep\n",
    "## Updating your Julia - IJulia configuration\n",
    "From time to time it is suggested to update your system. The code below should be run in a Julia terminal. This might take some time (depending on the amount of packages to be updated and your internet connection).\n",
    "\n",
    "```Julia\n",
    "using Pkg\n",
    "Pkg.update()\n",
    "```"
   ]
  },
  {
   "cell_type": "markdown",
   "metadata": {},
   "source": [
    "## Disk indexing\n",
    "* make a function that scans a folders' (and its subfolders) \n",
    "* alle folders en files inside the roots folder should be indexed\n",
    "* write the structure to a text file, you should destinguish between files and folder (for readability)\n",
    "* Use indentation in your text file to destinguish different levels\n",
    "* test your application\n",
    "\n",
    "An example output is given below:\n",
    "```Julia\n",
    "loc = \"/Users/bart/Documents/KMS/ES313/ES313.jl/Exercises/spygames/\"\n",
    "listfolder(loc)\n",
    "```\n",
    "\n",
    "```\n",
    "Analysis of /Users/bart/Documents/KMS/ES313/ES313.jl/Exercises/spygames/:\n",
    "\n",
    "Folders in /Users/bart/Documents/KMS/ES313/ES313.jl/Exercises/spygames/:\n",
    "\t[HIDDEN].ipynb_checkpoints\n",
    "\tFiles in /Users/bart/Documents/KMS/ES313/ES313.jl/Exercises/spygames//.ipynb_checkpoints:\n",
    "\t\tWarning-checkpoint.txt\n",
    "\ttype 2\n",
    "\ttype 3\n",
    "Files in /Users/bart/Documents/KMS/ES313/ES313.jl/Exercises/spygames/:\n",
    "\t[HIDDEN].DS_Store\n",
    "\tWarning.txt\n",
    "\n",
    "\n",
    "```"
   ]
  },
  {
   "cell_type": "code",
   "execution_count": null,
   "metadata": {},
   "outputs": [],
   "source": []
  },
  {
   "cell_type": "markdown",
   "metadata": {},
   "source": [
    "### Working with types\n",
    "* Write your own types holding (Lat,Long) coordinates of a point on earth. For ease of use, we will respect the following convention: $Lat\\in\\left[-90°,90°\\right]$ and $Long\\in\\left[0°,360°\\right[$\n",
    "* The shortest path $P$ between two locations on a spere is calculated as follows ($R_{earth} \\approx 6400$km):\n",
    "\\begin{equation}\n",
    "\\cos\\left(p\\right)=\\sin\\left(Lat_{A}\\right)\\sin\\left(Lat_{B}\\right)+\\cos\\left(Lat_{A}\\right)\\cos\\left(Lat_{B}\\right)\\cos\\left(\\Delta Long\\right)\n",
    "\\end{equation}\n",
    "\\begin{equation}\n",
    "P = \\cos^{-1}\\left( p\\right)*R_{earth}\n",
    "\\end{equation}\n",
    "\n",
    "* write a function to determine the shortest path between two points\n",
    "* write a function to determine the two closest or two furthest points from an array of points\n",
    "* try your functions for some locations on the globe (generate random points)\n",
    "* think about how you would like your points to look when printed"
   ]
  },
  {
   "cell_type": "code",
   "execution_count": null,
   "metadata": {},
   "outputs": [],
   "source": []
  }
 ],
 "metadata": {
  "kernelspec": {
   "display_name": "Julia 1.0.0",
   "language": "julia",
   "name": "julia-1.0"
  },
  "language_info": {
   "file_extension": ".jl",
   "mimetype": "application/julia",
   "name": "julia",
   "version": "1.0.0"
  }
 },
 "nbformat": 4,
 "nbformat_minor": 2
}
