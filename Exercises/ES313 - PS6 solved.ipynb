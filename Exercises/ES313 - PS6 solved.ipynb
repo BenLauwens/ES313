{
 "cells": [
  {
   "cell_type": "markdown",
   "metadata": {},
   "source": [
    "# PS6 - 26 Sep\n",
    "## Updating your Julia - IJulia configuration\n",
    "From time to time it is suggested to update your system. The code below should be run in a Julia terminal. This might take some time (depending on the amount of packages to be updated and your internet connection).\n",
    "\n",
    "```Julia\n",
    "using Pkg\n",
    "Pkg.update()\n",
    "```"
   ]
  },
  {
   "cell_type": "markdown",
   "metadata": {},
   "source": [
    "## Disk indexing\n",
    "* make a function that scans a folders' (and its subfolders) \n",
    "* alle folders en files inside the roots folder should be indexed\n",
    "* write the structure to a text file, you should destinguish between files and folder (for readability)\n",
    "* Use indentation in your text file to destinguish different levels\n",
    "* test your application\n",
    "\n",
    "An example output is given below:\n",
    "```Julia\n",
    "loc = \"/Users/bart/Documents/KMS/ES313/ES313.jl/Exercises/spygames/\"\n",
    "listfolder(loc)\n",
    "```\n",
    "\n",
    "```\n",
    "Analysis of /Users/bart/Documents/KMS/ES313/ES313.jl/Exercises/spygames/:\n",
    "\n",
    "Folders in /Users/bart/Documents/KMS/ES313/ES313.jl/Exercises/spygames/:\n",
    "\t[HIDDEN].ipynb_checkpoints\n",
    "\tFiles in /Users/bart/Documents/KMS/ES313/ES313.jl/Exercises/spygames//.ipynb_checkpoints:\n",
    "\t\tWarning-checkpoint.txt\n",
    "\ttype 2\n",
    "\ttype 3\n",
    "Files in /Users/bart/Documents/KMS/ES313/ES313.jl/Exercises/spygames/:\n",
    "\t[HIDDEN].DS_Store\n",
    "\tWarning.txt\n",
    "\n",
    "\n",
    "```"
   ]
  },
  {
   "cell_type": "code",
   "execution_count": 121,
   "metadata": {},
   "outputs": [
    {
     "data": {
      "text/plain": [
       "crawfolder (generic function with 3 methods)"
      ]
     },
     "execution_count": 121,
     "metadata": {},
     "output_type": "execute_result"
    }
   ],
   "source": [
    "function listfolder(loc::String,level=0::Int)\n",
    "    if isdir(loc)≠true\n",
    "        error(\"Please enter a valid dir\")        \n",
    "    end\n",
    "    fname = split(loc,\"/\")[end-1]\n",
    "    # try to open the file, else append\n",
    "    fstream = open(fname*\".txt\",\"w+\")\n",
    "    write(fstream,\"Analysis of $loc:\\n\\n\")\n",
    "    crawfolder(loc,fstream)\n",
    "    close(fstream)\n",
    "end\n",
    "\n",
    "function crawfolder(loc,stream::IO,level=0)\n",
    "    sep = \"\\t\"\n",
    "    cont = readdir(loc)\n",
    "    folders = [f for f in cont if isdir(loc*\"/\"*f)]\n",
    "    files =  [f for f in cont if isfile(loc*\"/\"*f)]\n",
    "    if length(folders) ≠ 0\n",
    "        println(stream,\"$(sep^level)Folders in $loc:\")\n",
    "        for folder in folders\n",
    "            if folder[1]=='.'\n",
    "                println(stream,\"$(sep^(level+1))[HIDDEN]$folder\")\n",
    "            else\n",
    "                println(stream,\"$(sep^(level+1))$folder\")\n",
    "            end\n",
    "            crawfolder(loc*\"/$folder\",stream,level+1)\n",
    "        end\n",
    "    end\n",
    "    if length(files) ≠ 0\n",
    "        println(stream,\"$(sep^level)Files in $loc:\")\n",
    "        for file in files\n",
    "            if file[1] == '.'\n",
    "                println(stream,\"$(sep^(level+1))[HIDDEN]$file\")\n",
    "            else\n",
    "                println(stream,\"$(sep^(level+1))$file\")\n",
    "            end\n",
    "        end\n",
    "    end\n",
    "end"
   ]
  },
  {
   "cell_type": "code",
   "execution_count": 124,
   "metadata": {},
   "outputs": [],
   "source": [
    "loc = \"/Users/bart/Documents/KMS/ES313/ES313.jl/Exercises/spygames/\"\n",
    "listfolder(loc)"
   ]
  },
  {
   "cell_type": "markdown",
   "metadata": {},
   "source": [
    "### Working with types\n",
    "* Write your own types holding (Lat,Long) coordinates of a point on earth. For ease of use, we will respect the following convention: $Lat\\in\\left[-90°,90°\\right]$ and $Long\\in\\left[0°,360°\\right[$\n",
    "* The shortest path $P$ between two locations on a spere is calculated as follows ($R_{earth} \\approx 6400$km):\n",
    "\\begin{equation}\n",
    "\\cos\\left(p\\right)=\\sin\\left(Lat_{A}\\right)\\sin\\left(Lat_{B}\\right)+\\cos\\left(Long_{A}\\right)\\cos\\left(Long_{B}\\right)\\cos\\left(\\Delta Long\\right)\n",
    "\\end{equation}\n",
    "\\begin{equation}\n",
    "P = \\cos^{-1}\\left( p\\right)*R_{earth}\n",
    "\\end{equation}\n",
    "\n",
    "* write a function to determine the shortest path between two points\n",
    "* write a function to determine the two closest or two furthest points from an array of points\n",
    "* try your functions for some locations on the globe (generate random points)\n",
    "* think about how you would like your points to look when printed"
   ]
  },
  {
   "cell_type": "code",
   "execution_count": 54,
   "metadata": {},
   "outputs": [
    {
     "data": {
      "text/plain": [
       "maxdist (generic function with 1 method)"
      ]
     },
     "execution_count": 54,
     "metadata": {},
     "output_type": "execute_result"
    }
   ],
   "source": [
    "struct Point\n",
    "    loc::String\n",
    "    lat::Float64\n",
    "    long::Float64\n",
    "end\n",
    "\n",
    "import Base.show\n",
    "function show(io::IO,p::Point)\n",
    "    write(io,\"\"\"$(p.loc) ($(lpad(round(p.lat,digits=8),5,\" \"))° Lat, $(lpad(round(p.long,digits=8),5,\" \"))° Long)\"\"\")\n",
    "end\n",
    "\n",
    "function degrad(angle::Real)::Real\n",
    "    angle*pi/180\n",
    "end\n",
    "\n",
    "function sp(p1::Point,p2::Point) ::Float64\n",
    "    R = 6400\n",
    "    La = degrad(p1.lat)\n",
    "    Lb = degrad(p2.lat)\n",
    "    Δlong = degrad(p2.long - p1.long)\n",
    "    acos(sin(La)*sin(Lb) + cos(La)*cos(Lb)*cos(Δlong)) * R\n",
    "end\n",
    "\n",
    "function sp(t::Tuple{Point,Point})\n",
    "    sp(t[1],t[2])\n",
    "end\n",
    "\n",
    "function mindist(p::Array{Point,1})\n",
    "    a = [(a,b) for a in p for b in p if a≠b]\n",
    "    dist, ind = findmin(sp.(a))\n",
    "    return a[ind],dist\n",
    "end\n",
    "                \n",
    "function maxdist(p::Array{Point,1})\n",
    "    a = [(a,b) for a in p for b in p if a≠b]\n",
    "    dist, ind = findmax(sp.(a))\n",
    "    return a[ind],dist\n",
    "end"
   ]
  },
  {
   "cell_type": "code",
   "execution_count": 57,
   "metadata": {},
   "outputs": [
    {
     "data": {
      "text/plain": [
       "A (  4.0° Lat,   3.0° Long)"
      ]
     },
     "execution_count": 57,
     "metadata": {},
     "output_type": "execute_result"
    }
   ],
   "source": [
    "Point(\"A\",4.0,3.0)"
   ]
  },
  {
   "cell_type": "code",
   "execution_count": 58,
   "metadata": {},
   "outputs": [
    {
     "data": {
      "text/plain": [
       "16-element Array{Point,1}:\n",
       " A ( 31.0° Lat, 139.0° Long)\n",
       " B ( 69.0° Lat, 293.0° Long)\n",
       " C (-44.0° Lat, 144.0° Long)\n",
       " D (-81.0° Lat,  59.0° Long)\n",
       " E (-34.0° Lat, 204.0° Long)\n",
       " F ( 68.0° Lat, 115.0° Long)\n",
       " G (-69.0° Lat, 341.0° Long)\n",
       " H (-56.0° Lat, 336.0° Long)\n",
       " I (-60.0° Lat,  40.0° Long)\n",
       " J ( 55.0° Lat, 168.0° Long)\n",
       " K ( 74.0° Lat, 332.0° Long)\n",
       " L ( -8.0° Lat, 130.0° Long)\n",
       " M (-74.0° Lat,  15.0° Long)\n",
       " N ( 20.0° Lat, 222.0° Long)\n",
       " O ( 34.0° Lat, 146.0° Long)\n",
       " P ( 24.0° Lat, 221.0° Long)"
      ]
     },
     "execution_count": 58,
     "metadata": {},
     "output_type": "execute_result"
    }
   ],
   "source": [
    "lst = Array{Point,1}()\n",
    "for i in 65:65+15\n",
    "    push!(lst,Point(\"$(Char(i))\",rand(-90:90),rand(0:360)))\n",
    "end\n",
    "lst"
   ]
  },
  {
   "cell_type": "code",
   "execution_count": 60,
   "metadata": {},
   "outputs": [
    {
     "data": {
      "text/plain": [
       "((N ( 20.0° Lat, 222.0° Long), P ( 24.0° Lat, 221.0° Long)), 458.6433859559117)"
      ]
     },
     "execution_count": 60,
     "metadata": {},
     "output_type": "execute_result"
    }
   ],
   "source": [
    "mindist(lst)"
   ]
  },
  {
   "cell_type": "code",
   "execution_count": 61,
   "metadata": {},
   "outputs": [
    {
     "data": {
      "text/plain": [
       "((H (-56.0° Lat, 336.0° Long), J ( 55.0° Lat, 168.0° Long)), 19339.80511808115)"
      ]
     },
     "execution_count": 61,
     "metadata": {},
     "output_type": "execute_result"
    }
   ],
   "source": [
    "maxdist(lst)"
   ]
  },
  {
   "cell_type": "code",
   "execution_count": null,
   "metadata": {},
   "outputs": [],
   "source": []
  }
 ],
 "metadata": {
  "kernelspec": {
   "display_name": "Julia 1.0.0",
   "language": "julia",
   "name": "julia-1.0"
  },
  "language_info": {
   "file_extension": ".jl",
   "mimetype": "application/julia",
   "name": "julia",
   "version": "1.0.0"
  }
 },
 "nbformat": 4,
 "nbformat_minor": 2
}
