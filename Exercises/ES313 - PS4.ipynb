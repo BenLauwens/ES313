{
 "cells": [
  {
   "cell_type": "markdown",
   "metadata": {},
   "source": [
    "# PS 18 Sep - Dictionaries, arrays\n",
    "\n",
    "### Working with words\n",
    "* Use a dictionary to find all the anagrams of a word (using the wordlist: \"words.txt\"). \n",
    "* Also write a function to return a list of the word with the most anagrams.\n"
   ]
  },
  {
   "cell_type": "code",
   "execution_count": 61,
   "metadata": {},
   "outputs": [],
   "source": []
  },
  {
   "cell_type": "markdown",
   "metadata": {},
   "source": [
    "### Working with text\n",
    "Write a function that reads a textfile and returns all the words that you find in it as an array."
   ]
  },
  {
   "cell_type": "code",
   "execution_count": null,
   "metadata": {},
   "outputs": [],
   "source": []
  },
  {
   "cell_type": "markdown",
   "metadata": {},
   "source": [
    "Create a histogram of the book, what are the ten most frequent words?"
   ]
  },
  {
   "cell_type": "code",
   "execution_count": null,
   "metadata": {},
   "outputs": [],
   "source": []
  },
  {
   "cell_type": "markdown",
   "metadata": {},
   "source": [
    "### Zipf's law\n",
    "\n",
    "The “rank” of a word is its position in an array of words sorted by frequency: the most common word has rank 1, the second most common has rank 2, etc.\n",
    "\n",
    "Zipf’s law describes a relationship between the ranks and frequencies of words in natural languages [(cf. Wikipedia)](https://en.wikipedia.org/wiki/Zipf's_law). Specifically, it predicts that the frequency, $f$ of the word with rank $r$ is:\n",
    "\\begin{equation}\n",
    "f=cr^{−s}\n",
    "\\end{equation}\n",
    "where $s$ and $c$ are parameters that depend on the language and the text. If you take the logarithm of both sides of this equation, you get:\n",
    "\\begin{equation}\n",
    "\\log{f}=\\log{c}-s\\log{r}\n",
    "\\end{equation}\n",
    "\n",
    "So if you plot $\\log{f}$ versus $\\log{r}$, you should get a straight line with slope $−s$ and intercept $\\log{c}$.\n",
    "\n",
    "Write a program that reads a text from a file, counts word frequencies. Determine $c$ and $s experimentally for texts in different languages.\n",
    "\n",
    "For the linear regression you can use the following:\n",
    "```Julia\n",
    "\"\"\"Simple linear regression implementation\"\"\"\n",
    "function linreg(x, y) \n",
    "    hcat(fill!(similar(x), 1), x) \\ y\n",
    "end\n",
    "```\n",
    "Try your application for several texts: \"3mousquetaires.txt\", \"Dracula.txt\", \"deoogst.txt\""
   ]
  },
  {
   "cell_type": "code",
   "execution_count": null,
   "metadata": {},
   "outputs": [],
   "source": []
  },
  {
   "cell_type": "markdown",
   "metadata": {},
   "source": [
    "### Markov analysis\n",
    "Write a program that reads a file, breaks each line into words, strips whitespace and punctuation from the words, and converts them to lowercase. (If) Hint: the function `isletter` tests whether a character is alphabetic.\n",
    "\n",
    "\n",
    "A series of random words seldom makes sense because there is no relationship between successive words. For example, in a real sentence you would expect an article like “the” to be followed by an adjective or a noun, and probably not a verb or adverb.\n",
    "\n",
    "One way to measure these kinds of relationships is Markov analysis, which characterizes, for a given sequence of words, the probability of the words that might come next. For example, the song Eric, the Half a Bee begins:\n",
    "\n",
    "```\n",
    "Half a bee, philosophically,\n",
    "Must, ipso facto, half not be.\n",
    "But half the bee has got to be\n",
    "Vis a vis, its entity. D’you see?\n",
    "\n",
    "But can a bee be said to be\n",
    "Or not to be an entire bee\n",
    "When half the bee is not a bee\n",
    "Due to some ancient injury?\n",
    "```\n",
    "\n",
    "In this text, the phrase “half the” is always followed by the word “bee”, but the phrase “the bee” might be followed by either “has” or “is”.\n",
    "\n",
    "The result of Markov analysis is a mapping from each prefix (like “half the” and “the bee”) to all possible suffixes (like “has” and “is”). suffix)\n",
    "\n",
    "Given this mapping, you can generate a random text by starting with any prefix and choosing at random from the possible suffixes. Next, you can combine the end of the prefix and the new suffix to form the next prefix, and repeat.\n",
    "\n",
    "For example, if you start with the prefix “Half a”, then the next word has to be “bee”, because the prefix only appears once in the text. The next prefix is “a bee”, so the next suffix might be “philosophically”, “be” or “due”."
   ]
  },
  {
   "cell_type": "code",
   "execution_count": null,
   "metadata": {},
   "outputs": [],
   "source": []
  }
 ],
 "metadata": {
  "kernelspec": {
   "display_name": "Julia 1.0.0",
   "language": "julia",
   "name": "julia-1.0"
  },
  "language_info": {
   "file_extension": ".jl",
   "mimetype": "application/julia",
   "name": "julia",
   "version": "1.0.0"
  }
 },
 "nbformat": 4,
 "nbformat_minor": 2
}
