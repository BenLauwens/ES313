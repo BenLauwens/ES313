{
 "cells": [
  {
   "cell_type": "markdown",
   "metadata": {},
   "source": [
    "# Sandwich shop\n",
    "We want to investigate if adding an extra crew member during rush hour is worth our trouble.\n",
    "\n",
    "#### Some relevant information:\n",
    "* The arrival time between clients $\\left(T\\right)$ is a stochastic variable following an exponential distribution with parameter $\\lambda(t)$, where $\\lambda$ also depends on the time of day. From historical data we know the following about the mean time between client arrivals:\n",
    "    * from 00:00 until 08:00: shop is closed\n",
    "    * from 08:00 until 11:00: 25 minutes\n",
    "    * from 11:00 until 14:00: 1 minutes\n",
    "    * from 14:00 until 17:00: 10 minutes\n",
    "    * from 17:00 until 19:00: 2 minutes\n",
    "    * from 19:00 until 20:00: 5 minutes\n",
    "    * from 20:00 until 24:00: shop is closed\n",
    "    \n",
    "    **Remark: in reality you would execute a measurements campaign and verify if the experimental distribution actually follows an exponential distribution (by means of a Kolmogorov–Smirnov test**\n",
    "        \n",
    "* If an employee is available the client places an order (we could also incorporate a decision time). This implies that we need the shop to have a limited `::Resource` i.e. the employees. \n",
    "\n",
    "    If no one is available, the client waits for his turn, but has a limited amount of patience. When this runs out, the clients leaves the shop (and should cancel his request for the employee `Resource`). Patience for the different clients is defined as a random variable $\\sim\\mathcal{U}(5,10)$. \n",
    "    * `Resource.level` is the current amount of resources in use\n",
    "    * `Resource.capacity` is the total amount of resources\n",
    "    * `Resource.put_queue` are the scheduled processes for the resource and can be used for queue length\n",
    "* Once the order is placed, the preperation time is also a random variable.\n",
    "\n",
    "#### Topics:\n",
    "\n",
    "1. We need to log the activities in our shop:\n",
    "    1. Queue build-up $\\rightarrow$ logging of queue required\n",
    "    2. Waiting times $\\rightarrow$ logging of waiting times required\n",
    "\n",
    "#### Some food for thought:\n",
    "* What if we considered clients with a memory? I.e. if they do not get served within their patience range, they go away and spread they word (which in its turn influences future arrival rates).\n",
    "* Is the extra person worth it from an economic point of view?\n",
    "* Could you also include orders that are place by phone before a specific time (also requiring the staff's attention)?\n",
    "*Tto get the authentic shop feeling, we could use the `Dates` package and use actual date and hour for the plots"
   ]
  },
  {
   "cell_type": "markdown",
   "metadata": {},
   "source": [
    "### Dependencies, Logging setup and supporting functions:\n",
    "* Plots will be made using the [Plots](http://docs.juliaplots.org/latest/) package. \n",
    "* The [Distributions](https://juliastats.github.io/Distributions.jl/stable/) package will be used for distributions and randomness. \n",
    "* The [Logging](https://docs.julialang.org/en/v1/stdlib/Logging/index.html) module will be used for efficient debugging and testing during development.\n",
    "* The [StatsBase](http://juliastats.github.io/StatsBase.jl/latest/index.html) package provides basic support for statistics. We will use it for experimental PDF and CDF in particular.\n",
    "* The [HypothesisTests]() package contains hypothesis tests that can use to test if our data follows a specific distribution (e.g. normality with a KS-test) or to determine confidence intervals on data (e.g. 95% CI for mean waiting time).\n",
    "\n"
   ]
  },
  {
   "cell_type": "code",
   "execution_count": 1,
   "metadata": {},
   "outputs": [],
   "source": [
    "# Dependencies\n",
    "using Dates              # for actual time & date\n",
    "using Distributions      # for distributions and random behaviour\n",
    "using HypothesisTests    # for more statistical analysis\n",
    "using Logging            # for debugging\n",
    "using Plots              # for figures\n",
    "using StatsPlots         # for nicer histograms (cf. solution)\n",
    "using SimJulia           # for DES\n",
    "using Statistics         # for statistics\n",
    "\n",
    "# Available items in the shop\n",
    "const menulist = [\"sandwich, cold\",\"sandwich, hot\",\"pasta\",\"soup\"]  # names\n",
    "const menuprob = Distributions.Categorical([0.6,0.2,0.1,0.1])       # probabilities\n",
    "const preptimes = Dict( menulist[1]=>Distributions.Uniform(60,90),  # prepatation times\n",
    "                        menulist[2]=>Distributions.Uniform(60,120), \n",
    "                        menulist[3]=>Distributions.Uniform(60,90),\n",
    "                        menulist[4]=>Distributions.Uniform(30,45))\n",
    "\n",
    "# Configuring the logger (general)\n",
    "mylogger = Logging.SimpleLogger(stdout,LogLevel(-10000))\n",
    "Logging.global_logger(mylogger)\n",
    "Logging.disable_logging(LogLevel(-4500));\n",
    "\n",
    "# Explicitly import Base.show in order to use it for our own types\n",
    "import Base.show\n",
    "\n",
    "\"\"\"\n",
    "nextarrival(t::DateTime)\n",
    "\n",
    "Return time between client arrival in milliseconds. \n",
    "This implies that milliseconds are the smallest time resolution in our simulation.\"\"\"\n",
    "function nextarrival(t::DateTime)\n",
    "    if (hour(t) >= 8) & (hour(t) < 11)\n",
    "        d = Distributions.Exponential(25*60000)\n",
    "    elseif (hour(t) >= 11) & (hour(t) < 14)\n",
    "        d = Distributions.Exponential(1*60000)\n",
    "    elseif (hour(t) >= 14) & (hour(t) < 17)\n",
    "        d = Distributions.Exponential(10*60000)\n",
    "    elseif (hour(t) >= 17) & (hour(t) < 19)\n",
    "        d = Distributions.Exponential(2*60000)\n",
    "    elseif (hour(t) >= 19) & (hour(t) < 20)\n",
    "        d = Distributions.Exponential(5*60000)\n",
    "    else\n",
    "        return nothing\n",
    "    end\n",
    "    \n",
    "    return Millisecond(round(rand(d)))\n",
    "end;"
   ]
  },
  {
   "cell_type": "markdown",
   "metadata": {},
   "source": [
    "Some tips:\n",
    "* You can round a `DateTime` e.g.\n",
    "```Julia\n",
    "    round(Dates.now(),Minute)\n",
    "```\n",
    "* You can use a `DateTime` within a simulation e.g.\n",
    "```Julia\n",
    "    tstart = floor(now(),Day) # start on current day, rounded downwards (why?)\n",
    "    sim = Simulation(tstart)  # setup simulation starting on tstart\n",
    "    run(sim, tstart + Day(3)) # run the simulation for three days\n",
    "```\n",
    "* The current time of the simulation (as a DateTime) can be obtained with `nowDatetime(sim)`.\n",
    "* Make a schematical represenation of what is going on and who needs to \"communicate\" with whom.\n",
    "* Think about how you will implement all of this (types, field, storage of useful information, opening times etc.)\n",
    "* You can use a specific logger for a function in order to seperate different information streams e.g.\n",
    "```Julia\n",
    "    const globlogger = Logging.SimpleLogger(stdout,LogLevel(-10000)) \n",
    "    Logging.global_logger(mylogger)     # set global logger\n",
    "    io = open(\"log.txt\", \"w+\")          # select file\n",
    "    myspecificlogger = SimpleLogger(io) # pair logger with IOStream\n",
    "    function foo(x...; logger=globlogger)\n",
    "        with_logger(logger) do\n",
    "            @info \"Total of $(length(x)) arguments:\"\n",
    "            for i in x\n",
    "                @info(\"Value of argument: $(i)\")\n",
    "            end\n",
    "       end \n",
    "    end\n",
    "\n",
    "    foo([1;2;3],\"another input\",\"and another\",5)\n",
    "    foo([1;2;3],\"another input\",\"and another\",5,logger=myspecificlogger)\n",
    "    close(io)\n",
    "```\n"
   ]
  },
  {
   "cell_type": "markdown",
   "metadata": {},
   "source": [
    "### Arrival process and initial verifications:"
   ]
  },
  {
   "cell_type": "code",
   "execution_count": null,
   "metadata": {},
   "outputs": [],
   "source": []
  },
  {
   "cell_type": "markdown",
   "metadata": {},
   "source": [
    "### Include store and client behavior & run a single simulation"
   ]
  },
  {
   "cell_type": "code",
   "execution_count": null,
   "metadata": {},
   "outputs": [],
   "source": []
  },
  {
   "cell_type": "markdown",
   "metadata": {},
   "source": [
    "## Analyze trends with several simulations"
   ]
  },
  {
   "cell_type": "code",
   "execution_count": null,
   "metadata": {},
   "outputs": [],
   "source": []
  },
  {
   "cell_type": "markdown",
   "metadata": {},
   "source": [
    "## Parameter study\n",
    "Add the variable staffing aspect an look at its impact on the waiting times, renegs etc."
   ]
  },
  {
   "cell_type": "code",
   "execution_count": null,
   "metadata": {},
   "outputs": [],
   "source": []
  },
  {
   "cell_type": "code",
   "execution_count": null,
   "metadata": {},
   "outputs": [],
   "source": []
  },
  {
   "cell_type": "code",
   "execution_count": null,
   "metadata": {},
   "outputs": [],
   "source": []
  }
 ],
 "metadata": {
  "kernelspec": {
   "display_name": "Julia 1.2.0",
   "language": "julia",
   "name": "julia-1.2"
  },
  "language_info": {
   "file_extension": ".jl",
   "mimetype": "application/julia",
   "name": "julia",
   "version": "1.2.0"
  }
 },
 "nbformat": 4,
 "nbformat_minor": 4
}
