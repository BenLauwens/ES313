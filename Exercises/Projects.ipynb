{
 "cells": [
  {
   "cell_type": "markdown",
   "metadata": {},
   "source": [
    "# ES313 - Projects\n",
    "Below you find a list of projects to chose from. Do not be impressed by the variation in length of the descriptions. It is not because a description is longer and contains a few formulas, that the project is de facto more difficult (sometimes even the opposite is true). Each project might require some information gathering, (realistic) assumption making and modeling choices on your behalf. \n",
    "\n",
    "\n",
    "## 1. Neutron diffusion - critical radius $^{235}$U\n",
    "The modern version of the Markov Chain Monte Carlo method was invented in the late 1940s by Stanislaw Ulam, while he was working on nuclear weapons projects at the Los Alamos National Laboratory. He and his collegues used it to determine the critical radius (i.e. the minimal radius required for nuclear fission) of a sphere of uranium 235. You will replicate this and use simulation to determine the critical radius of $^{235}$U.\n",
    "\n",
    "Consider the following (simplified) model for a nuclear bomb:\n",
    "* Spherical body made entirely out of $^{235}$U with a limited radius R. This model allows us to describe a neutron only by its distance from the centre and by the angle between its velocity vector and the radius.\n",
    "* A neutron starts at the center of the sphere with a given velocity and a random direction.\n",
    "* Whilst in the sphere, any of the following events can happen:\n",
    "    * fission: current neutron ‘dies’ and 2 (55%) or 3 (45%) new ones appear.\n",
    "    * absorption: the neutron is absorbed by the sphere.\n",
    "    * reflection: the neutron is reflected in a random direction.\n",
    "\n",
    "#### Neutron multiplication factor:\n",
    "A numerical measure of a critical mass is dependent on the effective neutron multiplication factor $k$, the average number of neutrons released per fission event that go on to cause another fission event rather than being absorbed or leaving the material. When $k = 1$, the mass is critical, and the chain reaction is self-sustaining.\n",
    "\n",
    "#### Some information on $^{235}$U:\n",
    "* W = 19.1 [g/cm3]\n",
    "* M = 235.044 [g/mol]\n",
    "* Av = 6.02214086e23  [mol$^{-1}$]\n",
    "* N = W/M*Av [atoms/cm$^3$]\n",
    "* neutron cross section is used to express the likelihood of interaction between an incident neutron and a target nucleus and depends on the neutron's velocity. We assume \"fast\" (2 MeV)  neutrons only (data obtained with JANIS application: Incident neutron data from the TENDL-2017 for $^{235}$U): \n",
    "    * $σ_{fission}$ = 1.2885 [barn] \n",
    "    * $σ_{absorbtion}$ = 0.36234265 [barn] \n",
    "    * $σ_{scatter}$ = 5.59601035 [barn] \n",
    "    * $σ_{tot}$ = 7.246853 [barn]=[1e-24 cm$^2$]\n",
    "\n",
    "* The average distance between an event is given by $d_{event}=\\dfrac{-\\log_{10}\\lambda}{N\\sigma_{tot}}$ with  $\\lambda\\sim\\mathcal{U}(0,1)$.\n",
    "\n",
    "**Hint:** you should find a value around 8.5 cm."
   ]
  },
  {
   "cell_type": "code",
   "execution_count": null,
   "metadata": {},
   "outputs": [],
   "source": []
  },
  {
   "cell_type": "markdown",
   "metadata": {},
   "source": [
    "## 2. Bartending - staffing problem\n",
    "You are an active member the student's nightlife and want to optimize the bar troughput. Your staff is limited to $X$ persons. For different arrival rates of clients, analyze different configurations and methods to run it. Be inspired by your own nightlife experiences.\n",
    "\n",
    "Some ideas: a cask has a limited volume and takes some time to replace, cocktails take longer to make etc."
   ]
  },
  {
   "cell_type": "code",
   "execution_count": null,
   "metadata": {},
   "outputs": [],
   "source": []
  },
  {
   "cell_type": "markdown",
   "metadata": {},
   "source": [
    "## 3. Laundry service\n",
    "Sodexo wants to implement a permanent laundry service at the RMA. They want to use simulations to optimize their design. They want you do do a simulation in order to do it right from the start. Make realistic assumptions to model the input in the system and take appropriate design decisions with respect to the amount of systems needed. Study the average time in the system in function of the amount of washers/dryers and available personel. Think about different personnel responsibilities.\n",
    "\n",
    "You can work under the following assumptions:\n",
    "* Students can drop of clothes in a central location at any time\n",
    "* The clothes need either:\n",
    "  - classic machine washing (e.g. 2.5 Hr cycle + 1.5Hr drying + ironing)\n",
    "  - dry cleaning (for SD/gala) (e.g. 0.4 Hr cycle + 1.5Hr drying (other dryer than classic washing machine)\n",
    "* the items need to be loaded/unloaded into the machines by a person\n",
    "* the ironing is done by persons aswell"
   ]
  },
  {
   "cell_type": "code",
   "execution_count": null,
   "metadata": {},
   "outputs": [],
   "source": []
  },
  {
   "cell_type": "markdown",
   "metadata": {},
   "source": [
    "## 4. Drone swarming and defense\n",
    "Due to the availability of cheap drones and control systems, there is an increasing threat that swarms of drones will be used against military targets. The tactics used are very simple: when enough drones are used, the detection and defence system of the attacked platform can be saturated. This allows the drones to reach the platform. Usually the drones are either crashed, or provided with an explosive charge that is detonated near the target. For this application, no we do not consider larger (and much more expensive) drones that have stand-off weapons (e.g. missiles).\n",
    "\n",
    "The Navy is especially concerned by this threat and want you to build a simulation to model a centralised ship equipped with a railgun under attack by drone swarms. \n",
    "* Think about what is realistic (e.g. the burstlength of the goalkeeper system is capped at 373 shots)\n",
    "* experiment with different attack scenarios\n",
    "* study the influence of the engagement distance\n",
    "* experiment with different rates of fire (order of magnitude 75/s) and different projectile velocities (order of magnitude 2400 m/s)\n",
    "* other ideas?\n",
    "\n",
    "#### Some simplifications:\n",
    "To keep the model relatively simple consider the following simplifications:\n",
    "1. the analysis is done in 2D (to lighten the calculations)\n",
    "2. when hit, a target drone is destroyed\n",
    "3. due to the high velocity of the rounds with respect to the velocity of the targets, one can consider the targets to be stationary when engaged (2400 vs $\\pm$30 m/s). \n",
    "4. Consider a simplified projectile trajectory (you can consider the velocity to be constant from launch to interception).\n",
    "\n",
    "#### Some usefull information:\n",
    "The weapon system fires a burst of rounds at the target drone in order to increase its hit probability. The foloowing parameters could be taken into consideration:\n",
    "* $R$: the engagement distance [m]\n",
    "* $t_f$: the time of flight [s]\n",
    "* d: the target size [m] (equivalent radius) (e.g. 0.35)\n",
    "* $R_{det}$: the target detection distance\n",
    "* $\\sigma_{tot}^2$: total coefficient of dispersion [m^2]\n",
    "* $\\sigma_{bal}$: ballistic dispersion coefficient [rad] (e.g. 0.001)\n",
    "* $\\sigma_{atm}$: atmospheric coefficient of dispersion [m/s] (e.g. 1.0)\n",
    "* $SSHP$: Single Shot Hit Probability\n",
    "* $BL$: Burst Length\n",
    "* $P_{h,b}$: total probability of hit per burst\n",
    "* $T_s$: switching time between two targets [s]\n",
    "* $T_a$: assessment time to evaluate if a target has been destroyed\n",
    "* $T_r$: reloading time [s]\n",
    "* $v_s$: switching speed [rad/s]\n",
    "* $T_b$: time needed for a single burst [s]\n",
    "* $f_f$: rate of fire [shots/s]\n",
    "* $N_s$: number of shot before reloading is required\n",
    "\n",
    "We know that the following relations hold:\n",
    "\\begin{equation}\n",
    "\\sigma_{tot}^2 = \\left(R\\sigma_{bal}\\right)^2 + \\left(t_f\\sigma_{atm}\\right)^2\n",
    "\\end{equation}\n",
    "\\begin{equation}\n",
    "SSHP = \\int_{0}^{d/2}\\dfrac{r}{\\sigma_{tot}^2}e^{\\frac{-r^2}{2\\sigma_{tot}^2}}dr\n",
    "\\end{equation}\n",
    "From the $SSHP$ one can calculate $BL$ in order to obtain a desired total probability of hit per burst:\n",
    "\\begin{equation}\n",
    "P_{h,b} = 1 - \\prod_{i=1}^{BL}\\left(1-SSPH_i\\right)\n",
    "\\end{equation}\n",
    "\n",
    "\n",
    "\n"
   ]
  },
  {
   "cell_type": "code",
   "execution_count": null,
   "metadata": {},
   "outputs": [],
   "source": []
  },
  {
   "cell_type": "markdown",
   "metadata": {},
   "source": [
    "## 5. A public transport problem (trains)\n",
    "You probably have experienced delays before when you have to take the train during rush hours. The north-south connection in Brussels is particularly sensitive to this. Especially because of the bottleneck that arises in Brussels central. Infrabel is looking for a solution.  To avoid even more problems, they will use simulations to try to solve the problem.\n",
    "\n",
    "The Brussels' north-south connection has three major stations: Brussels North, Central and South with respectively 12, 6 and 22 tracks. Study the flow and the maximal troughput in the respective stations. You may also have heard about the 'safety margin' between two arrival times, this might be an iteresting research topic as well. Do some minor research to make sure that your starting point is somewhat realistic.\n",
    "\n",
    "Try to simulate a train station with a fixed amount of tracks. Study the station's capacity in function of the trains' arrival rate (think about find some statistical measure to discuss queue build-up).\n",
    "There is a safety procedure put in place that sets the time between two consecutive trains on the same track. Study the saturation of the train station. Do a parametrical study of the safety net w.r.t. the stations saturation.\n",
    "\n",
    "\n",
    "\n",
    "#### Some more advanced ideas:\n",
    "* Add breakdowns, random delays, track limitations into the model and study the influence on the station's saturation.\n",
    "* Study the influence of adding an extra track.\n",
    "* Think about a different approach to the connection: what happens if all trains stop at north/south and you use internal trains for the inner city navigation (subway-like system)."
   ]
  },
  {
   "cell_type": "code",
   "execution_count": null,
   "metadata": {},
   "outputs": [],
   "source": []
  },
  {
   "cell_type": "markdown",
   "metadata": {},
   "source": [
    "## 6. Cleaning robot\n",
    "You want to study the design for a robot vacuum cleaner. Whilst writing the product specifications, they ask you about the surface that can be cleaned for a certain autonomy. You will make use of simulations to determine this. \n",
    "\n",
    "You should think about:\n",
    "* how your robot moves (i.e. its 'intelligence'). Remark: the emphasis is not on the intelligence of the robot, although this may be an additional topic if the simulation works. \n",
    "* how to measure proper cleaning\n",
    "* $\\dots$\n"
   ]
  },
  {
   "cell_type": "code",
   "execution_count": null,
   "metadata": {},
   "outputs": [],
   "source": []
  },
  {
   "cell_type": "markdown",
   "metadata": {},
   "source": [
    "## 7. Another public transport problem (subway)\n",
    "We study a subway line and we want to use simulation to :\n",
    "* Analyze the robustness of train timetables.\n",
    "* Estimate the capacity of the line.\n",
    "\n",
    "You need to simulate a subway line, with a certain number of stops. At each stop an amount of people get on or of. If the wagon is full, people wait at the stop for the next one. A person that gets on the metro has a probability to choose one of the destinations. You can use historical data to determine these (or your own experience for lack of data).\n",
    "\n",
    "#### Some advanced food for thought:\n",
    "* The build-up of people at each stop may depend on the time of day. Optimize the subway frequency to avoid people having to wait.\n",
    "* Include more or less frequented stations, include delays linked to people trying to go above the maximal train capacity and the subsequent build-up of people and increased waiting times for the other stops.\n",
    "\n",
    "#### Some background:\n",
    "In Brussels we have trains that are of the type BOA ([N](https://nl.wikipedia.org/wiki/BOA_(Brusselse_metro) ) / [F](https://fr.wikipedia.org/wiki/Boa_(STIB) ) ) and have a total capacity of $196+532$ places.\n",
    "\n",
    "\n",
    "The two main variables come into play with respect to punctuality:\n",
    "1. Runnning time: the trajectory time between two subsequent stops. In general this show less variability than the dwell times since they depend mainly on technical restrictions.\n",
    "2. Dwell time: the time the train occupies the station. This is a random process that depends on the number and behaviour of the passengers as well as the action of closing the door and departure/take-off carried out manually by the drivers. In addition, these dwell times depend on the physical design of the station (width and length of the station, accesses to the platforms, etc.), since the passengers can concentrate in certain points of the station making access to the train difficult.\n",
    "\n",
    "The passengers' arrival to the metro stations is also a random process, and the number of passengers waiting in the station for a train increases with the time interval between consecutive trains. If no control action is applied, when a delayed train arrives the number of passengers waiting at the station is increased, thus dwell time could be greater than nominal and the train delay increases also. This accumulated effect makes the system unstable, provoking, in turn, delays in the following trains and disruptions in the functioning of the line. These imbalances have to be corrected by means of control actions."
   ]
  },
  {
   "cell_type": "code",
   "execution_count": null,
   "metadata": {},
   "outputs": [],
   "source": []
  },
  {
   "cell_type": "markdown",
   "metadata": {},
   "source": [
    "## 8. Toilet planning for large events\n",
    "You are in the organizing committee of a festival. One of the major points of criticism for a festival is the lack of enough available toilets. You read somewhere that the classical repartition of 50/50 with respect to the surface area is not ideal. Furthermore, if waiting times are too high, people might look for alternative locations and contribute to a less pleasant experience.\n",
    "\n",
    "The goal is to find a optimal situation to limit the waiting times to a minumum. You are however constrained by budget and surface area, so this needs to be taken into account.\n",
    "\n",
    "You use the following information:\n",
    "* Men one average need one minute to pee, while women need 1.5 minutes;\n",
    "* On average, people defecate once for every five times they pee.\n",
    "* Defecation takes between 3 and 5 minutes\n",
    "\n",
    "\n",
    "#### Interesting topics:\n",
    "* Study different configurations and the effect on the waiting times (compare male vs female)\n",
    "* Include different demographics (e.g. a festival attracting more female persons) \n",
    "* Determine the maximal troughput of users, link this to the expected number of festivalgoers and possible troubles.\n",
    "* Include breakdown and repairtimes\n",
    "\n",
    "\n",
    "\n"
   ]
  },
  {
   "cell_type": "code",
   "execution_count": null,
   "metadata": {},
   "outputs": [],
   "source": []
  },
  {
   "cell_type": "markdown",
   "metadata": {},
   "source": [
    "## 9. Car insurance\n",
    "A car insurance broker is considering lowering its rates to be more competitive. However, the risk of having a negative balance must be kept low. Try to strike a balance between being profitable and being the most interesting insurer.\n",
    "\n",
    "You should think about:\n",
    "* the cashflow of the company: yearly insurance premiums, new clients joining, payment due to accidents\n",
    "* accident rates (maybe linked to driver profile?) and their associated costs (+ franchise detuctible).\n",
    "* $\\dots$\n",
    "\n",
    "#### Some advanced food for thought:\n",
    "* Include different client profiles (high risk etc.). Try to study the influence of specific company policies (e.g. specific young drivers insurance etc.)\n",
    "* Track the clients history to identify and remove high liability drivers."
   ]
  },
  {
   "cell_type": "code",
   "execution_count": null,
   "metadata": {},
   "outputs": [],
   "source": []
  },
  {
   "cell_type": "markdown",
   "metadata": {},
   "source": [
    "## 10. Supermarket checkout: classic vs. self\n",
    "In a groceries store you can choose between two types of checkout lines. The first type is a classic checkout line, with an employee. The second type is a self-checkout counter where there are four stations. One store employee supervises the four self-checkout counters and can intervene in case of a problem (product not known, problem scanning etc.).  **We are interested in the repartition of the personnel in order to maximize client troughput**.\n",
    "\n",
    "You should think about:\n",
    "* the number of available employees in use.\n",
    "* the composition of the shopping carts and client behavior.\n",
    "* random intervention due to a problem and systematic controls to prevent theft via the self-checkoutintervention of the superviser is needed."
   ]
  },
  {
   "cell_type": "code",
   "execution_count": null,
   "metadata": {},
   "outputs": [],
   "source": []
  },
  {
   "cell_type": "markdown",
   "metadata": {},
   "source": [
    "## 11. Port management\n",
    "Tankers come to a port to be loaded with crude oil. The ports has an 3 berths and a tug boat. Upon arrival the tankers wait in the harbor for a berth and a tug boat to be available. The harbor can receive different tanker sizes with their respective loading times (small  (25%) $\\sim\\mathcal{U}(8,10)$, medium (25%) $\\sim\\mathcal{U}(10,14)$ & large  (50%) $\\sim\\mathcal{U}(12,15)$ [Hr]). Historically, on average, every 8 hours a ship arrives. The port managemant is ambituous and wants to lure more clients to the port.\n",
    "\n",
    "You should think about:\n",
    "* Optimal tug boat strategy\n",
    "* maximal arrival rates\n",
    "* Can the excessive delays be limited by the addition of a fourth berth?\n",
    "\n",
    "#### Tug boat description\n",
    "Independent of the type of tanker, the travel times are fixed constants:\n",
    "* berthing (towing an empty ship from the harbor to the berth): 1Hr\n",
    "* deberthing (towing a filled ship from the harbor to the berth): 2Hr\n",
    "* transit time without a towed tanker: 0.25Hr"
   ]
  },
  {
   "cell_type": "code",
   "execution_count": null,
   "metadata": {},
   "outputs": [],
   "source": []
  },
  {
   "cell_type": "markdown",
   "metadata": {},
   "source": [
    "## 12. Hospital infections\n",
    "Microbes resistant to multiple antimicrobials are called multidrug resistant (MDR). These microbes ares impacting hospital stays. We know that approximately 1.2 percent of the hospital stays has a MDR diagnosis. Costs associated with such an infection are high, with an average hospital length of stay of 10 days.  In a worst case scenario, such an infection may even lead to the death of the patient. \n",
    "\n",
    "Patients infected with a MDR bacteria require specific (expensive) antibiotic that is not found in a typical broad spectrum antibiotic treatment. Such an antibiotic has a limited shelf life of approximatively 6 months. The hospital pharmacy has a working stock (fixed level) of antibiotics. When it is used, they order a new dose. When an antibiotic has past its shelf life, it is disposed of and new ones are ordered. \n",
    "\n",
    "With antibiotics prices going up continously, the current management wants to optimise the working stock. As real life experiments with working stocks are not ethical, you will make use of simulations.\n",
    "\n",
    "You should think about:\n",
    "* patient arrival rates, stay times and distributions\n",
    "* time of infection\n",
    "* limiting the probability of not having the antibiotic\n",
    "* $\\dots$"
   ]
  },
  {
   "cell_type": "code",
   "execution_count": null,
   "metadata": {},
   "outputs": [],
   "source": []
  },
  {
   "cell_type": "markdown",
   "metadata": {},
   "source": [
    "## 13. Mess hall\n",
    "You are not entirely satisfied with the service rate in the mess hall. You try to come up with a better solution to reduce waiting times. An initial study and measuring campaign have already been completed, but this was done before the mess wass outsourced. We will however use some of those measurements for the project.\n",
    "\n",
    "A client in the mess does not follow a predifined trajectory, i.e. not everybody chooses the same meal composition (e.g. pasta/salad bar only/daily menu + soup/$\\dots$). You should think about the different trajectories. You should map the current possibilities at the mess hall.\n",
    "\n",
    "In previous simulations, client arrival rate was considered during the rush hour and modelled by an exponential distribution (with approximatively one person arriving every ten seconds). However, you know from experience that in practice students arrive in blocks in the 1230-1330 window. \n",
    "\n",
    "#### Some advanced food for thought:\n",
    "* think about ‘chaotic’ clients (e.g. they pick a queue based on its queue length in order to limit their total time in the system).\n",
    "* find bottlenecks and use this as guidance to suggest system modifications.\n",
    "\n",
    "#### Some information:\n",
    "* client arrival rate: \n",
    "    * was modelled as an expontial distribution ($\\lambda=0.077$)\n",
    "* service times for different items expressed in seconds ($X\\sim \\Gamma \\left(\\alpha,\\beta\\right)$ is the [gamma distribution](https://en.wikipedia.org/wiki/Gamma_distribution)):\n",
    "    * tray $\\sim \\Gamma \\left(9.79236, 0.227952 \\right)$\n",
    "    * cutlery $\\sim \\Gamma \\left(6.96717, 0.668353 \\right)$\n",
    "    * soup $\\sim \\Gamma \\left(7.64862, 2.10631 \\right)$\n",
    "    * salad $\\sim \\Gamma \\left(7.45016, 0.297122 \\right)$\n",
    "    * pasta $\\sim \\Gamma \\left(11.906, 1.07917 \\right)$\n",
    "    * dessert $\\sim \\Gamma \\left(4.31261, 1.33967 \\right)$\n",
    "    * payment $\\sim \\Gamma \\left(2.45849, 6.73859 \\right)$. This last one might have changed significantly with the introduction of the wireless payment with the Sodexo card. It might be interesting to do some measure on this to accuratly describe the behavior.\n",
    "    "
   ]
  },
  {
   "cell_type": "markdown",
   "metadata": {},
   "source": [
    "## 14. Car traffic\n",
    "In an effort to try and optimize traffic, we sill use simulation to look at different scenario's. Simulate cars on a road, and take into account a maximum speed, congestion, and driver behaviour. Observe traffic jam development, optimal traffic density etc.\n",
    "\n",
    "#### Some backgound:\n",
    "You could consider the road as a sequence of cases with a fixed size (e.g. one car/case). To avoid collisions, cars behave according to the following rules:\n",
    "* The road is divided in discrete cases that can be accupied by maximum one car. \n",
    "* Velocity is made discrete by expressing it as an amount of cases moved in one timestep. E.g. when a car drives at velocity 1, it moves one case in one timestep\n",
    "* a car changes its velocity in the following way: \n",
    "    * if there are only $n$ cases available, the car will change its velocity to match the amount of available cases (or the maximum velocity (this avoids collisions).\n",
    "    * if there are more than the current velocity cases available, the car will accelerate by one case.\n",
    "    * to make the behaviour more realistic, we can include a 'dally factor'. This is a probability that a driver will   slow down by one discrete velocity unit due to inattention.\n",
    "\n",
    "#### Think about:\n",
    "* vehicle flow $f$ (number of vehicles that pass a measuring station during a time interval $\\Delta T$) and density $\\rho = \\frac{1}{m}\\sum_{i=1}^{m}\\frac{N_i}{L}$ (for the $m$ measurements of the $N_i$ vehicles on a road with length $L$ in the time interval $\\Delta T$). Can you find a relation between these?\n",
    "* study the difference between a right-of-way system and (intelligent) traffic lights\n",
    "* could you deal with different kind of vehicles (e.g. trucks)?\n",
    "* implement thus, with associated traffic jams.\n",
    "\n",
    "#### Advanced food for thought:\n",
    "* Could you implement a two- or more lane road with overtaking rules and situational awareness? Is there some sort of diminishing returns for a road with an increasing number of lanes?\n",
    "* Implement accidents and analyze the effect on the traffic flow"
   ]
  },
  {
   "cell_type": "markdown",
   "metadata": {},
   "source": [
    "## 15. Artillery wargaming\n",
    "We want to review current artilley field manuals for GIAT LG1 howitzer. This system has a calibre of 105 mm and can fire up to 12 shots per minute, with a range of 11.5 km (with conventional ammunition) or 14.9 km (with special 'Long-Range' ammunition). \n",
    "\n",
    "We look at a typical use case such as artillery barrage on an infantry platoon. Investigate the impact of a barrage on an infantry platoon in terms of hit probability for different configurations. Because a wounded soldier is a lot more impacting than a dead one, focus the analysis on getting hit by shrapnel.\n",
    "\n",
    "#### Think about:\n",
    "* the amount of shots to fire to obtain a certain degree of destruction (or the invers: have a look at survival rates)\n",
    "* combining different canons, their effect and the way they are given firing instructions.\n",
    "\n",
    "#### Some background:\n",
    "* Artillery usage is subject to several errors. We will neglect acquisition errors (coördinates of the target) and suppose the gunners orient the gun correctly.\n",
    "* Circular error probability (CEP) is a measure of a weapon system's precision. It is defined as the radius of a circle, centered on the mean, whose boundary is expected to include the landing points of 50% of the rounds. The CEP of the GIAT is 50m. I.e. if we fire at a specific point, 50% of all impacts will be in a 50m radius around the aim point. You can use a [bivariate normal distribution](http://mathworld.wolfram.com/BivariateNormalDistribution.html) to simulate the impact location (implemented in the [Distributions](https://juliastats.github.io/Distributions.jl/latest/multivariate.html#Distributions-1) package ).\n",
    "* An artillery shell can kill/wound in two ways: with the blast on the one hand and with the shrapnell on the other. Shrapnel leads to more injuries than the explosion itself. The probability of getting hit by a piece of shrapnel can be approximate by the ratio of the area of the shell that is fragmented by the projected area.\n",
    "* with respect to the explosion and the associaten overpressure we know the following: within an 11m radius of the point of impact you are almost certain to die. Between 11m and 15m there is a 35% chance of dying. Beyond 15m you will survive the explosion itself, but likely have some injury due to the fragments.\n",
    "* A piece of artillery rarely works alone, you can use a platoon (4 canons) or a battery (12 canons) to maximise the effectiveness.\n"
   ]
  },
  {
   "cell_type": "code",
   "execution_count": null,
   "metadata": {},
   "outputs": [],
   "source": []
  }
 ],
 "metadata": {
  "kernelspec": {
   "display_name": "Julia 1.0.0",
   "language": "julia",
   "name": "julia-1.0"
  },
  "language_info": {
   "file_extension": ".jl",
   "mimetype": "application/julia",
   "name": "julia",
   "version": "1.0.0"
  }
 },
 "nbformat": 4,
 "nbformat_minor": 2
}
