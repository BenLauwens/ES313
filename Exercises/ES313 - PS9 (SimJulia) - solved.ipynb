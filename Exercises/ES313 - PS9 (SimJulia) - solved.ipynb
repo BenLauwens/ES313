{
 "cells": [
  {
   "cell_type": "markdown",
   "metadata": {},
   "source": [
    "# Working with resumable functions\n",
    "Try to implement the pascal triangle, using a resumable function. Each iteration should return a line of the Pascal trianlge. (rem: a resumable function returns an iterator you need to call)."
   ]
  },
  {
   "cell_type": "code",
   "execution_count": 45,
   "metadata": {},
   "outputs": [
    {
     "data": {
      "text/plain": [
       "pascal (generic function with 1 method)"
      ]
     },
     "execution_count": 45,
     "metadata": {},
     "output_type": "execute_result"
    }
   ],
   "source": [
    "using ResumableFunctions\n",
    "\n",
    "@resumable function pascal()\n",
    "    a = [1]\n",
    "    @yield a\n",
    "    a = [1,1]\n",
    "    @yield a\n",
    "    while true\n",
    "        a = vcat([1],a[1:end-1] .+ a[2:end],[1])\n",
    "        @yield a\n",
    "    end\n",
    "end"
   ]
  },
  {
   "cell_type": "code",
   "execution_count": 47,
   "metadata": {},
   "outputs": [
    {
     "name": "stdout",
     "output_type": "stream",
     "text": [
      "Pascal's triangle:\n",
      "[1]\n",
      "[1, 1]\n",
      "[1, 2, 1]\n",
      "[1, 3, 3, 1]\n",
      "[1, 4, 6, 4, 1]\n",
      "[1, 5, 10, 10, 5, 1]\n",
      "[1, 6, 15, 20, 15, 6, 1]\n",
      "[1, 7, 21, 35, 35, 21, 7, 1]\n",
      "[1, 8, 28, 56, 70, 56, 28, 8, 1]\n",
      "[1, 9, 36, 84, 126, 126, 84, 36, 9, 1]\n"
     ]
    }
   ],
   "source": [
    "p = pascal()\n",
    "println(\"Pascal's triangle:\")\n",
    "for i in 1:10\n",
    "    println(p())\n",
    "end"
   ]
  },
  {
   "cell_type": "markdown",
   "metadata": {},
   "source": [
    "# small example with containers\n",
    "Consider a candy machines that is continuously being monitored by a supervisor.  If the level is below a given treshold, the supervisor fills the machine up. \n",
    "* Client arrival follows an exponential distribution. \n",
    "* Look at the mean time between refills. Is this what you would expect?\n",
    "* What happend when the amount of candy varies? Is this still what you would expect?"
   ]
  },
  {
   "cell_type": "code",
   "execution_count": 130,
   "metadata": {},
   "outputs": [],
   "source": [
    "# dependencies\n",
    "using SimJulia\n",
    "using Distributions\n",
    "using Logging\n",
    "Logging.disable_logging(LogLevel(1000)); # to avoid logmessages"
   ]
  },
  {
   "cell_type": "code",
   "execution_count": 143,
   "metadata": {},
   "outputs": [
    {
     "data": {
      "text/plain": [
       "monitor (generic function with 1 method)"
      ]
     },
     "execution_count": 143,
     "metadata": {},
     "output_type": "execute_result"
    }
   ],
   "source": [
    "# processes\n",
    "\n",
    "# process of client arrivals\n",
    "@resumable function clientarrival(sim::Simulation,c::Container,amount=[2])\n",
    "    while true\n",
    "        @yield timeout(sim,rand(Distributions.Exponential(1)))\n",
    "        @info \"client arrives on time $(sim.time)\"\n",
    "        @process getcandy(sim,c,amount)\n",
    "    end\n",
    "end\n",
    "\n",
    "# process of getting candy\n",
    "@resumable function getcandy(sim::Simulation,c::Container,amount=[2])\n",
    "    @yield get(c,rand(amount))\n",
    "end\n",
    "\n",
    "# monitor\n",
    "@resumable function monitor(sim::Simulation,c::Container,trefills::Array)\n",
    "    while true\n",
    "        @yield timeout(sim,1)\n",
    "        if c.level <= c.capacity*0.10\n",
    "            #println(\"Oh no, almost empty! Time to refill... $(sim.time)\")\n",
    "            @logmsg LogLevel(3000) \"Oh no, almost empty! Time to refill... $(sim.time)\"\n",
    "            push!(trefills,sim.time)\n",
    "            @yield timeout(sim,2) # temps de replissage\n",
    "            c.level = c.capacity # actual refill\n",
    "            @logmsg LogLevel(3000) \"Finished refilling $(sim.time)\"\n",
    "        end\n",
    "    end\n",
    "end"
   ]
  },
  {
   "cell_type": "code",
   "execution_count": 144,
   "metadata": {},
   "outputs": [
    {
     "data": {
      "text/plain": [
       "runsim (generic function with 2 methods)"
      ]
     },
     "execution_count": 144,
     "metadata": {},
     "output_type": "execute_result"
    }
   ],
   "source": [
    "function runsim(amount=[2])\n",
    "    sim = Simulation()\n",
    "    candymachine = Resource(sim,100,level=100)\n",
    "    trefills = [0]\n",
    "    @process clientarrival(sim,candymachine,amount)\n",
    "    @process monitor(sim,candymachine,trefills)\n",
    "    run(sim,1000)\n",
    "    return mean(trefills[2:end] .- trefills[1:end-1])\n",
    "end"
   ]
  },
  {
   "cell_type": "markdown",
   "metadata": {},
   "source": [
    "If on average, we have 1 client/timeunit and that clients takes 2 candies it would take 50 timeunits to be depleted. However, we refill as soon as we are below 10% of the capacity, which should lead to a mean time between refills of about 45 timeunits."
   ]
  },
  {
   "cell_type": "code",
   "execution_count": 149,
   "metadata": {},
   "outputs": [
    {
     "data": {
      "text/plain": [
       "49.95"
      ]
     },
     "execution_count": 149,
     "metadata": {},
     "output_type": "execute_result"
    }
   ],
   "source": [
    "Logging.disable_logging(LogLevel(3000))\n",
    "runsim()"
   ]
  },
  {
   "cell_type": "markdown",
   "metadata": {},
   "source": [
    "If on average, we have 1 client/timeunit and that clients takes between 1 and 10 candies, we have on average 5.5 candies per timeunit.  It would take 16 timeunits to be depleted. This result is what we find below. Differences are due to the fact that the reloading time is important with respect to the arrival rate of clients."
   ]
  },
  {
   "cell_type": "code",
   "execution_count": 156,
   "metadata": {},
   "outputs": [
    {
     "data": {
      "text/plain": [
       "17.963636363636365"
      ]
     },
     "execution_count": 156,
     "metadata": {},
     "output_type": "execute_result"
    }
   ],
   "source": [
    "runsim(collect(1:10))"
   ]
  },
  {
   "cell_type": "markdown",
   "metadata": {},
   "source": [
    "# Small example(s) with stores\n",
    "When modeling physical things such as cables, RF propagation, etc. it better encapsulation to keep this propagation mechanism outside of the sending and receiving processes.\n",
    "\n",
    "Consider the following:\n",
    "* a sender sends messages on a regular interval (e.g. every 5 minutes)\n",
    "* a receiver is listening on a permanent basis for new messages\n",
    "* the transfer between both of them is not instantaneous, but takes some time. To model this, you can store (hint: use a `::Store`) the messages on the cable for later reception.\n"
   ]
  },
  {
   "cell_type": "code",
   "execution_count": 1,
   "metadata": {},
   "outputs": [
    {
     "data": {
      "text/plain": [
       "receiver (generic function with 1 method)"
      ]
     },
     "execution_count": 1,
     "metadata": {},
     "output_type": "execute_result"
    }
   ],
   "source": [
    "using SimJulia\n",
    "const SIM_DURATION = 100.0\n",
    "\n",
    "struct Cable\n",
    "  sim::Simulation\n",
    "  delay::Float64\n",
    "  store::Store{String}\n",
    "  function Cable(sim::Simulation, delay::Float64)\n",
    "    cable = new(sim, delay, Store{String}(sim) )\n",
    "    return cable\n",
    "  end\n",
    "end\n",
    "\n",
    "\n",
    "@resumable function sender(sim::Simulation, cable::Cable)\n",
    "    while true\n",
    "        @yield timeout(sim,5.0)\n",
    "        @process latency(sim,cable,\"Sender send this at $(sim.time)\")\n",
    "    end\n",
    "end\n",
    "\n",
    "@resumable function latency(sim::Simulation, cable::Cable, value::String)\n",
    "    @yield timeout(sim, cable.delay)\n",
    "    @yield SimJulia.put(cable.store, value)\n",
    "end\n",
    "\n",
    "@resumable function receiver(sim::Simulation, cable::Cable)\n",
    "    while true\n",
    "        msg = @yield get(cable.store)\n",
    "        println(\"Received this at $(sim.time) while $msg\")\n",
    "    end\n",
    "end"
   ]
  },
  {
   "cell_type": "code",
   "execution_count": 2,
   "metadata": {},
   "outputs": [
    {
     "name": "stdout",
     "output_type": "stream",
     "text": [
      "Event latency\n",
      "Received this at 15.0 while Sender send this at 5.0\n",
      "Received this at 20.0 while Sender send this at 10.0\n",
      "Received this at 25.0 while Sender send this at 15.0\n",
      "Received this at 30.0 while Sender send this at 20.0\n",
      "Received this at 35.0 while Sender send this at 25.0\n",
      "Received this at 40.0 while Sender send this at 30.0\n",
      "Received this at 45.0 while Sender send this at 35.0\n",
      "Received this at 50.0 while Sender send this at 40.0\n",
      "Received this at 55.0 while Sender send this at 45.0\n",
      "Received this at 60.0 while Sender send this at 50.0\n",
      "Received this at 65.0 while Sender send this at 55.0\n",
      "Received this at 70.0 while Sender send this at 60.0\n",
      "Received this at 75.0 while Sender send this at 65.0\n",
      "Received this at 80.0 while Sender send this at 70.0\n",
      "Received this at 85.0 while Sender send this at 75.0\n",
      "Received this at 90.0 while Sender send this at 80.0\n",
      "Received this at 95.0 while Sender send this at 85.0\n"
     ]
    }
   ],
   "source": [
    "println(\"Event latency\")\n",
    "sim = Simulation()\n",
    "cable = Cable(sim, 10.0)\n",
    "@process sender(sim, cable)\n",
    "@process receiver(sim,cable)\n",
    "\n",
    "run(sim, SIM_DURATION)"
   ]
  },
  {
   "cell_type": "markdown",
   "metadata": {},
   "source": [
    "## Another store example: \n",
    "suppose you have two machines, each producing a different product (with different production times). The assembly of a third product requires both of these. Analyse this simple case to find bottlenecks is the proces"
   ]
  },
  {
   "cell_type": "code",
   "execution_count": 158,
   "metadata": {},
   "outputs": [
    {
     "data": {
      "text/plain": [
       "combiner (generic function with 1 method)"
      ]
     },
     "execution_count": 158,
     "metadata": {},
     "output_type": "execute_result"
    }
   ],
   "source": [
    "struct Product\n",
    "    kind::String\n",
    "    id::Int\n",
    "end\n",
    "\n",
    "@resumable function machine(sim::Simulation,s::Store,prodname::String,dur)\n",
    "    i = 1\n",
    "    while true\n",
    "        @yield timeout(sim,dur)\n",
    "        @yield put(s,Product(prodname,i))\n",
    "        i+=1\n",
    "    end\n",
    "end\n",
    "\n",
    "@resumable function combiner(sim::Simulation,s1::Store,s2::Store)\n",
    "    while true\n",
    "        #@yield timeout(sim,3)\n",
    "        println(\"trying to combine on time $(sim.time)\")\n",
    "        r1 = get(s1)\n",
    "        r2 = get(s1)\n",
    "        r3 = get(s2)\n",
    "        res = @yield r1 & r2 & r3\n",
    "        println(\"making a product on time $(sim.time)\")\n",
    "        @yield timeout(sim,2)\n",
    "    end\n",
    "end "
   ]
  },
  {
   "cell_type": "code",
   "execution_count": 159,
   "metadata": {},
   "outputs": [
    {
     "name": "stdout",
     "output_type": "stream",
     "text": [
      "trying to combine on time 0.0\n",
      "making a product on time 4.0\n",
      "trying to combine on time 6.0\n",
      "making a product on time 8.0\n",
      "trying to combine on time 10.0\n",
      "making a product on time 12.0\n",
      "trying to combine on time 14.0\n",
      "making a product on time 16.0\n",
      "trying to combine on time 18.0\n",
      "making a product on time 20.0\n",
      "trying to combine on time 22.0\n",
      "making a product on time 24.0\n",
      "trying to combine on time 26.0\n",
      "making a product on time 28.0\n"
     ]
    }
   ],
   "source": [
    "sim = Simulation()\n",
    "boltstore = Store{Product}(sim)\n",
    "nutstore  = Store{Product}(sim)\n",
    "pbolt = @process machine(sim,boltstore,\"bolt\",1)\n",
    "pnut  = @process machine(sim,nutstore,\"nut\",4)\n",
    "@process combiner(sim,boltstore,nutstore)\n",
    "run(sim,30)"
   ]
  },
  {
   "cell_type": "code",
   "execution_count": 161,
   "metadata": {},
   "outputs": [
    {
     "data": {
      "text/plain": [
       "Set(Product[Product(\"bolt\", 19), Product(\"bolt\", 24), Product(\"bolt\", 12), Product(\"bolt\", 4), Product(\"bolt\", 18), Product(\"bolt\", 6), Product(\"bolt\", 22), Product(\"bolt\", 26), Product(\"bolt\", 27), Product(\"bolt\", 28), Product(\"bolt\", 10), Product(\"bolt\", 29), Product(\"bolt\", 15), Product(\"bolt\", 21), Product(\"bolt\", 20)])"
      ]
     },
     "execution_count": 161,
     "metadata": {},
     "output_type": "execute_result"
    }
   ],
   "source": [
    "boltstore.items"
   ]
  },
  {
   "cell_type": "code",
   "execution_count": null,
   "metadata": {},
   "outputs": [],
   "source": []
  }
 ],
 "metadata": {
  "kernelspec": {
   "display_name": "Julia 1.0.0",
   "language": "julia",
   "name": "julia-1.0"
  },
  "language_info": {
   "file_extension": ".jl",
   "mimetype": "application/julia",
   "name": "julia",
   "version": "1.0.0"
  }
 },
 "nbformat": 4,
 "nbformat_minor": 2
}
