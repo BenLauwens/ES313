{
 "cells": [
  {
   "cell_type": "markdown",
   "metadata": {},
   "source": [
    "# ES313 - Quickstart guide\n",
    "This is a small guide intended to put you on your way for this course. We will be working with Julia v1.2 for all applications. This is also the version you have on your CDN computer. It is recommended that you do all this before attending class, because the installation might take a while. A speedy and stable internet connection is an added value.\n",
    "\n",
    "## CDN computer\n",
    "1. Install Julia and Nteract from the software center. \n",
    "2. Download the [course repository](https://github.com/BenLauwens/ES313.jl) from GitHub and extract the zip file in a folder of your choice (e.g. in 'My Documents')\n",
    "3. Navigate to the `Setup` folder in the extracted folder and execute `ES313 - WINDOWS.bat`. This small script should activate Julia, fetch all relevant updates and install the required packages. \n",
    "    \n",
    "    *Note:* In order to be able to install or update packages, you will need to connect to a network other than CDN as the corporate proxy blocks the updates.\n",
    "\n",
    "\n",
    "## Personal computer\n",
    "We try to make sure that the installation and configuration runs as smoothly as possible with a minimum of effort on your part. These guidelines work for both Windows and MacOS. Occasionally there is a small difference between the platforms that will be made clear during this walktrough. This guide has been successfully tested on Windows 10, Windows 8.1, MacOS El Catalina.\n",
    "\n",
    "1. Download Julia 1.2 for your platform from the [website](https://julialang.org/downloads/).\n",
    "2. Install Julia 1.2\n",
    "3. Download the [course repository](https://github.com/BenLauwens/ES313.jl) from GitHub and extract the zip file in a folder of your choice (e.g. in 'My Documents')\n",
    "4. Navigate to the `Setup` folder in the extracted folder. If you are a MAc user, execute `ES313 - MAC.command`. If you are a Windows user, execute `ES313 - WINDOWS.bat`. This small script should activate Julia, fetch all relevant updates, install the required packages and open a new Jupyter Lab home screen.\n",
    "5. Enjoy the course\n",
    "\n",
    "#### Remarks:\n",
    "    \n",
    "- The first time you run this script, the installer might ask you if you want to install Jupyter via Conda (valid for both platforms). This is required for proper functioning of Jupyter. Input 'yes' when prompted.\n",
    "- On windows, you might get a warning that Windows Defender has blocked the execution of the script. Disable Windows Defender temporarily or modify the permissions for this file only.\n",
    "- In the rare case that that the script should not work, you can do the following in the Julia REPL:\n",
    "\n",
    "    ```Julia\n",
    "    include(\"path/to/the/file/configES313.jl)\n",
    "    ```\n",
    "    \n",
    "    \n",
    "    Where obviously you replace \"path/to/the/file/\" with the actual location of your file.\n",
    "- If you only want to run Jupyter Lab without fetching the updates enter the following in the Julia REPL:\n",
    "    ```Julia\n",
    "    using IJulia\n",
    "    jupyterlab()\n",
    "    ```\n",
    "\n",
    "## Illustrations\n",
    "<img src=\"../Setup/Img/inputWin.png\" alt=\"Jupyter input\">  \n",
    "<img src=\"../Setup/Img/ready.png\" alt=\"All good\">   "
   ]
  },
  {
   "cell_type": "code",
   "execution_count": null,
   "metadata": {},
   "outputs": [],
   "source": []
  }
 ],
 "metadata": {
  "kernelspec": {
   "display_name": "Julia 1.2.0",
   "language": "julia",
   "name": "julia-1.2"
  },
  "language_info": {
   "file_extension": ".jl",
   "mimetype": "application/julia",
   "name": "julia",
   "version": "1.2.0"
  }
 },
 "nbformat": 4,
 "nbformat_minor": 4
}
