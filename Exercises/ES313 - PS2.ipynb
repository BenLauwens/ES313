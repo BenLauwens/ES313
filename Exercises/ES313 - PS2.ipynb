{
 "cells": [
  {
   "cell_type": "markdown",
   "metadata": {},
   "source": [
    "# Practical session Sep, 5"
   ]
  },
  {
   "cell_type": "markdown",
   "metadata": {},
   "source": [
    "## 🐢-fun\n",
    "Write a function to draw a pie shape. The amount of slices and the radius should be an input parameter."
   ]
  },
  {
   "cell_type": "code",
   "execution_count": null,
   "metadata": {},
   "outputs": [],
   "source": []
  },
  {
   "cell_type": "markdown",
   "metadata": {},
   "source": [
    "\n",
    "\n",
    "#### Fruitful functions, indexing, logical operators, type checking, incremental development etc.\n",
    "Write a function that take an array and an index $i$ as input and returns the value at position $i$\n",
    "\n",
    "\n",
    "\n",
    "Test your function on the array `x = [1 2 3 4]`.\n"
   ]
  },
  {
   "cell_type": "code",
   "execution_count": null,
   "metadata": {},
   "outputs": [],
   "source": []
  },
  {
   "cell_type": "markdown",
   "metadata": {},
   "source": [
    "In Julia, indexing starts at 1. Write a function that takes an index and a maximum dimension and maps it to an appropriate value. Example for `x = [1 2 3 4]`.\n",
    "\n",
    "* index: -1 0 1 2 3 4 5 6\n",
    "* value:  3 4 1 2 3 4 1 2"
   ]
  },
  {
   "cell_type": "code",
   "execution_count": null,
   "metadata": {},
   "outputs": [],
   "source": []
  },
  {
   "cell_type": "markdown",
   "metadata": {},
   "source": [
    "Use the mapper function to create a modified selection function that takes an array and a value and returns the element (cyclic)."
   ]
  },
  {
   "cell_type": "code",
   "execution_count": null,
   "metadata": {},
   "outputs": [],
   "source": []
  },
  {
   "cell_type": "markdown",
   "metadata": {},
   "source": [
    "Expand the capacities of the previously created function to a matrix. Test the function on the array `x = [1 2 3 4; 5 6 7 8]`.\n",
    "\n",
    "Useful instruction: `?size()`"
   ]
  },
  {
   "cell_type": "code",
   "execution_count": null,
   "metadata": {},
   "outputs": [],
   "source": []
  },
  {
   "cell_type": "markdown",
   "metadata": {},
   "source": [
    "**Challenge:**\n",
    "build a function that takes a matrix $A$,two indices $(i,j)$ and a value $n$ that returns a square submatrix of A of size $1+2n$. E.g. if $n=0$, the function should only return $A[i,j]$. If $n=1$, the  function should return a $3\\times3$ matrix with $A[i,j]$ as central element etc. \n",
    "\n",
    "Use the function you just built to map negative indices and values that exceed the matrix dimension to their corresponding value."
   ]
  },
  {
   "cell_type": "code",
   "execution_count": null,
   "metadata": {},
   "outputs": [],
   "source": []
  },
  {
   "cell_type": "markdown",
   "metadata": {},
   "source": [
    "#### Recursion, documentation\n",
    "\n",
    "What is the output of the following program? Draw a stack diagram that shows the state of the program when it prints the result.\n",
    "\n",
    "```Julia\n",
    "function recurse(n, s)\n",
    "    if n == 0\n",
    "        println(s)\n",
    "    else\n",
    "        recurse(n-1, n+s)\n",
    "    end\n",
    "end\n",
    "\n",
    "recurse(3, 0)\n",
    "```\n",
    "\n",
    "1. What would happen if you called this function like this: recurse(-1, 0)?\n",
    "2. Write a docstring that explains everything someone would need to know in order to use this function (and nothing else).\n",
    "3. Draw the stack diagram for `recurse(3, 0)`."
   ]
  },
  {
   "cell_type": "code",
   "execution_count": null,
   "metadata": {},
   "outputs": [],
   "source": []
  },
  {
   "cell_type": "markdown",
   "metadata": {},
   "source": [
    "The Ackermann function, $A(m,n)$, is defined:\n",
    "\n",
    "\\begin{equation}\n",
    "{A(m, n) =\n",
    "\\begin{cases}\n",
    "              n+1& \\textrm{if}\\ m = 0 \\\\\n",
    "        A(m-1, 1)& \\textrm{if}\\ m > 0\\ \\textrm{and}\\ n = 0 \\\\\n",
    "A(m-1, A(m, n-1))& \\textrm{if}\\ m > 0\\ \\textrm{and}\\ n > 0.\n",
    "\\end{cases}}\n",
    "\\end{equation}\n",
    "\n",
    "Write a function named ack that evaluates the Ackermann function. Use your function to evaluate ack(3, 4), which should be 125. What happens for larger values of m and n?"
   ]
  },
  {
   "cell_type": "code",
   "execution_count": null,
   "metadata": {},
   "outputs": [],
   "source": []
  },
  {
   "cell_type": "markdown",
   "metadata": {},
   "source": [
    "The greatest common divisor (GCD) of $a$ and $b$ is the largest number that divides both of them with no remainder.\n",
    "\n",
    "One way to find the GCD of two numbers is based on the observation that if $r$ is the remainder when $a$ is divided by $b$, then gcd(a, b) = gcd(b, r). As a base case, we can use gcd(a, 0) = a.\n",
    "\n",
    "Write a function called gcd that takes parameters a and b and returns their greatest common divisor."
   ]
  },
  {
   "cell_type": "code",
   "execution_count": null,
   "metadata": {},
   "outputs": [],
   "source": []
  },
  {
   "cell_type": "markdown",
   "metadata": {},
   "source": [
    "#### Reassignment\n",
    "Compare the following:\n",
    "```Julia\n",
    "A = [1 2;3 4]\n",
    "B = A\n",
    "A[1,2] = 8\n",
    "B\n",
    "```\n",
    "and\n",
    "```Julia\n",
    "A = [1 2;3 4]\n",
    "B = copy(A)\n",
    "A[1,2] = 8\n",
    "B\n",
    "```"
   ]
  },
  {
   "cell_type": "code",
   "execution_count": null,
   "metadata": {},
   "outputs": [],
   "source": []
  },
  {
   "cell_type": "markdown",
   "metadata": {},
   "source": [
    "Compare with values:\n",
    "```Julia\n",
    "a = 5\n",
    "b = a\n",
    "a = 3\n",
    "b\n",
    "```"
   ]
  },
  {
   "cell_type": "markdown",
   "metadata": {},
   "source": [
    "#### Iteration, algorithms, control flow\n",
    "Implement the following root finding algorithm for a function $f(x)$:\n",
    "\\begin{equation}\n",
    "x_{n+1} = g(x_n) = x_n - \\frac{f(x_n)}{f'(x_0)},\\: n =0,1,2,\\dots\n",
    "\\end{equation}\n",
    "\n",
    "Include a stopping criterion $\\|f(x_n)|\\le\\text{1e-6}$. As a return value you should get the approximate root. Also print a table showing the iteration number, the aproximate zero and the function value.\n",
    "\n",
    "Apply this for $f(x) = -x^2 - 3x +2$,   $f'(x) = -2*x - 3$"
   ]
  },
  {
   "cell_type": "code",
   "execution_count": null,
   "metadata": {},
   "outputs": [],
   "source": []
  },
  {
   "cell_type": "markdown",
   "metadata": {},
   "source": [
    "#### Basic word iteration"
   ]
  },
  {
   "cell_type": "code",
   "execution_count": null,
   "metadata": {},
   "outputs": [],
   "source": []
  },
  {
   "cell_type": "markdown",
   "metadata": {},
   "source": [
    "Gerate a funtion that asks a users' first and last name and return a message greeting the user and returning the number of elapsed days, hours and seconds since the UNIX epoch"
   ]
  },
  {
   "cell_type": "code",
   "execution_count": null,
   "metadata": {},
   "outputs": [],
   "source": []
  },
  {
   "cell_type": "markdown",
   "metadata": {},
   "source": [
    "A Caesar cypher is a weak form of encryption that involves “rotating” each letter by a fixed number of places. To rotate a letter means to shift it through the alphabet, wrapping around to the beginning if necessary, so ’A’ rotated by 3 is ’D’ and ’Z’ rotated by 1 is ’A’.\n",
    "\n",
    "To rotate a word, rotate each letter by the same amount. For example, \"cheer\" rotated by 7 is \"jolly\" and \"melon\" rotated by -10 is \"cubed\". In the movie 2001: A Space Odyssey, the ship computer is called HAL, which is IBM rotated by -1.\n",
    "\n",
    "Write a function called rotateword that takes a string and an integer as parameters, and returns a new string that contains the letters from the original string rotated by the given amount.\n",
    "\n",
    "Hint: ?Int() ?Char"
   ]
  },
  {
   "cell_type": "code",
   "execution_count": null,
   "metadata": {},
   "outputs": [],
   "source": []
  },
  {
   "cell_type": "markdown",
   "metadata": {},
   "source": [
    "Since a string can be traversed, it is easy to construct a palindrome. Write a function to verify if is a word is a palindrome."
   ]
  },
  {
   "cell_type": "code",
   "execution_count": null,
   "metadata": {},
   "outputs": [],
   "source": []
  }
 ],
 "metadata": {
  "kernelspec": {
   "display_name": "Julia 0.7.0-beta2",
   "language": "julia",
   "name": "julia-0.7"
  },
  "language_info": {
   "file_extension": ".jl",
   "mimetype": "application/julia",
   "name": "julia",
   "version": "0.7.0"
  }
 },
 "nbformat": 4,
 "nbformat_minor": 2
}
