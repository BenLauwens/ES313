{
 "cells": [
  {
   "cell_type": "markdown",
   "metadata": {},
   "source": [
    "# Optimization in Julia\n",
    "We will be using `Optim` for several applications, both uni- and multivariate optimization.\n"
   ]
  },
  {
   "cell_type": "code",
   "execution_count": null,
   "metadata": {},
   "outputs": [],
   "source": [
    "using JuMP, GLPK, Optim, Plots"
   ]
  },
  {
   "cell_type": "markdown",
   "metadata": {},
   "source": [
    "## Optimizing a function without gradient information\n",
    "\n",
    "\n",
    "### Optimizing a univariate function\n",
    "For a univariation function, you need to provide an upper and lower bound\n",
    "```Julia\n",
    "optimize(f, lower, upper)\n",
    "```\n",
    "Try to optimize $x^3 - 6x + x^2 +2$ and compare the result between both methods (`Brent()` vs `GoldenSection()`).\n"
   ]
  },
  {
   "cell_type": "markdown",
   "metadata": {},
   "source": [
    "### Use case\n",
    "Try to determine the optimal value of (a) parameter(s) in a more complex system.\n",
    "\n",
    "Let's revisit the employee planning problem from last week. Suppose we include a temporary worker, who only works on wednesdays and weekends. Furthermore, assume that the age of the temporary worker has an impact on the cost (insurance, taxes, expected pay$\\dots$). You want to find the ideal age to recruit, keeping costs low. Suppose the salary behaves like: $ s(x) = 90 .- 0.75x .+ 0.02x.^2 $.\n",
    "\n",
    "FYI: it has been done deliberately that the optimization and minimization problem are separable, just to illustrate what can be done.\n"
   ]
  },
  {
   "cell_type": "code",
   "execution_count": null,
   "metadata": {},
   "outputs": [],
   "source": [
    "# age return\n",
    "s(x) = 90 .- 0.75x .+ 0.02x.^2\n",
    "\n",
    "function quicksim(k)\n",
    "    # settings\n",
    "    A = [1 0 0 1 1 1 1 0;\n",
    "         1 1 0 0 1 1 1 0;\n",
    "         1 1 1 0 0 1 1 1;\n",
    "         1 1 1 1 0 0 1 0;\n",
    "         1 1 1 1 1 0 0 0;\n",
    "         0 1 1 1 1 1 0 1;\n",
    "         0 0 1 1 1 1 1 1];\n",
    "    b = [22; 17; 13; 14; 15; 18; 24 ];\n",
    "    c = [5*96; 5*96; 5*96; 5*96; 5*96; 5*96; 5*96; 3*s(k)]\n",
    "    # JuMP model\n",
    "    model = Model(with_optimizer(GLPK.Optimizer, method = GLPK.SIMPLEX))\n",
    "    # decision variables\n",
    "    @variable(model, x[1:8]>=0, Int)\n",
    "    # constraints\n",
    "    @constraint(model, A*x .>= b)\n",
    "    # objective function\n",
    "    @objective(model, Min, c'*x);\n",
    "    # calculate\n",
    "    optimize!(model)\n",
    "    # return value\n",
    "    objective_value(model)\n",
    "end"
   ]
  },
  {
   "cell_type": "code",
   "execution_count": null,
   "metadata": {},
   "outputs": [],
   "source": []
  },
  {
   "cell_type": "markdown",
   "metadata": {},
   "source": [
    "### Optimizing a univariate function - data fitting\n",
    "\n",
    "Suppose we have a random periodic signal with noise, i.e. $y_i = a \\sin(x_i-b) + c + \\epsilon_i$\n",
    "\n",
    "\n"
   ]
  },
  {
   "cell_type": "code",
   "execution_count": null,
   "metadata": {},
   "outputs": [],
   "source": [
    "# generate data\n",
    "a = 3; b = pi/3; c=10; e=Normal(0,0.1)\n",
    "n = 20;\n",
    "x = sort(rand(Uniform(0,20), n))\n",
    "y = a*sin.(x .- b) .+ c .+ rand(e,n)\n",
    "scatter(x,y)\n",
    "X = 0:0.5:20;\n",
    "plot!(X,a*sin.(X .- b) .+ c )"
   ]
  },
  {
   "cell_type": "code",
   "execution_count": null,
   "metadata": {},
   "outputs": [],
   "source": []
  },
  {
   "cell_type": "markdown",
   "metadata": {},
   "source": [
    "## Optimizing a function with gradient information"
   ]
  },
  {
   "cell_type": "markdown",
   "metadata": {},
   "source": [
    "Suppose we want to minimize a function :\n",
    "$$\\min f(\\bar{x}) = x_1 ^2 + 2.5\\sin(x_2) - x_1^2x_2^2x_3^2 $$\n",
    "\n",
    "Compare the results (computation time) using\n",
    "1. gradient and hessian\n",
    "3. a zero order method (i.e. no gradients used)\n",
    "\n"
   ]
  },
  {
   "cell_type": "code",
   "execution_count": null,
   "metadata": {},
   "outputs": [],
   "source": [
    "# leave\n",
    "using Optim, BenchmarkTools\n",
    "\n",
    "f(x) = x[1]^2 + 2.5*sin(x[2]) - x[1]^2*x[2]^2*x[3]^2\n",
    "initial_x = [-0.6;-1.2; 0.135];\n",
    "\n",
    "# gradients\n",
    "function g!(G, x)\n",
    "    G[1] = 2*x[1] - 2*x[1]*x[2]^2*x[3]^2\n",
    "    G[2] = 2.5*cos(x[2]) - 2*x[1]^2*x[2]*x[3]^2\n",
    "    G[3] = -2*x[1]^2*x[2]^2*x[3]\n",
    "end\n",
    "    \n",
    "function h!(H,x)\n",
    "    H[1,1] = 2 - 2*x[2]^2*x[3]^2 \n",
    "    H[1,2] = -4*x[1]*x[2]*x[3]^2 \n",
    "    H[1,3] = -4*x[1]*x[2]^2*x[3]\n",
    "    H[2,1] = -4*x[1]*x[2]*x[3]^2 \n",
    "    H[2,2] = -2.5*sin(x[2]) - 2*x[1]^2*x[3]^2\n",
    "    H[2,3] = -4*x[1]^2*x[2]*x[3]\n",
    "    H[3,1] = -4*x[1]*x[2]^2*x[3]\n",
    "    H[3,2] = -4*x[1]^2*x[2]*x[3]\n",
    "    H[3,3] = -2*x[1]^2*x[2]^2\n",
    "end"
   ]
  },
  {
   "cell_type": "code",
   "execution_count": null,
   "metadata": {},
   "outputs": [],
   "source": []
  },
  {
   "cell_type": "markdown",
   "metadata": {},
   "source": [
    "### Optimize the optimizer\n",
    "You could study the influence of the optimization methods and try to optimize them as well (this is sometimes refered to as hyperparameter tuning). Try to create a method that minimizes the amount of iteration by modifying the parameter $\\eta$ from the `BFGS` method.\n",
    "\n",
    "FYI: \n",
    "* This is merely as a proof of concept and will not come up with a significant improvement for this case.\n",
    "* Look at the documentation for possible values of $\\eta$."
   ]
  },
  {
   "cell_type": "code",
   "execution_count": null,
   "metadata": {},
   "outputs": [],
   "source": []
  },
  {
   "cell_type": "markdown",
   "metadata": {},
   "source": [
    "## Quadratic Programming - Active set methods\n",
    "\n",
    "Consider the following problem:\n",
    "$$ \\min f(x) = -8x_1 - 16x_2 + x_1^2 + 4x_2^2$$\n",
    "$$\\text{ST:} \\begin{cases}x_1 + x_2 \\le 5 \\\\ x_1 \\le 3 \\\\ x_1 \\ge 0 \\\\ x_2 \\ge 0 \\end{cases}$$\n",
    "\n",
    "Solve this problem as a quadratic programming problem.\n",
    "\n",
    "Reminder general formulation + [documentation](https://github.com/oxfordcontrol/GeneralQP.jl):\n",
    "\n",
    "$$\\min_{\\vec{x}}f\\left( \\vec{x} \\right)\\overset{\\vartriangle}{=} \\frac{1}{2}\\vec{x}^\\mathsf{T} Q \\vec{x} - \\vec{c}^ \\mathsf{T} \\vec{x} $$\n",
    "$$\\text{ST:} \\begin{cases}x_1 + x_2 \\le 5 \\\\ x_1 \\le 3 \\\\ x_1 \\ge 0 \\\\ x_2 \\ge 0 \\end{cases}$$ "
   ]
  },
  {
   "cell_type": "code",
   "execution_count": null,
   "metadata": {},
   "outputs": [],
   "source": [
    "using Plots, GeneralQP\n",
    "# Illustration\n",
    "f(x,y) = - 8x - 16y + x.^2 + 4y.^2\n",
    "x = range(0,3,length=30)\n",
    "y = range(0,3,length=30)\n",
    "Plots.plot(x,y,f,st=:surface, camera=(40,25))\n",
    "xlabel!(\"x\")\n",
    "ylabel!(\"y\")"
   ]
  },
  {
   "cell_type": "code",
   "execution_count": null,
   "metadata": {},
   "outputs": [],
   "source": []
  },
  {
   "cell_type": "markdown",
   "metadata": {},
   "source": [
    "## Sequential Quadratic Programming\n",
    "Reminder & [documentation for NLopt](https://github.com/JuliaOpt/NLopt.jl): \n",
    "$$\n",
    "\\begin{align*}\n",
    "\\min\\, & f\\left(\\vec{x}\\right)\\\\\n",
    "\\textrm{subject to} & \\begin{cases}\n",
    "\\vec{h}\\left(\\vec{x}\\right)=\\vec{0}\\\\\n",
    "\\vec{g}\\left(\\vec{x}\\right)\\leq\\vec{0}\n",
    "\\end{cases}\n",
    "\\end{align*}\n",
    "$$\n",
    "\n",
    "$\\text{where } f:\\mathbb{R}^{n}\\rightarrow\\mathbb{R}, \\vec{h}:\\mathbb{R}^{n}\\rightarrow\\mathbb{R}^{m},\n",
    "m\\leq n, \\text{and } \\vec{g}:\\mathbb{R}^{n}\\rightarrow\\mathbb{R}^{p}.$\n",
    "\n",
    "\n",
    "This allows you to deal with non-linear constraints. Try to solve the following problem:\n",
    "$$\\min_{\\bar{x}} f(\\bar{x}) = -x_1 - x_2$$\n",
    "$$\\text{ST:} \\begin{cases}-x_1^2 + x_2 \\ge 0\\\\1- x_1^2 - x_2^2 \\ge 0\\end{cases}$$ \n",
    "\n",
    "1. Try it once with NLopt\n",
    "2. Try it with JuMP (combined with Ipopt)"
   ]
  },
  {
   "cell_type": "code",
   "execution_count": null,
   "metadata": {},
   "outputs": [],
   "source": []
  }
 ],
 "metadata": {
  "kernelspec": {
   "display_name": "Julia 1.2.0",
   "language": "julia",
   "name": "julia-1.2"
  },
  "language_info": {
   "file_extension": ".jl",
   "mimetype": "application/julia",
   "name": "julia",
   "version": "1.2.0"
  }
 },
 "nbformat": 4,
 "nbformat_minor": 4
}
