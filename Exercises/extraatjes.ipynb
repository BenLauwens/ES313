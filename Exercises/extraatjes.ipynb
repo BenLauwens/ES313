{
 "cells": [
  {
   "cell_type": "markdown",
   "metadata": {},
   "source": [
    "### quicksorting\n",
    "Try to implement the quicksort algorithm (detailed below)\n",
    "```\n",
    "Choose any element of the array to be the pivot.\n",
    "  Divide all other elements (except the pivot) into two partitions.\n",
    "  All elements less than the pivot must be in the first partition.\n",
    "  All elements greater than the pivot must be in the second partition.\n",
    "  Use recursion to sort both partitions.\n",
    "  Join the first sorted partition, the pivot, and the second sorted partition.\n",
    "```\n",
    "\n",
    "Apply your implementation on an array of your own type (e.g. Persons). What do you need to think about? Also, think about efficiency."
   ]
  },
  {
   "cell_type": "code",
   "execution_count": null,
   "metadata": {},
   "outputs": [],
   "source": []
  },
  {
   "cell_type": "markdown",
   "metadata": {},
   "source": [
    "### Playing darts\n",
    "We devide a darts boards in $n$ sections. Each section be considered as equiprobable. The points for each section are input values. \n",
    "\n",
    "For a given amount of darts $k$, determine all the possible combinations to obtain a score $S$. If it is not possible to obtain a certain score with $k$ darts, you should detect this.\n",
    "\n",
    "\n",
    "_Remark:_ we assume that the players are skilled enough and never miss the target."
   ]
  },
  {
   "cell_type": "code",
   "execution_count": null,
   "metadata": {},
   "outputs": [],
   "source": []
  },
  {
   "cell_type": "markdown",
   "metadata": {},
   "source": [
    "### Road simulation\n",
    "* We study a single track road on which cars are moving.\n",
    "* For simplicity's sake, each car has one of 8 discrete velocities (i.e. 0, 1, ... 7)\n",
    "* To avoid collisions behave according to the following rules:\n",
    "    * The road is divided in discrete cases. \n",
    "    * When a car drives at velocity 1, it moves one case in one timestep\n",
    "    * a car changes its velocity in the following way: if there are only $n$ cases available ($n\\le7$), the car will change its velocity to match the amount of available cases. If there are more than the current velocity cases available, the car will accelerate by one case.\n",
    "\n",
    "Think about:\n",
    "* is this approach realistic? \n",
    "* what about case sizes?\n",
    "* what happens when the car leaves the road?\n"
   ]
  },
  {
   "cell_type": "code",
   "execution_count": null,
   "metadata": {},
   "outputs": [],
   "source": []
  },
  {
   "cell_type": "markdown",
   "metadata": {},
   "source": [
    "### Langton's ant\n",
    "Langton's ant is a cellular automaton that models an ant sitting on a plane of cells, all of which are white initially, the ant facing in one of four directions. Each cell can either be black or white. The ant moves according to the color of the cell it is currently sitting in, with the following rules:\n",
    "\n",
    "* If the cell is black, it changes to white and the ant turns left;\n",
    "* If the cell is white, it changes to black and the ant turns right;\n",
    "* The ant then moves forward to the next cell, and repeat from step 1.\n",
    "\n",
    "This rather simple ruleset leads to an initially chaotic movement pattern, and after about 10000 steps, a cycle appears where the ant moves steadily away from the starting location in a diagonal corridor about 10 cells wide. Conceptually the ant can then walk infinitely far away.\n"
   ]
  },
  {
   "cell_type": "code",
   "execution_count": null,
   "metadata": {},
   "outputs": [],
   "source": []
  },
  {
   "cell_type": "markdown",
   "metadata": {},
   "source": [
    "### Pagination\n",
    "Suppose you run a query, but the amount of results is large. For overview, you want to be able to return the values in partial lists of a given length (this is similar to google's search results, you only see $\\pm10$ results per page).\n",
    "\n",
    "_Example:_\n",
    "* Suppose our list is [one,two,three,four,five,six,seven,eight,nine,ten,eleven,twelve,thirtheen,fourtheen,etc.] \n",
    "and we show only five results per page. \n",
    "* The first page would only show [one,two,three,four,five], the seconde page would shouw [six,seven,eight,nine,ten] and so on.\n",
    "\n",
    "Implement this. You should be able to select the amount of items per page, return the first and last page, but also inlcude some sort of next/previous page operation."
   ]
  }
 ],
 "metadata": {
  "kernelspec": {
   "display_name": "Julia 1.0.0",
   "language": "julia",
   "name": "julia-1.0"
  },
  "language_info": {
   "file_extension": ".jl",
   "mimetype": "application/julia",
   "name": "julia",
   "version": "1.0.0"
  }
 },
 "nbformat": 4,
 "nbformat_minor": 2
}
