{
 "cells": [
  {
   "cell_type": "markdown",
   "metadata": {},
   "source": [
    "# Linear programming - Tools\n",
    "We will be using [JuMP](http://www.juliaopt.org/JuMP.jl/v0.20.0/index.html) as a general framework, combined with [GLPK](https://github.com/JuliaOpt/GLPK.jl) as a solver.\n",
    "\n"
   ]
  },
  {
   "cell_type": "code",
   "execution_count": 4,
   "metadata": {},
   "outputs": [],
   "source": [
    "# LP packages\n",
    "using JuMP\n",
    "using GLPK"
   ]
  },
  {
   "cell_type": "code",
   "execution_count": 5,
   "metadata": {},
   "outputs": [],
   "source": [
    "# Various other packages \n",
    "using LinearAlgebra\n",
    "using Distributions\n",
    "using Plots\n",
    "using StatsPlots\n",
    "using LaTeXStrings\n",
    "using Measures"
   ]
  },
  {
   "cell_type": "markdown",
   "metadata": {},
   "source": [
    "# Linear programming - Applications\n"
   ]
  },
  {
   "cell_type": "markdown",
   "metadata": {},
   "source": [
    "\n",
    "## Application 1 - Employee planning\n",
    "We manage a crew of call center employees and want to optimise our shifts in order to reduce the total payroll cost. Employees have to work for five consecutive days and are then given two days off. The current policy is simple: each day gets the same amount of employees (currently we have 5 persons per shift, which leads to 25 persons on any given day).\n",
    "\n",
    "We have some historical data that gives us the minimum amount of calls we can expect: Mon: 22, Tue: 17, Wed:13, Thu:14, Fri: 15, Sat: 18, Sun: 24\n",
    "\n",
    "Employees are payed € 96 per day of work. This lead to the current payroll cost of 25x7x96 = € 16.800. You need to optimize employee planning to reduce the payroll cost.\n",
    "\n",
    "An overview of the current situation is given in the table below:\n",
    "\n",
    "| Schedule | Days worked | Attibuted Pers | Mon | Tue | Wed | Thu | Fri | Sat | Sun |\n",
    "|----------|-------------|----------------|-----|-----|-----|-----|-----|-----|-----|\n",
    "| A | Mon-Fri | 5 | W | W | W | W | W | O | O |\n",
    "| B | Tue-Sat | 5 | O | W | W | W | W | W | O |\n",
    "| C | Wed-Sun | 5 | O | O | W | W | W | W | W |\n",
    "| D | Thu-Mon | 5 | W | O | O | W | W | W | W |\n",
    "| E | Fri-Tue | 5 | W | W | O | O | W | W | W |\n",
    "| F | Sat-Wed | 5 | W | W | W | O | O | W | W |\n",
    "| G | Sun-Thu | 5 | W | W | W | W | O | O | W |\n",
    "| Totals: | - | 35 | 5 | 5 | 5 | 5 | 5 | 5 | 5 |\n",
    "| Required: | - | - | 22 | 17 | 13 | 14 | 15 | 18 | 24 |\n",
    "\n",
    "## Tasks:\n",
    "\n",
    "1. Basic:\n",
    "    * Formaly define the decision variables, the constraints and the objective function.\n",
    "    * Find a solution using JuMP\n",
    "2. Adding uncertainty:\n",
    "    \n",
    "    Up to now, we have had constant numbers the minimum number of employees needed per day. In reality these quantities are uncertain. The actual number of calls will fluctuate each day. For simplicity's sake will we use a [lognormal distribution](https://en.wikipedia.org/wiki/Log-normal_distribution#Occurrence_and_applications) for the amount of calls (using their initial value as mean and a standard deviation of two). Working this way, we avoid having negative calls.\n",
    "    * Run a large number of simulations to see how the payroll cost is distributed\n",
    "    * Add a commission, i.e. suppose each worker receives extra pay for the amount of calls they have treated.\n",
    "    * Playing it safe: the previous experiment has given you some information on what the distributions of the payroll cost might be, however in reality, you would want to make sure that the clients calling the center are taken care off. To realise this, one might say that for any given day, you want to make sure that 90% of all calls can be treated by the specific capacity.\n",
    "\n",
    "3. Food for thought:\n",
    "    * The example we have treated so far has very traditional working patterns for the employees. Study the influence of more modern patterns on the payroll cost of the business (e.g. 4/5 or parttime working)\n",
    "    * We took a look at the stochastic nature of the amount of calls, however, the personnel might not show up for various reasons. How would you describe the possible influence? Hint: make a discrete event model of this setting, using the optimal design and controlling for employees showing up or not.\n"
   ]
  },
  {
   "cell_type": "code",
   "execution_count": null,
   "metadata": {},
   "outputs": [],
   "source": []
  }
 ],
 "metadata": {
  "kernelspec": {
   "display_name": "Julia 1.2.0",
   "language": "julia",
   "name": "julia-1.2"
  },
  "language_info": {
   "file_extension": ".jl",
   "mimetype": "application/julia",
   "name": "julia",
   "version": "1.2.0"
  }
 },
 "nbformat": 4,
 "nbformat_minor": 4
}
