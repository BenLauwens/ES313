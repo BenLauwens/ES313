{
 "cells": [
  {
   "cell_type": "markdown",
   "metadata": {},
   "source": [
    "# Phase transition in networks\n",
    "## Generalities - Networks 1.0\n",
    "A network is a set of objects (called nodes or vertices) that are connected together. The connections between the nodes are called edges or links. In mathematics, networks are often referred to as graphs. \n",
    "\n",
    "In the following, we will only consider undirected networks (i.e. if node $i$ is connected to node $j$, then node $j$ is automatically connected to node $i$ as is the case with Facebook friendships). For unweighted networks of $N$ nodes, the network structure can be represented by an $N \\times N$ adjacency matrix $A$:\n",
    "\n",
    "$$ a_{i,j} = \\left\\{\n",
    "                \\begin{array}{ll}\n",
    "                  1 & \\text{if there is an edge from node $i$ to node $j$}\\\\\n",
    "                  0 & \\text{otherwise}\\\\\n",
    "                \\end{array}\n",
    "                \\right.\n",
    "$$\n",
    "\n",
    "The degree of a node degree of a node $i$ is the number of connections it has. In terms of the adjacency matrix\n",
    "$A$, the degree of node $i$ is the sum of the i$^{\\text{th}}$ row of $A$:\n",
    "$$k_i = \\sum_{j=1}^{N}a_{i,j}$$\n",
    "\n",
    "\n",
    "The average node degree $\\langle k \\rangle$ is then given by: $$\\langle k \\rangle = \\sum_{i=1}^{N}k_{i}$$\n",
    "\n",
    "\n",
    "## Erdös-Rényi random graph model\n",
    "One of the simplest graph models is the Erdös-Rényi random graph model, denoted by $\\mathcal{G}(N,p)$ with $N$ being the amount of nodes and $p$ being the probability that a link exists between two nodes. Self-loops are excluded. The value of $p$ is typically small (this is to avoid that the average degree $\\langle k \\rangle$ depends on $N$, cf. specialised literature for more details). When studying random graph model models, a major aim is to predict the average behaviour of certain network metrics and, if possible, their variance.\n",
    "\n",
    "\n",
    "\n",
    "The Erdös-Rényi random graph  exhibits a phase transition. Let us consider the size (i.e., number of nodes) of the largest connected component in the network as a function of the mean degree ⟨k⟩. When ⟨k⟩ = 0, the network is trivially composed of N disconnected nodes. In the other extreme of ⟨k⟩ = N − 1, each node pair is adjacent such that the network is trivially connected. Between the two extremes, the network does not change smoothly in terms of the largest component size. Instead, a giant component, i.e., a component whose size is the largest and proportional to N, suddenly appears as ⟨k⟩ increases, marking a phase transition. The goal of this application is to determine this value by simulation.\n",
    "\n",
    "## Problem solution\n",
    "We split the problem in a series of subproblems:\n",
    "* generating a random graph\n",
    "* determine the average degree\n",
    "* identifying the size of the largest connected component\n",
    "* visualising the result\n",
    "* determine the critical value"
   ]
  },
  {
   "cell_type": "code",
   "execution_count": null,
   "metadata": {},
   "outputs": [],
   "source": []
  }
 ],
 "metadata": {
  "kernelspec": {
   "display_name": "Julia 1.2.0",
   "language": "julia",
   "name": "julia-1.2"
  },
  "language_info": {
   "file_extension": ".jl",
   "mimetype": "application/julia",
   "name": "julia",
   "version": "1.2.0"
  }
 },
 "nbformat": 4,
 "nbformat_minor": 2
}
