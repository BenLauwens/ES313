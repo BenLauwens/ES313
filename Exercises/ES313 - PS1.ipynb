{
 "cells": [
  {
   "cell_type": "markdown",
   "metadata": {},
   "source": [
    "# First practical session (Aug, 29)\n",
    "looking for help:"
   ]
  },
  {
   "cell_type": "code",
   "execution_count": 2,
   "metadata": {},
   "outputs": [
    {
     "name": "stdout",
     "output_type": "stream",
     "text": [
      "search: \u001b[0m\u001b[1mp\u001b[22m\u001b[0m\u001b[1mr\u001b[22m\u001b[0m\u001b[1mi\u001b[22m\u001b[0m\u001b[1mn\u001b[22m\u001b[0m\u001b[1mt\u001b[22m \u001b[0m\u001b[1mp\u001b[22m\u001b[0m\u001b[1mr\u001b[22m\u001b[0m\u001b[1mi\u001b[22m\u001b[0m\u001b[1mn\u001b[22m\u001b[0m\u001b[1mt\u001b[22mln \u001b[0m\u001b[1mp\u001b[22m\u001b[0m\u001b[1mr\u001b[22m\u001b[0m\u001b[1mi\u001b[22m\u001b[0m\u001b[1mn\u001b[22m\u001b[0m\u001b[1mt\u001b[22mstyled \u001b[0m\u001b[1mp\u001b[22m\u001b[0m\u001b[1mr\u001b[22m\u001b[0m\u001b[1mi\u001b[22m\u001b[0m\u001b[1mn\u001b[22m\u001b[0m\u001b[1mt\u001b[22m_shortest \u001b[0m\u001b[1mp\u001b[22m\u001b[0m\u001b[1mr\u001b[22m\u001b[0m\u001b[1mi\u001b[22m\u001b[0m\u001b[1mn\u001b[22m\u001b[0m\u001b[1mt\u001b[22m_with_color s\u001b[0m\u001b[1mp\u001b[22m\u001b[0m\u001b[1mr\u001b[22m\u001b[0m\u001b[1mi\u001b[22m\u001b[0m\u001b[1mn\u001b[22m\u001b[0m\u001b[1mt\u001b[22m is\u001b[0m\u001b[1mp\u001b[22m\u001b[0m\u001b[1mr\u001b[22m\u001b[0m\u001b[1mi\u001b[22m\u001b[0m\u001b[1mn\u001b[22m\u001b[0m\u001b[1mt\u001b[22m\n",
      "\n"
     ]
    },
    {
     "data": {
      "text/markdown": [
       "```\n",
       "print([io::IO], xs...)\n",
       "```\n",
       "\n",
       "Write to `io` (or to the default output stream [`stdout`](@ref) if `io` is not given) a canonical (un-decorated) text representation of values `xs` if there is one, otherwise call [`show`](@ref). The representation used by `print` includes minimal formatting and tries to avoid Julia-specific details.\n",
       "\n",
       "Printing `nothing` is deprecated and will throw an error in the future.\n",
       "\n",
       "# Examples\n",
       "\n",
       "```jldoctest\n",
       "julia> print(\"Hello World!\")\n",
       "Hello World!\n",
       "julia> io = IOBuffer();\n",
       "\n",
       "julia> print(io, \"Hello\", ' ', :World!)\n",
       "\n",
       "julia> String(take!(io))\n",
       "\"Hello World!\"\n",
       "```\n"
      ],
      "text/plain": [
       "\u001b[36m  print([io::IO], xs...)\u001b[39m\n",
       "\n",
       "  Write to \u001b[36mio\u001b[39m (or to the default output stream \u001b[36mstdout\u001b[39m if \u001b[36mio\u001b[39m is not given) a\n",
       "  canonical (un-decorated) text representation of values \u001b[36mxs\u001b[39m if there is one,\n",
       "  otherwise call \u001b[36mshow\u001b[39m. The representation used by \u001b[36mprint\u001b[39m includes minimal\n",
       "  formatting and tries to avoid Julia-specific details.\n",
       "\n",
       "  Printing \u001b[36mnothing\u001b[39m is deprecated and will throw an error in the future.\n",
       "\n",
       "\u001b[1m  Examples\u001b[22m\n",
       "\u001b[1m  ≡≡≡≡≡≡≡≡≡≡\u001b[22m\n",
       "\n",
       "\u001b[36m  julia> print(\"Hello World!\")\u001b[39m\n",
       "\u001b[36m  Hello World!\u001b[39m\n",
       "\u001b[36m  julia> io = IOBuffer();\u001b[39m\n",
       "\u001b[36m  \u001b[39m\n",
       "\u001b[36m  julia> print(io, \"Hello\", ' ', :World!)\u001b[39m\n",
       "\u001b[36m  \u001b[39m\n",
       "\u001b[36m  julia> String(take!(io))\u001b[39m\n",
       "\u001b[36m  \"Hello World!\"\u001b[39m"
      ]
     },
     "execution_count": 2,
     "metadata": {},
     "output_type": "execute_result"
    }
   ],
   "source": [
    "?print"
   ]
  },
  {
   "cell_type": "markdown",
   "metadata": {},
   "source": [
    "## way of the program\n",
    "In a print statement, what happens if you leave out one of the parentheses, or both?\n",
    "\n",
    "If you are trying to print a string, what happens if you leave out one of the quotation marks, or both?\n",
    "\n",
    "You can use a minus sign to make a negative number like -2. What happens if you put a plus sign before a number? What about 2++2?\n",
    "\n",
    "In math notation, leading zeros are ok, as in 02. What happens if you try this in Julia?\n",
    "\n",
    "What happens if you have two values with no operator between them?"
   ]
  },
  {
   "cell_type": "code",
   "execution_count": 1,
   "metadata": {},
   "outputs": [
    {
     "data": {
      "text/plain": [
       "-2"
      ]
     },
     "execution_count": 1,
     "metadata": {},
     "output_type": "execute_result"
    }
   ],
   "source": [
    "-2"
   ]
  },
  {
   "cell_type": "code",
   "execution_count": 3,
   "metadata": {},
   "outputs": [
    {
     "data": {
      "text/plain": [
       "2"
      ]
     },
     "execution_count": 3,
     "metadata": {},
     "output_type": "execute_result"
    }
   ],
   "source": [
    "0002 # leading zeros are ignored"
   ]
  },
  {
   "cell_type": "markdown",
   "metadata": {},
   "source": [
    "Start the Julia REPL and use it as a calculator.\n",
    "\n",
    "How many seconds are there in 42 minutes 42 seconds?\n",
    "\n",
    "How many miles are there in 10 kilometers? Hint: there are 1.61 kilometers in a mile.\n",
    "\n",
    "If you run a 10 kilometer race in 42 minutes 42 seconds, what is your average pace (time per mile in minutes and seconds)? What is your average speed in miles per hour?"
   ]
  },
  {
   "cell_type": "code",
   "execution_count": 4,
   "metadata": {},
   "outputs": [
    {
     "data": {
      "text/plain": [
       "6.211180124223602"
      ]
     },
     "execution_count": 4,
     "metadata": {},
     "output_type": "execute_result"
    }
   ],
   "source": [
    "10/1.61"
   ]
  },
  {
   "cell_type": "markdown",
   "metadata": {},
   "source": [
    "#### Working with types"
   ]
  },
  {
   "cell_type": "code",
   "execution_count": 7,
   "metadata": {},
   "outputs": [
    {
     "data": {
      "text/plain": [
       "Float64"
      ]
     },
     "execution_count": 7,
     "metadata": {},
     "output_type": "execute_result"
    }
   ],
   "source": [
    "x = Int8(2)\n",
    "y = 5.2\n",
    "typeof(x+y)"
   ]
  },
  {
   "cell_type": "markdown",
   "metadata": {},
   "source": [
    "## Working with strings\n",
    "Why? usefull for printing, logging, etc. One can include a variable in a string"
   ]
  },
  {
   "cell_type": "code",
   "execution_count": 8,
   "metadata": {},
   "outputs": [
    {
     "data": {
      "text/plain": [
       "\"the value of x = 2\""
      ]
     },
     "execution_count": 8,
     "metadata": {},
     "output_type": "execute_result"
    }
   ],
   "source": [
    "\"the value of x = $x\""
   ]
  },
  {
   "cell_type": "markdown",
   "metadata": {},
   "source": [
    "One can also evaluate an expression in the string"
   ]
  },
  {
   "cell_type": "code",
   "execution_count": 10,
   "metadata": {},
   "outputs": [
    {
     "data": {
      "text/plain": [
       "\"the value of x + y = 7.2\""
      ]
     },
     "execution_count": 10,
     "metadata": {},
     "output_type": "execute_result"
    }
   ],
   "source": [
    "\"the value of x + y = $(x+y)\" # mind the parenthesis"
   ]
  },
  {
   "cell_type": "code",
   "execution_count": null,
   "metadata": {},
   "outputs": [],
   "source": []
  },
  {
   "cell_type": "markdown",
   "metadata": {},
   "source": [
    "## Working with functions (basic)"
   ]
  },
  {
   "cell_type": "markdown",
   "metadata": {},
   "source": [
    "We solve a simple quadratic equation $ax^2+bx+c=0$. Write a function for the discriminant and one that uses this result to find the actual roots. Draw the stackdiagram of your solution. What happens for complex roots? Verify that everything works as intended with a simple example."
   ]
  },
  {
   "cell_type": "code",
   "execution_count": 15,
   "metadata": {},
   "outputs": [
    {
     "data": {
      "text/plain": [
       "Tuple{Complex{Float64},Complex{Float64}}"
      ]
     },
     "execution_count": 15,
     "metadata": {},
     "output_type": "execute_result"
    }
   ],
   "source": [
    "a = 1; b = 0; c = -4\n",
    "function Δ(a,b,c)\n",
    "    Δ = b^2 - 4*a*c\n",
    "end\n",
    "function roots(a,b,c)\n",
    "    D = Δ(a,b,c)\n",
    "    x₁ = (-b + sqrt(Complex(D)))/(2*a)\n",
    "    x₂ = (-b - sqrt(Complex(D)))/(2*a)\n",
    "    return(x₁,x₂)\n",
    "end\n",
    "\n",
    "typeof(roots(a,b,c))"
   ]
  },
  {
   "cell_type": "markdown",
   "metadata": {},
   "source": [
    "#### Looking for errors\n",
    "The function below is not working as intended. Use `println()` to find the error. "
   ]
  },
  {
   "cell_type": "code",
   "execution_count": 19,
   "metadata": {},
   "outputs": [
    {
     "name": "stdout",
     "output_type": "stream",
     "text": [
      "Controle value: 113.09733552923254\n",
      "523.5987755982989\n",
      "523.5987755982989\n"
     ]
    },
    {
     "data": {
      "text/plain": [
       "Float64"
      ]
     },
     "execution_count": 19,
     "metadata": {},
     "output_type": "execute_result"
    }
   ],
   "source": [
    "# volume of a sphere: 4/3 * π * r³\n",
    "# controle value\n",
    "r = 3\n",
    "V = 4/3 * π * r^3\n",
    "println(\"Controle value: $V\")\n",
    "\n",
    "function spherevolume(r)\n",
    "    #r = 3 # problem!\n",
    "    V = 4/3 * π * r^3\n",
    "    println(V)\n",
    "    return V\n",
    "end\n",
    "\n",
    "V = spherevolume(5)\n",
    "println(V)\n",
    "typeof(V)"
   ]
  },
  {
   "cell_type": "markdown",
   "metadata": {},
   "source": [
    "## Debugging a project\n",
    "using `println()` is good for small-scale logging and/or testing, but when running more complex code, it can be a burden to activate/deactive all the `println()` statements manually. There is an more elegant way to do this using the `Logging` package. Below some basic usage will be shown, for more advanced use, refer to the [package manual](https://docs.julialang.org/en/latest/stdlib/Logging/). \n",
    "\n",
    "Use Debug for verbose information that could be useful when debugging an application or module. These events are disabled by default.\n",
    "Use Info to inform the user about the normal operation of the program.\n",
    "Use Warn when a potential problem is detected.\n",
    "Use Error to report errors where the code has enough context to recover and continue. (When the code doesn't have enough context, an exception or early return is more appropriate.)\n",
    "\n",
    "disable_logging(level)\n",
    "Disable all log messages at log levels equal to or less than level. This is a global setting, intended to make debug logging extremely cheap when disabled."
   ]
  },
  {
   "cell_type": "code",
   "execution_count": 20,
   "metadata": {},
   "outputs": [],
   "source": [
    "using Logging"
   ]
  },
  {
   "cell_type": "markdown",
   "metadata": {},
   "source": [
    "### Logging in the notebook\n",
    "By default, a logger is already active, but its level is set to \"info\", so debug messages will not be passed trough (as shown below)."
   ]
  },
  {
   "cell_type": "code",
   "execution_count": 21,
   "metadata": {},
   "outputs": [
    {
     "data": {
      "text/plain": [
       "SimpleLogger(IJulia.IJuliaStdio{Base.PipeEndpoint}(IOContext(Base.PipeEndpoint(RawFD(0x0000002f) open, 0 bytes waiting))), Info, Dict{Any,Int64}())"
      ]
     },
     "execution_count": 21,
     "metadata": {},
     "output_type": "execute_result"
    }
   ],
   "source": [
    "logger = Logging.current_logger()"
   ]
  },
  {
   "cell_type": "code",
   "execution_count": 22,
   "metadata": {},
   "outputs": [
    {
     "data": {
      "text/plain": [
       "Info"
      ]
     },
     "execution_count": 22,
     "metadata": {},
     "output_type": "execute_result"
    }
   ],
   "source": [
    "logger.min_level"
   ]
  },
  {
   "cell_type": "code",
   "execution_count": 23,
   "metadata": {},
   "outputs": [
    {
     "name": "stderr",
     "output_type": "stream",
     "text": [
      "┌ Error: This is an error\n",
      "└ @ Main In[23]:1\n"
     ]
    }
   ],
   "source": [
    "@error \"This is an error\""
   ]
  },
  {
   "cell_type": "code",
   "execution_count": 24,
   "metadata": {},
   "outputs": [
    {
     "name": "stderr",
     "output_type": "stream",
     "text": [
      "┌ Warning: This is a warning!\n",
      "└ @ Main In[24]:1\n"
     ]
    }
   ],
   "source": [
    "@warn \"This is a warning!\""
   ]
  },
  {
   "cell_type": "code",
   "execution_count": 25,
   "metadata": {},
   "outputs": [
    {
     "name": "stderr",
     "output_type": "stream",
     "text": [
      "┌ Info: This is information\n",
      "└ @ Main In[25]:1\n"
     ]
    }
   ],
   "source": [
    "@info \"This is information\""
   ]
  },
  {
   "cell_type": "code",
   "execution_count": 26,
   "metadata": {},
   "outputs": [],
   "source": [
    "@debug \"The 'debug' level is not visual by default\""
   ]
  },
  {
   "cell_type": "code",
   "execution_count": 27,
   "metadata": {},
   "outputs": [
    {
     "name": "stderr",
     "output_type": "stream",
     "text": [
      "┌ LogLevel(1500): This is a message that will be shown at a custom level\n",
      "└ @ Main In[27]:1\n"
     ]
    }
   ],
   "source": [
    "@logmsg LogLevel(1500) \"This is a message that will be shown at a custom level\""
   ]
  },
  {
   "cell_type": "markdown",
   "metadata": {},
   "source": [
    "*Hint:* You can also create your own loggers, with a minimum level. The variable `stdout` is the global variable referring to the standard out stream (See the section 'writing to a file' for other applications)."
   ]
  },
  {
   "cell_type": "code",
   "execution_count": 28,
   "metadata": {},
   "outputs": [
    {
     "data": {
      "text/plain": [
       "SimpleLogger(IJulia.IJuliaStdio{Base.PipeEndpoint}(IOContext(Base.PipeEndpoint(RawFD(0x0000002b) open, 0 bytes waiting))), LogLevel(-2000), Dict{Any,Int64}())"
      ]
     },
     "execution_count": 28,
     "metadata": {},
     "output_type": "execute_result"
    }
   ],
   "source": [
    "ownlogger = SimpleLogger(stdout,LogLevel(-2000))"
   ]
  },
  {
   "cell_type": "markdown",
   "metadata": {},
   "source": [
    "And replace the current global logger by the newly defined one:"
   ]
  },
  {
   "cell_type": "code",
   "execution_count": 29,
   "metadata": {},
   "outputs": [
    {
     "data": {
      "text/plain": [
       "SimpleLogger(IJulia.IJuliaStdio{Base.PipeEndpoint}(IOContext(Base.PipeEndpoint(RawFD(0x0000002f) open, 0 bytes waiting))), Info, Dict{Any,Int64}())"
      ]
     },
     "execution_count": 29,
     "metadata": {},
     "output_type": "execute_result"
    }
   ],
   "source": [
    "global_logger(ownlogger)"
   ]
  },
  {
   "cell_type": "code",
   "execution_count": 30,
   "metadata": {},
   "outputs": [
    {
     "name": "stdout",
     "output_type": "stream",
     "text": [
      "┌ Debug: debug message\n",
      "└ @ Main In[30]:1\n"
     ]
    }
   ],
   "source": [
    "@debug \"debug message\""
   ]
  },
  {
   "cell_type": "markdown",
   "metadata": {},
   "source": [
    "For debugging purposes, you can add your own custom debug levels:"
   ]
  },
  {
   "cell_type": "code",
   "execution_count": 31,
   "metadata": {},
   "outputs": [
    {
     "name": "stdout",
     "output_type": "stream",
     "text": [
      "┌ LogLevel(-500): debug message @-500\n",
      "└ @ Main In[31]:1\n",
      "┌ LogLevel(200): debug message @200\n",
      "└ @ Main In[31]:2\n"
     ]
    }
   ],
   "source": [
    "@logmsg LogLevel(-500) \"debug message @-500\"\n",
    "@logmsg LogLevel(200) \"debug message @200\""
   ]
  },
  {
   "cell_type": "markdown",
   "metadata": {},
   "source": [
    "We can suppress messages that we no longer need by a global setting. You can see the immediate effect on the cell below:"
   ]
  },
  {
   "cell_type": "code",
   "execution_count": 32,
   "metadata": {},
   "outputs": [
    {
     "data": {
      "text/plain": [
       "LogLevel(1)"
      ]
     },
     "execution_count": 32,
     "metadata": {},
     "output_type": "execute_result"
    }
   ],
   "source": [
    "disable_logging(LogLevel(0))"
   ]
  },
  {
   "cell_type": "code",
   "execution_count": 33,
   "metadata": {},
   "outputs": [
    {
     "name": "stdout",
     "output_type": "stream",
     "text": [
      "┌ LogLevel(200): debug message @200\n",
      "└ @ Main In[33]:2\n"
     ]
    }
   ],
   "source": [
    "@logmsg LogLevel(-500) \"debug message @-500\"\n",
    "@logmsg LogLevel(200) \"debug message @200\""
   ]
  },
  {
   "cell_type": "markdown",
   "metadata": {},
   "source": [
    "We finish by an example combining what we have seen up to now."
   ]
  },
  {
   "cell_type": "code",
   "execution_count": 34,
   "metadata": {},
   "outputs": [
    {
     "data": {
      "text/plain": [
       "parabolaroots"
      ]
     },
     "execution_count": 34,
     "metadata": {},
     "output_type": "execute_result"
    }
   ],
   "source": [
    "\"\"\"\n",
    "    parabolaroots(a,b,c)\n",
    "\n",
    "Returns the roots of a 2nd degree polynomial a*x^2 + b*x + c\n",
    "\"\"\"\n",
    "function parabolaroots(a,b,c)\n",
    "    D = b^2 - 4*a*c\n",
    "    @logmsg LogLevel(-100) \"The disciminant is equal to $D\"\n",
    "    x₁ = (-b + sqrt(D))/(2*a)\n",
    "    x₂ = (-b - sqrt(D))/(2*a)\n",
    "    @logmsg LogLevel(-100) \"The roots are equal to $x₁ and $x₂\"\n",
    "    return x₁,x₂\n",
    "end"
   ]
  },
  {
   "cell_type": "code",
   "execution_count": 35,
   "metadata": {},
   "outputs": [
    {
     "data": {
      "text/plain": [
       "(3.0, -3.0)"
      ]
     },
     "execution_count": 35,
     "metadata": {},
     "output_type": "execute_result"
    }
   ],
   "source": [
    "parabolaroots(1,0,-9)"
   ]
  },
  {
   "cell_type": "code",
   "execution_count": 36,
   "metadata": {},
   "outputs": [
    {
     "name": "stdout",
     "output_type": "stream",
     "text": [
      "┌ LogLevel(-100): The disciminant is equal to 36\n",
      "└ @ Main In[34]:8\n",
      "┌ LogLevel(-100): The roots are equal to 3.0 and -3.0\n",
      "└ @ Main In[34]:11\n"
     ]
    },
    {
     "data": {
      "text/plain": [
       "(3.0, -3.0)"
      ]
     },
     "execution_count": 36,
     "metadata": {},
     "output_type": "execute_result"
    }
   ],
   "source": [
    "disable_logging(LogLevel(-1001))\n",
    "parabolaroots(1,0,-9)"
   ]
  },
  {
   "cell_type": "markdown",
   "metadata": {},
   "source": [
    "### Logging to a file\n",
    "When running more advanced models, it is not always interesting to have a lot of output in the console, one may prefere writing information to a text file for later analyses (or even as input for another text processing function).\n"
   ]
  },
  {
   "cell_type": "code",
   "execution_count": 37,
   "metadata": {},
   "outputs": [
    {
     "data": {
      "text/plain": [
       "IOStream(<file LogFile.txt>)"
      ]
     },
     "execution_count": 37,
     "metadata": {},
     "output_type": "execute_result"
    }
   ],
   "source": [
    "# open input/output stream\n",
    "logstream = open(\"LogFile.txt\", \"w+\")"
   ]
  },
  {
   "cell_type": "code",
   "execution_count": 38,
   "metadata": {},
   "outputs": [
    {
     "data": {
      "text/plain": [
       "SimpleLogger(IOStream(<file LogFile.txt>), Debug, Dict{Any,Int64}())"
      ]
     },
     "execution_count": 38,
     "metadata": {},
     "output_type": "execute_result"
    }
   ],
   "source": [
    "# create logger that writes to the stream\n",
    "externallogger = SimpleLogger(logstream,LogLevel(-1000))"
   ]
  },
  {
   "cell_type": "code",
   "execution_count": 39,
   "metadata": {},
   "outputs": [
    {
     "data": {
      "text/plain": [
       "SimpleLogger(IJulia.IJuliaStdio{Base.PipeEndpoint}(IOContext(Base.PipeEndpoint(RawFD(0x0000002b) open, 0 bytes waiting))), LogLevel(-2000), Dict{Any,Int64}())"
      ]
     },
     "execution_count": 39,
     "metadata": {},
     "output_type": "execute_result"
    }
   ],
   "source": [
    "# set global logger to the newly defined one\n",
    "global_logger(externallogger)"
   ]
  },
  {
   "cell_type": "code",
   "execution_count": 40,
   "metadata": {},
   "outputs": [],
   "source": [
    "parabolaroots(1,0,-9);\n",
    "parabolaroots(1,0,-4);"
   ]
  },
  {
   "cell_type": "code",
   "execution_count": 41,
   "metadata": {},
   "outputs": [],
   "source": [
    "# Commit all currently buffered writes to the stream and close the file (important for stability)\n",
    "flush(logstream)\n",
    "close(logstream)"
   ]
  },
  {
   "cell_type": "code",
   "execution_count": null,
   "metadata": {},
   "outputs": [],
   "source": []
  }
 ],
 "metadata": {
  "kernelspec": {
   "display_name": "Julia 0.7.0-beta2",
   "language": "julia",
   "name": "julia-0.7"
  },
  "language_info": {
   "file_extension": ".jl",
   "mimetype": "application/julia",
   "name": "julia",
   "version": "0.7.0"
  }
 },
 "nbformat": 4,
 "nbformat_minor": 2
}
