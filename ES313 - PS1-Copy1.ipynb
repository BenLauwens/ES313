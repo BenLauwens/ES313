{
 "cells": [
  {
   "cell_type": "markdown",
   "metadata": {},
   "source": [
    "# First practical session\n",
    "looking for help:"
   ]
  },
  {
   "cell_type": "code",
   "execution_count": null,
   "metadata": {},
   "outputs": [],
   "source": [
    "?print"
   ]
  },
  {
   "cell_type": "markdown",
   "metadata": {},
   "source": [
    "## way of the program\n",
    "In a print statement, what happens if you leave out one of the parentheses, or both?\n",
    "\n",
    "If you are trying to print a string, what happens if you leave out one of the quotation marks, or both?\n",
    "\n",
    "You can use a minus sign to make a negative number like -2. What happens if you put a plus sign before a number? What about 2++2?\n",
    "\n",
    "In math notation, leading zeros are ok, as in 02. What happens if you try this in Julia?\n",
    "\n",
    "What happens if you have two values with no operator between them?"
   ]
  },
  {
   "cell_type": "code",
   "execution_count": null,
   "metadata": {},
   "outputs": [],
   "source": []
  },
  {
   "cell_type": "markdown",
   "metadata": {},
   "source": [
    "Start the Julia REPL and use it as a calculator.\n",
    "\n",
    "How many seconds are there in 42 minutes 42 seconds?\n",
    "\n",
    "How many miles are there in 10 kilometers? Hint: there are 1.61 kilometers in a mile.\n",
    "\n",
    "If you run a 10 kilometer race in 42 minutes 42 seconds, what is your average pace (time per mile in minutes and seconds)? What is your average speed in miles per hour?"
   ]
  },
  {
   "cell_type": "code",
   "execution_count": null,
   "metadata": {},
   "outputs": [],
   "source": []
  },
  {
   "cell_type": "markdown",
   "metadata": {},
   "source": [
    "#### Working with types"
   ]
  },
  {
   "cell_type": "code",
   "execution_count": null,
   "metadata": {},
   "outputs": [],
   "source": []
  },
  {
   "cell_type": "markdown",
   "metadata": {},
   "source": [
    "## Working with strings\n",
    "Why? usefull for printing, logging, etc. One can include a variable in a string"
   ]
  },
  {
   "cell_type": "code",
   "execution_count": null,
   "metadata": {},
   "outputs": [],
   "source": []
  },
  {
   "cell_type": "markdown",
   "metadata": {},
   "source": [
    "One can also evaluate an expression in the string"
   ]
  },
  {
   "cell_type": "code",
   "execution_count": null,
   "metadata": {},
   "outputs": [],
   "source": []
  },
  {
   "cell_type": "code",
   "execution_count": null,
   "metadata": {},
   "outputs": [],
   "source": []
  },
  {
   "cell_type": "markdown",
   "metadata": {},
   "source": [
    "## Working with functions (basic)"
   ]
  },
  {
   "cell_type": "markdown",
   "metadata": {},
   "source": [
    "We solve a simple quadratic equation $ax^2+bx+c=0$. Write a function for the discriminant and one that uses this result to find the actual roots. Draw the stackdiagram of your solution. What happens for complex roots? Verify that everything works as intended with a simple example."
   ]
  },
  {
   "cell_type": "code",
   "execution_count": null,
   "metadata": {},
   "outputs": [],
   "source": []
  },
  {
   "cell_type": "markdown",
   "metadata": {},
   "source": [
    "#### Looking for errors\n",
    "The function below is not working as intended. Use `println()` to find the error. "
   ]
  },
  {
   "cell_type": "code",
   "execution_count": null,
   "metadata": {},
   "outputs": [],
   "source": [
    "# volume of a sphere: 4/3 * π * r³\n",
    "# controle value\n",
    "r = 3\n",
    "V = 4/3 * π * r^3\n",
    "println(\"Controle value: $V\")\n",
    "\n",
    "function spherevolume(r)\n",
    "    r = 3\n",
    "    V = 4/3 * π * r^3\n",
    "    println(V)\n",
    "end\n",
    "\n",
    "V = spherevolume(5)\n",
    "println(V)"
   ]
  },
  {
   "cell_type": "markdown",
   "metadata": {},
   "source": [
    "## Debugging a project\n",
    "using `println()` is good for small-scale logging and/or testing, but when running more complex code, it can be a burden to activate/deactive all the `println()` statements manually. There is an more elegant way to do this using the `Logging` package. Below some basic usage will be shown, for more advanced use, refer to the [package manual](https://docs.julialang.org/en/latest/stdlib/Logging/). \n",
    "\n",
    "Use Debug for verbose information that could be useful when debugging an application or module. These events are disabled by default.\n",
    "Use Info to inform the user about the normal operation of the program.\n",
    "Use Warn when a potential problem is detected.\n",
    "Use Error to report errors where the code has enough context to recover and continue. (When the code doesn't have enough context, an exception or early return is more appropriate.)\n",
    "\n",
    "disable_logging(level)\n",
    "Disable all log messages at log levels equal to or less than level. This is a global setting, intended to make debug logging extremely cheap when disabled."
   ]
  },
  {
   "cell_type": "code",
   "execution_count": null,
   "metadata": {},
   "outputs": [],
   "source": [
    "using Logging"
   ]
  },
  {
   "cell_type": "markdown",
   "metadata": {},
   "source": [
    "### Logging in the notebook\n",
    "By default, a logger is already active, but its level is set to \"info\", so debug messages will not be passed trough (as shown below)."
   ]
  },
  {
   "cell_type": "code",
   "execution_count": null,
   "metadata": {},
   "outputs": [],
   "source": [
    "logger = Logging.current_logger()"
   ]
  },
  {
   "cell_type": "code",
   "execution_count": null,
   "metadata": {},
   "outputs": [],
   "source": [
    "logger.min_level"
   ]
  },
  {
   "cell_type": "code",
   "execution_count": null,
   "metadata": {},
   "outputs": [],
   "source": [
    "@error \"This is an error\""
   ]
  },
  {
   "cell_type": "code",
   "execution_count": null,
   "metadata": {},
   "outputs": [],
   "source": [
    "@warn \"This is a warning!\""
   ]
  },
  {
   "cell_type": "code",
   "execution_count": null,
   "metadata": {},
   "outputs": [],
   "source": [
    "@info \"This is information\""
   ]
  },
  {
   "cell_type": "code",
   "execution_count": null,
   "metadata": {},
   "outputs": [],
   "source": [
    "@debug \"The 'debug' level is not visual by default\""
   ]
  },
  {
   "cell_type": "code",
   "execution_count": null,
   "metadata": {},
   "outputs": [],
   "source": [
    "@logmsg LogLevel(1500) \"This is a message that will be shown at a custom level\""
   ]
  },
  {
   "cell_type": "markdown",
   "metadata": {},
   "source": [
    "*Hint:* You can also create your own loggers, with a minimum level. The variable `stdout` is the global variable referring to the standard out stream (See the section 'writing to a file' for other applications)."
   ]
  },
  {
   "cell_type": "code",
   "execution_count": null,
   "metadata": {},
   "outputs": [],
   "source": [
    "ownlogger = SimpleLogger(stdout,LogLevel(-2000))"
   ]
  },
  {
   "cell_type": "markdown",
   "metadata": {},
   "source": [
    "And replace the current global logger by the newly defined one:"
   ]
  },
  {
   "cell_type": "code",
   "execution_count": null,
   "metadata": {},
   "outputs": [],
   "source": [
    "global_logger(ownlogger)"
   ]
  },
  {
   "cell_type": "code",
   "execution_count": null,
   "metadata": {},
   "outputs": [],
   "source": [
    "@debug \"debug message\""
   ]
  },
  {
   "cell_type": "markdown",
   "metadata": {},
   "source": [
    "For debugging purposes, you can add your own custom debug levels:"
   ]
  },
  {
   "cell_type": "code",
   "execution_count": null,
   "metadata": {},
   "outputs": [],
   "source": [
    "@logmsg LogLevel(-500) \"debug message @-500\"\n",
    "@logmsg LogLevel(200) \"debug message @200\""
   ]
  },
  {
   "cell_type": "markdown",
   "metadata": {},
   "source": [
    "We can suppress messages that we no longer need by a global setting. You can see the immediate effect on the cell below:"
   ]
  },
  {
   "cell_type": "code",
   "execution_count": null,
   "metadata": {},
   "outputs": [],
   "source": [
    "disable_logging(LogLevel(0))"
   ]
  },
  {
   "cell_type": "code",
   "execution_count": null,
   "metadata": {},
   "outputs": [],
   "source": [
    "@logmsg LogLevel(-500) \"debug message @-500\"\n",
    "@logmsg LogLevel(200) \"debug message @200\""
   ]
  },
  {
   "cell_type": "markdown",
   "metadata": {},
   "source": [
    "We finish by an example combining what we have seen up to now."
   ]
  },
  {
   "cell_type": "code",
   "execution_count": null,
   "metadata": {},
   "outputs": [],
   "source": [
    "\"\"\"\n",
    "    parabolaroots(a,b,c)\n",
    "\n",
    "Returns the roots of a 2nd degree polynomial a*x^2 + b*x + c\n",
    "\"\"\"\n",
    "function parabolaroots(a,b,c)\n",
    "    D = b^2 - 4*a*c\n",
    "    @logmsg LogLevel(-100) \"The disciminant is equal to $D\"\n",
    "    x₁ = (-b + sqrt(D))/(2*a)\n",
    "    x₂ = (-b - sqrt(D))/(2*a)\n",
    "    @logmsg LogLevel(-100) \"The roots are equal to $x₁ and $x₂\"\n",
    "    return x₁,x₂\n",
    "end"
   ]
  },
  {
   "cell_type": "code",
   "execution_count": null,
   "metadata": {},
   "outputs": [],
   "source": [
    "parabolaroots(1,0,-9)"
   ]
  },
  {
   "cell_type": "code",
   "execution_count": null,
   "metadata": {},
   "outputs": [],
   "source": [
    "disable_logging(LogLevel(-1001))\n",
    "parabolaroots(1,0,-9)"
   ]
  },
  {
   "cell_type": "markdown",
   "metadata": {},
   "source": [
    "### Logging to a file\n",
    "When running more advanced models, it is not always interesting to have a lot of output in the console, one may prefere writing information to a text file for later analyses (or even as input for another text processing function).\n"
   ]
  },
  {
   "cell_type": "code",
   "execution_count": null,
   "metadata": {},
   "outputs": [],
   "source": [
    "# open input/output stream\n",
    "logstream = open(\"LogFile.txt\", \"w+\")"
   ]
  },
  {
   "cell_type": "code",
   "execution_count": null,
   "metadata": {},
   "outputs": [],
   "source": [
    "# create logger that writes to the stream\n",
    "externallogger = SimpleLogger(logstream,LogLevel(-1000))"
   ]
  },
  {
   "cell_type": "code",
   "execution_count": null,
   "metadata": {},
   "outputs": [],
   "source": [
    "# set global logger to the newly defined one\n",
    "global_logger(externallogger)"
   ]
  },
  {
   "cell_type": "code",
   "execution_count": null,
   "metadata": {},
   "outputs": [],
   "source": [
    "parabolaroots(1,0,-9);\n",
    "parabolaroots(1,0,-4);"
   ]
  },
  {
   "cell_type": "code",
   "execution_count": null,
   "metadata": {},
   "outputs": [],
   "source": [
    "# Commit all currently buffered writes to the stream and close the file (important for stability)\n",
    "flush(logstream)\n",
    "close(logstream)"
   ]
  }
 ],
 "metadata": {
  "kernelspec": {
   "display_name": "Julia 0.7.0-beta2",
   "language": "julia",
   "name": "julia-0.7"
  },
  "language_info": {
   "file_extension": ".jl",
   "mimetype": "application/julia",
   "name": "julia",
   "version": "0.7.0"
  }
 },
 "nbformat": 4,
 "nbformat_minor": 2
}
