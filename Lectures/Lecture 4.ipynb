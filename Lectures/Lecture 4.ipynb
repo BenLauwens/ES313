{
 "cells": [
  {
   "cell_type": "markdown",
   "metadata": {},
   "source": [
    "# Self-Organized Criticality\n",
    "\n",
    "Port of [Think Complexity chapter 8](http://greenteapress.com/complexity2/html/index.html) by Allen Downey."
   ]
  },
  {
   "cell_type": "code",
   "execution_count": null,
   "metadata": {},
   "outputs": [],
   "source": [
    "using Luxor\n",
    "using Plots"
   ]
  },
  {
   "cell_type": "markdown",
   "metadata": {},
   "source": [
    "## Critical Systems\n",
    "\n",
    "Many critical systems demonstrate common behaviors:\n",
    "\n",
    "- Fractal geometry: For example, freezing water tends to form fractal patterns, including snowflakes and other crystal structures. Fractals are characterized by self-similarity; that is, parts of the pattern are similar to scaled copies of the whole.\n",
    "\n",
    "- Heavy-tailed distributions of some physical quantities: For example, in freezing water the distribution of crystal sizes is characterized by a power law.\n",
    "\n",
    "- Variations in time that exhibit pink noise: Complex signals can be decomposed into their frequency components. In pink noise, low-frequency components have more power than high-frequency components. Specifically, the power at frequency f is proportional to 1/f.\n",
    "\n",
    "Critical systems are usually unstable. For example, to keep water in a partially frozen state requires active control of the temperature. If the system is near the critical temperature, a small deviation tends to move the system into one phase or the other."
   ]
  },
  {
   "cell_type": "markdown",
   "metadata": {},
   "source": [
    "## Sand Piles\n",
    "\n",
    "The sand pile model was proposed by Bak, Tang and Wiesenfeld in 1987. It is not meant to be a realistic model of a sand pile, but rather an abstraction that models physical systems with a large number of elements that interact with their neighbors.\n",
    "\n",
    "The sand pile model is a 2-D cellular automaton where the state of each cell represents the slope of a part of a sand pile. During each time step, each cell is checked to see whether it exceeds a critical value, `K`, which is usually 3. If so, it “topples” and transfers sand to four neighboring cells; that is, the slope of the cell is decreased by 4, and each of the neighbors is increased by 1. At the perimeter of the grid, all cells are kept at slope 0, so the excess spills over the edge.\n",
    "\n",
    "Bak, Tang and Wiesenfeld initialize all cells at a level greater than `K` and run the model until it stabilizes. Then they observe the effect of small perturbations: they choose a cell at random, increment its value by 1, and run the model again until it stabilizes.\n",
    "\n",
    "For each perturbation, they measure `T`, the number of time steps the pile takes to stabilize, and `S`, the total number of cells that topple.\n",
    "\n",
    "Most of the time, dropping a single grain causes no cells to topple, so `T=1` and `S=0`. But occasionally a single grain can cause an avalanche that affects a substantial fraction of the grid. The distributions of `T` and `S` turn out to be heavy-tailed, which supports the claim that the system is in a critical state.\n",
    "\n",
    "They conclude that the sand pile model exhibits “self-organized criticality”, which means that it evolves toward a critical state without the need for external control or what they call “fine tuning” of any parameters. And the model stays in a critical state as more grains are added.\n",
    "\n",
    "In the next few sections I replicate their experiments and interpret the results."
   ]
  },
  {
   "cell_type": "markdown",
   "metadata": {},
   "source": [
    "## Implementation"
   ]
  },
  {
   "cell_type": "code",
   "execution_count": null,
   "metadata": {},
   "outputs": [],
   "source": [
    "function applytoppling(array::Array{Int64, 2}, K::Int64=3)\n",
    "    out = copy(array)\n",
    "    (ydim, xdim) = size(array)\n",
    "    numtoppled = 0\n",
    "    for y in 2:ydim-1\n",
    "        for x in 2:xdim-1\n",
    "            if array[y,x] > K\n",
    "                numtoppled += 1\n",
    "                out[y-1:y+1,x-1:x+1] += [0 1 0;1 -4 1;0 1 0]\n",
    "            end\n",
    "        end\n",
    "    end\n",
    "    out[1,:] .= 0\n",
    "    out[end, :] .= 0\n",
    "    out[:, 1] .= 0\n",
    "    out[:, end] .= 0\n",
    "    out, numtoppled\n",
    "end"
   ]
  },
  {
   "cell_type": "code",
   "execution_count": null,
   "metadata": {},
   "outputs": [],
   "source": [
    "pile = [0 0 0 0 0 0 0;\n",
    "        0 0 0 0 0 0 0;\n",
    "        0 0 4 0 4 0 0;\n",
    "        0 0 0 0 0 0 0;\n",
    "        0 0 0 0 0 0 0;]\n",
    "pile, num = applytoppling(pile)\n",
    "pile"
   ]
  },
  {
   "cell_type": "code",
   "execution_count": null,
   "metadata": {},
   "outputs": [],
   "source": [
    "function visualizepile(array::Array{Int64, 2}, dim, scale)\n",
    "    (ydim, xdim) = size(array)\n",
    "    width = dim * (xdim - 1)\n",
    "    height = dim * (ydim - 1)\n",
    "    Drawing(width, height, \"out.svg\")\n",
    "    for (j, y) in enumerate(2:ydim-1)\n",
    "        for (i, x) in enumerate(2:xdim-1)\n",
    "            sethue(setgrey(1-array[y,x]/scale))\n",
    "            box(i*dim, j*dim, dim, dim, :fill)\n",
    "        end\n",
    "     end\n",
    "     finish()\n",
    "     preview()\n",
    "end\n",
    "visualizepile(pile, 30, 4)"
   ]
  },
  {
   "cell_type": "code",
   "execution_count": null,
   "metadata": {},
   "outputs": [],
   "source": [
    "function steptoppling(array::Array{Int64, 2}, K::Int64=3)\n",
    "    total = 0\n",
    "    i = 0\n",
    "    while true\n",
    "        array, numtoppled = applytoppling(array, K)\n",
    "        total += numtoppled\n",
    "        i += 1\n",
    "        if numtoppled == 0\n",
    "            return array, i, total\n",
    "        end\n",
    "    end\n",
    "end"
   ]
  },
  {
   "cell_type": "code",
   "execution_count": null,
   "metadata": {},
   "outputs": [],
   "source": [
    "pile = zeros(Int64, 22, 22)\n",
    "pile[2:end-1, 2:end-1] = 10 * ones(Int64, 20, 20)\n",
    "visualizepile(pile, 15, 10)\n",
    "pile, steps, total = steptoppling(pile)\n",
    "visualizepile(pile, 15, 10)"
   ]
  },
  {
   "cell_type": "markdown",
   "metadata": {},
   "source": [
    "With an initial level of 10, this sand pile takes 332 time steps to reach equilibrium, with a total of 53,336 topplings. The figure shows the configuration after this initial run. Notice that it has the repeating elements that are characteristic of fractals. We’ll come back to that soon."
   ]
  },
  {
   "cell_type": "code",
   "execution_count": null,
   "metadata": {},
   "outputs": [],
   "source": [
    "function drop(array::Array{Int64, 2})\n",
    "    (ydim, xdim) = size(array)\n",
    "    y = rand(2:ydim-1)\n",
    "    x = rand(2:xdim-1)\n",
    "    array[y,x] += 1\n",
    "    array\n",
    "end"
   ]
  },
  {
   "cell_type": "code",
   "execution_count": null,
   "metadata": {},
   "outputs": [],
   "source": [
    "function runtoppling(array::Array{Int64, 2}, iter=200)\n",
    "    array, steps, total = steptoppling(array, 3)\n",
    "    for _ in 1:iter\n",
    "        array = drop(array)\n",
    "        array, steps, total = steptoppling(array, 3)\n",
    "    end\n",
    "    array\n",
    "end"
   ]
  },
  {
   "cell_type": "code",
   "execution_count": null,
   "metadata": {},
   "outputs": [],
   "source": [
    "pile = zeros(Int64, 22, 22)\n",
    "pile[2:end-1, 2:end-1] = 10 * ones(Int64, 20, 20)\n",
    "pile, steps, total = steptoppling(pile)\n",
    "for i in 1:200\n",
    "    pile = drop(pile)\n",
    "    pile, steps, total = steptoppling(pile)\n",
    "    if mod(i, 10) == 0\n",
    "        visualizepile(pile, 15, 10)\n",
    "        sleep(1)\n",
    "    end\n",
    "end"
   ]
  },
  {
   "cell_type": "markdown",
   "metadata": {},
   "source": [
    "The figure shows the configuration of the sand pile after dropping 200 grains onto random cells, each time running until the pile reaches equilibrium. The symmetry of the initial configuration has been broken; the configuration looks random."
   ]
  },
  {
   "cell_type": "code",
   "execution_count": null,
   "metadata": {},
   "outputs": [],
   "source": [
    "for i in 1:200\n",
    "    pile = drop(pile)\n",
    "    pile, steps, total = steptoppling(pile)\n",
    "end\n",
    "visualizepile(pile, 15, 10)"
   ]
  },
  {
   "cell_type": "markdown",
   "metadata": {},
   "source": [
    "Finally the figure shows the configuration after 400 drops. It looks similar to the configuration after 200 drops. In fact, the pile is now in a steady state where its statistical properties don’t change over time. I’ll explain some of those statistical properties in the next section."
   ]
  },
  {
   "cell_type": "markdown",
   "metadata": {},
   "source": [
    "## Heavy-Tailed Distributions\n",
    "\n",
    "If the sand pile model is in a critical state, we expect to find heavy-tailed distributions for quantities like the duration and size of avalanches. So let’s take a look.\n",
    "\n",
    "I’ll make a larger sand pile, with n=50 and an initial level of 30, and run until equilibrium:"
   ]
  },
  {
   "cell_type": "code",
   "execution_count": null,
   "metadata": {},
   "outputs": [],
   "source": [
    "pile = zeros(Int64, 52, 52)\n",
    "pile[2:end-1, 2:end-1] = 30 * ones(Int64, 50, 50)\n",
    "pile, steps, total = steptoppling(pile)"
   ]
  },
  {
   "cell_type": "markdown",
   "metadata": {},
   "source": [
    "Next, I’ll run 100,000 random drops"
   ]
  },
  {
   "cell_type": "code",
   "execution_count": null,
   "metadata": {},
   "outputs": [],
   "source": [
    "durations = Int64[]\n",
    "avalanches = Int64[]\n",
    "for i in 1:100000\n",
    "    pile = drop(pile)\n",
    "    pile, steps, total = steptoppling(pile)\n",
    "    push!(durations, steps)\n",
    "    push!(avalanches, total)\n",
    "end"
   ]
  },
  {
   "cell_type": "markdown",
   "metadata": {},
   "source": [
    "A large majority of drops have duration 1 and no toppled cells; if we filter them out before plotting, we get a clearer view of the rest of the distribution."
   ]
  },
  {
   "cell_type": "code",
   "execution_count": null,
   "metadata": {},
   "outputs": [],
   "source": [
    "durations = filter(steps->steps>1, durations)\n",
    "avalanches = filter(total->total>0, avalanches);"
   ]
  },
  {
   "cell_type": "markdown",
   "metadata": {},
   "source": [
    "We build a histogram with the durations/avalanches as keys and their occurences as values."
   ]
  },
  {
   "cell_type": "code",
   "execution_count": null,
   "metadata": {},
   "outputs": [],
   "source": [
    "function hist(array)\n",
    "    h = Dict()\n",
    "    for v in array\n",
    "        h[v] = get!(h, v, 0) + 1\n",
    "    end\n",
    "    h\n",
    "end"
   ]
  },
  {
   "cell_type": "markdown",
   "metadata": {},
   "source": [
    "We plot the probabilities of each value of the durations / avalanches with loglog axes."
   ]
  },
  {
   "cell_type": "code",
   "execution_count": null,
   "metadata": {},
   "outputs": [],
   "source": [
    "h = hist(durations)\n",
    "total = sum(values(h))\n",
    "x = Int64[]\n",
    "y = Float64[]\n",
    "for i in 2:maximum(collect(keys(h)))\n",
    "    v = get(h, i, 0)\n",
    "    if v ≠ 0\n",
    "        push!(x, i)\n",
    "        push!(y, v/total)\n",
    "    end\n",
    "end\n",
    "plot(x, y, xaxis=:log, yaxis=:log, label=\"Durations\")\n",
    "h = hist(avalanches)\n",
    "total = sum(values(h))\n",
    "x = Int64[]\n",
    "y = Float64[]\n",
    "for i in 1:maximum(collect(keys(h)))\n",
    "    v = get(h, i, 0)\n",
    "    if v ≠ 0\n",
    "        push!(x, i)\n",
    "        push!(y, v/total)\n",
    "    end\n",
    "end\n",
    "plot!(x, y, xaxis=:log, yaxis=:log, label=\"Avalanches\")\n",
    "x = collect(1:10000)\n",
    "plot!(x, 1 ./ x, label=\"slope -1\")"
   ]
  },
  {
   "cell_type": "markdown",
   "metadata": {},
   "source": [
    "For values between 1 and 100, the distributions are nearly straight on a log-log scale, which is characteristic of a heavy tail. The gray lines in the figure have slopes near -1, which suggests that these distributions follow a power law with parameters near α=1.\n",
    "\n",
    "For values greater than 100, the distributions fall away more quickly than the power law model, which means there are fewer very large values than the model predicts. One possibility is that this effect is due to the finite size of the sand pile; if so, we might expect larger piles to fit the power law better."
   ]
  },
  {
   "cell_type": "markdown",
   "metadata": {},
   "source": [
    "## Fractals\n",
    "\n",
    "Another property of critical systems is fractal geometry. The initial configuration resembles a fractal, but you can’t always tell by looking. A more reliable way to identify a fractal is to estimate its fractal dimension, as we saw in previous lectures.\n",
    "\n",
    "I’ll start by making a bigger sand pile, with `n=131` and initial level 22."
   ]
  },
  {
   "cell_type": "code",
   "execution_count": null,
   "metadata": {},
   "outputs": [],
   "source": [
    "pile = zeros(Int64, 133, 133)\n",
    "pile[2:end-1, 2:end-1] = 22 * ones(Int64, 131, 131)\n",
    "pile, steps, total = steptoppling(pile)\n",
    "visualizepile(pile, 2, 10)"
   ]
  },
  {
   "cell_type": "markdown",
   "metadata": {},
   "source": [
    "It takes 28,379 steps for this pile to reach equilibrium, with more than 200 million cells toppled.\n",
    "To see the resulting pattern more clearly, I select cells with levels 0, 1, 2, and 3, and plot them separately:"
   ]
  },
  {
   "cell_type": "code",
   "execution_count": null,
   "metadata": {},
   "outputs": [],
   "source": [
    "function visualizepileonekind(pile, dim, val)\n",
    "    (ydim, xdim) = size(pile)\n",
    "    width = dim * (xdim - 1)\n",
    "    height = dim * (ydim - 1)\n",
    "    Drawing(width, height, \"out.svg\")\n",
    "    for (j, y) in enumerate(2:ydim-1)\n",
    "        for (i, x) in enumerate(2:xdim-1)\n",
    "            if pile[y,x] == val\n",
    "                sethue(\"gray\")\n",
    "                box(i*dim, j*dim, dim, dim, :fill)\n",
    "            end\n",
    "        end\n",
    "     end\n",
    "     finish()\n",
    "     preview()\n",
    "end\n",
    "visualizepileonekind(pile, 2, 3) # 0, 1, 2, 3"
   ]
  },
  {
   "cell_type": "markdown",
   "metadata": {},
   "source": [
    "Visually, these patterns resemble fractals, but looks can be deceiving. To be more confident, we can estimate the fractal dimension for each pattern using box-counting.\n",
    "\n",
    "We’ll count the number of cells in a small box at the center of the pile, then see how the number of cells increases as the box gets bigger. Here’s my implementation:"
   ]
  },
  {
   "cell_type": "code",
   "execution_count": null,
   "metadata": {},
   "outputs": [],
   "source": [
    "function countcells(pile, val)\n",
    "    (ydim, xdim) = size(pile)\n",
    "    ymid = Int((ydim+1)/2)\n",
    "    xmid = Int((xdim+1)/2)\n",
    "    res = Int64[]\n",
    "    for i in 0:Int((ydim-1)/2)-1\n",
    "        push!(res, 1.0*count(x->x==val, pile[ymid-i:ymid+i,xmid-i:xmid+i]))\n",
    "    end\n",
    "    res\n",
    "end"
   ]
  },
  {
   "cell_type": "code",
   "execution_count": null,
   "metadata": {},
   "outputs": [],
   "source": [
    "level = 0\n",
    "(ydim, xdim) = size(pile)\n",
    "m = Int((ydim-1)/2)\n",
    "res = filter(x->x>0, countcells(pile, level))\n",
    "n = length(res)\n",
    "plot(1:2:2*m-1, 1:2:2*m-1, xaxis=:log, yaxis=:log, label=\"d = 1\")\n",
    "plot!(1:2:2*m-1, (1:2:2*m-1).^2, xaxis=:log, yaxis=:log, label=\"d = 2\")\n",
    "plot!(1+2*(m-n):2:2*m-1, res, xaxis=:log, yaxis=:log, label=\"level $level\")\n",
    "level = 1\n",
    "res = filter(x->x>0, countcells(pile, level))\n",
    "n = length(res)\n",
    "plot!(1+2*(m-n):2:2*m-1, res, xaxis=:log, yaxis=:log, label=\"level $level\")\n",
    "level = 2\n",
    "res = filter(x->x>0, countcells(pile, level))\n",
    "n = length(res)\n",
    "plot!(1+2*(m-n):2:2*m-1, res, xaxis=:log, yaxis=:log, label=\"level $level\")\n",
    "level = 3\n",
    "res = filter(x->x>0, countcells(pile, level))\n",
    "n = length(res)\n",
    "plot!(1+2*(m-n):2:2*m-1, res, xaxis=:log, yaxis=:log, label=\"level $level\", legend=:topleft)"
   ]
  },
  {
   "cell_type": "markdown",
   "metadata": {},
   "source": [
    "On a log-log scale, the cell counts form nearly straight lines, which indicates that we are measuring fractal dimension over a valid range of box sizes.\n",
    "\n",
    "To estimate the slopes of these lines, we have to fot a line to the data by linear regression"
   ]
  },
  {
   "cell_type": "code",
   "execution_count": null,
   "metadata": {},
   "outputs": [],
   "source": [
    "function linres(x, y)\n",
    "    n = length(x)\n",
    "    mx = sum(x) / n\n",
    "    my = sum(y) / n\n",
    "    beta = sum((x.-mx).*(y.-my))/sum((x.-mx).^2)\n",
    "    alfa = my - beta * mx\n",
    "    alfa, beta\n",
    "end"
   ]
  },
  {
   "cell_type": "code",
   "execution_count": null,
   "metadata": {},
   "outputs": [],
   "source": [
    "level = 3\n",
    "(ydim, xdim) = size(pile)\n",
    "m = Int((ydim-1)/2)\n",
    "res = filter(x->x>0, countcells(pile, level))\n",
    "n = length(res)\n",
    "linres(log.(1.0*collect(1+2*(m-n):2:2*m-1)), log.(res))"
   ]
  },
  {
   "cell_type": "markdown",
   "metadata": {},
   "source": [
    "The estimated fractal dimensions are:\n",
    "0. 1.868\n",
    "1. 3.494\n",
    "2. 1.784\n",
    "3. 2.081"
   ]
  },
  {
   "cell_type": "markdown",
   "metadata": {},
   "source": [
    "The fractal dimension for levels 0, 1, and 2 seems to be clearly non-integer, which indicates that the image is fractal.\n",
    "The estimate for level 3 is indistinguishable from 2, but given the results for the other values, the apparent curvature of the line, and the appearance of the pattern, it seems likely that it is also fractal."
   ]
  }
 ],
 "metadata": {
  "kernelspec": {
   "display_name": "Julia 1.2.0",
   "language": "julia",
   "name": "julia-1.2"
  },
  "language_info": {
   "file_extension": ".jl",
   "mimetype": "application/julia",
   "name": "julia",
   "version": "1.2.0"
  }
 },
 "nbformat": 4,
 "nbformat_minor": 4
}
