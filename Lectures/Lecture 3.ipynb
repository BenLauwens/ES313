{
 "cells": [
  {
   "cell_type": "markdown",
   "metadata": {
    "inputHidden": false,
    "jupyter": {
     "outputs_hidden": false
    },
    "outputHidden": false
   },
   "source": [
    "# Physical Modelling\n",
    "\n",
    "Port of [Think Complexity chapter ](http://greenteapress.com/complexity2/html/index.html) by Allen Downey."
   ]
  },
  {
   "cell_type": "code",
   "execution_count": null,
   "metadata": {},
   "outputs": [],
   "source": [
    "using Luxor"
   ]
  },
  {
   "cell_type": "markdown",
   "metadata": {},
   "source": [
    "## Diffusion\n",
    "\n",
    "In 1952 Alan Turing published a paper called “The chemical basis of morphogenesis”, which describes the behavior of systems involving two chemicals that diffuse in space and react with each other. He showed that these systems produce a wide range of patterns, depending on the diffusion and reaction rates, and conjectured that systems like this might be an important mechanism in biological growth processes, particularly the development of animal coloration patterns.\n",
    "\n",
    "Turing’s model is based on differential equations, but it can be implemented using a cellular automaton.\n",
    "\n",
    "Before we get to Turing’s model, we’ll start with something simpler: a diffusion system with just one chemical. We’ll use a 2-D CA where the state of each cell is a continuous quantity (usually between 0 and 1) that represents the concentration of the chemical.\n",
    "\n",
    "We’ll model the diffusion process by comparing each cell with the average of its neighbors. If the concentration of the center cell exceeds the neighborhood average, the chemical flows from the center to the neighbors. If the concentration of the center cell is lower, the chemical flows the other way.\n",
    "\n",
    "We’ll use a diffusion constant, `r`, that relates the difference in concentration to the rate of flow:"
   ]
  },
  {
   "cell_type": "code",
   "execution_count": null,
   "metadata": {},
   "outputs": [],
   "source": [
    "function applydiffusion(array::Array{Float64, 2}, r::Float64=0.1)\n",
    "    nr_y, nr_x = size(array)\n",
    "    out = deepcopy(array)\n",
    "    for y in 2:nr_y-1\n",
    "        for x in 2:nr_x-1\n",
    "            c = array[y-1, x] + array[y, x-1] + array[y, x+1] + array[y+1, x] - 4*array[y, x]\n",
    "            out[y, x] += r*c\n",
    "        end\n",
    "    end\n",
    "    out\n",
    "end"
   ]
  },
  {
   "cell_type": "markdown",
   "metadata": {},
   "source": [
    "visualisation:"
   ]
  },
  {
   "cell_type": "code",
   "execution_count": null,
   "metadata": {},
   "outputs": [],
   "source": [
    "function visualizearray(array::Array{Float64, 2}, dim)\n",
    "    (nr_y, nr_x) = size(array)\n",
    "    width = dim * (nr_x - 1)\n",
    "    height = dim * (nr_y - 1)\n",
    "    Drawing(width, height, \"out.svg\")\n",
    "    for (j, y) in enumerate(2:nr_y-1)\n",
    "        for (i, x) in enumerate(2:nr_x-1)\n",
    "            sethue(setgray(0.8*(1-array[y, x])+0.1))\n",
    "            box(i*dim, j*dim, dim, dim, :fill)\n",
    "        end\n",
    "     end\n",
    "     finish()\n",
    "     preview()\n",
    "end"
   ]
  },
  {
   "cell_type": "code",
   "execution_count": null,
   "metadata": {},
   "outputs": [],
   "source": [
    "array = zeros(Float64, 11, 11)\n",
    "array[5:7, 5:7] = ones(Float64, 3, 3)\n",
    "visualizearray(array, 16)"
   ]
  },
  {
   "cell_type": "code",
   "execution_count": null,
   "metadata": {},
   "outputs": [],
   "source": [
    "for i in 1: 10\n",
    "    array = applydiffusion(array)\n",
    "    visualizearray(array, 16)\n",
    "    sleep(1)\n",
    "end\n"
   ]
  },
  {
   "cell_type": "markdown",
   "metadata": {},
   "source": [
    "## Reaction-Diffusion\n",
    "\n",
    "Now let’s add a second chemical."
   ]
  },
  {
   "cell_type": "code",
   "execution_count": null,
   "metadata": {},
   "outputs": [],
   "source": [
    "function applyreactiondiffusion(\n",
    "        a::Array{Float64, 2}, \n",
    "        b::Array{Float64, 2}, \n",
    "        ra::Float64=0.5, rb=Float64=0.25, \n",
    "        f::Float64=0.055, k = Float64=0.062)\n",
    "    nr_y, nr_x = size(a)\n",
    "    a_out = deepcopy(a)\n",
    "    b_out = deepcopy(b)\n",
    "    for y in 2:nr_y-1\n",
    "        for x in 2:nr_x-1\n",
    "            reaction = a[y, x] * b[y, x]^2\n",
    "            ca = 0.25*(a[y-1, x] + a[y, x-1] + a[y, x+1] + a[y+1, x]) - a[y, x]\n",
    "            cb = 0.25*(b[y-1, x] + b[y, x-1] + b[y, x+1] + b[y+1, x]) - b[y, x]\n",
    "            a_out[y, x] += ra*ca - reaction + f * (1 - a[y, x])\n",
    "            b_out[y, x] += rb*cb + reaction - (f+k) * b[y, x]\n",
    "        end\n",
    "    end\n",
    "    a_out, b_out\n",
    "end"
   ]
  },
  {
   "cell_type": "markdown",
   "metadata": {},
   "source": [
    "- `ra`: The diffusion rate of A (analogous to r in the previous section).\n",
    "- `rb`: The diffusion rate of B. In most versions of this model, rb is about half of ra.\n",
    "- `f`: The “feed” rate, which controls how quickly A is added to the system.\n",
    "- `k`: The “kill” rate, which controls how quickly B is removed from the system.\n",
    "\n",
    "`ca` and `ca` are the result of applying a diffusion kernel to A and B. Multiplying by `ra` and `rb` yields the rate of diffusion into or out of each cell.\n",
    "\n",
    "The term `a*b^2`represents the rate that A and B react with each other. Assuming that the reaction consumes A and produces B, we subtract this term in the first equation and add it in the second.\n",
    "\n",
    "The term `f * (1-a)` determines the rate that A is added to the system. Where A is near 0, the maximum feed rate is `f`. Where A approaches 1, the feed rate drops off to zero.\n",
    "\n",
    "Finally, the term `(f+k) * b` determines the rate that B is removed from the system. As B approaches 0, this rate goes to zero.\n",
    "\n",
    "As long as the rate parameters are not too high, the values of A and B usually stay between 0 and 1."
   ]
  },
  {
   "cell_type": "code",
   "execution_count": null,
   "metadata": {},
   "outputs": [],
   "source": [
    "a = ones(Float64, 258, 258)\n",
    "b = rand(Float64, 258, 258)*0.1\n",
    "b[129-12:129+12, 129-12:129+12] += ones(Float64, 25, 25)*0.1\n",
    "visualizearray(b, 2)"
   ]
  },
  {
   "cell_type": "code",
   "execution_count": null,
   "metadata": {},
   "outputs": [],
   "source": [
    "# f = 0.035, 0.055, 0.039 k = 0.057, 0.062, 0.065\n",
    "for i in 1:4000\n",
    "    a, b = applyreactiondiffusion(a, b, 0.5, 0.25, 0.035, 0.057)\n",
    "    if mod(i, 500) == 0\n",
    "        visualizearray(b, 2)\n",
    "    end\n",
    "end"
   ]
  },
  {
   "cell_type": "markdown",
   "metadata": {},
   "source": [
    "Since 1952, observations and experiments have provided some support for Turing’s conjecture. At this point it seems likely, but not yet proven, that many animal patterns are actually formed by reaction-diffusion processes of some kind."
   ]
  },
  {
   "cell_type": "markdown",
   "metadata": {},
   "source": [
    "## Percolation\n",
    "\n",
    "Percolation is a process in which a fluid flows through a semi-porous material. Examples include oil in rock formations, water in paper, and hydrogen gas in micropores. Percolation models are also used to study systems that are not literally percolation, including epidemics and networks of electrical resistors.\n",
    "\n",
    "We’ll explore a 2-D CA that simulates percolation.\n",
    "\n",
    "- Initially, each cell is either “porous” with probability `q` or “non-porous” with probability `1-q`.\n",
    "- When the simulation begins, all cells are considered “dry” except the top row, which is “wet”.\n",
    "- During each time step, if a porous cell has at least one wet neighbor, it becomes wet. Non-porous cells stay dry.\n",
    "- The simulation runs until it reaches a “fixed point” where no more cells change state.\n",
    "\n",
    "If there is a path of wet cells from the top to the bottom row, we say that the CA has a “percolating cluster”.\n",
    "\n",
    "Two questions of interest regarding percolation are (1) the probability that a random array contains a percolating cluster, and (2) how that probability depends on `q`."
   ]
  },
  {
   "cell_type": "code",
   "execution_count": null,
   "metadata": {},
   "outputs": [],
   "source": [
    "function applypercolation(array::Array{Float64, 2})\n",
    "    nr_y, nr_x = size(array)\n",
    "    out = deepcopy(array)\n",
    "    for y in 2:nr_y-1\n",
    "        for x in 2:nr_x-1\n",
    "            if out[y, x] > 0.0\n",
    "                c = array[y-1, x] + array[y, x-1] + array[y, x+1] + array[y+1, x]\n",
    "                if c ≥ 0.5\n",
    "                    out[y, x] = 0.5\n",
    "                end\n",
    "            end\n",
    "        end\n",
    "    end\n",
    "    out\n",
    "end"
   ]
  },
  {
   "cell_type": "markdown",
   "metadata": {},
   "source": [
    "visualisation:"
   ]
  },
  {
   "cell_type": "code",
   "execution_count": null,
   "metadata": {},
   "outputs": [],
   "source": [
    "function createwall(n, q)\n",
    "    array = zeros(Float64, n+2, n+2)\n",
    "    array[2, 2:n+1] = ones(Float64, n)*0.5\n",
    "    array[3:n+1, 2:n+1] = rand(Float64, n-1, n)\n",
    "    for y in 3:n+1\n",
    "        for x in 2:n+1\n",
    "            if array[y, x] < q\n",
    "                array[y, x] = 0.1\n",
    "            else\n",
    "                array[y, x] = 0.0\n",
    "            end\n",
    "        end\n",
    "    end\n",
    "    array\n",
    "end\n",
    "array = createwall(100, 0.5)\n",
    "visualizearray(array, 4)"
   ]
  },
  {
   "cell_type": "code",
   "execution_count": null,
   "metadata": {},
   "outputs": [],
   "source": [
    "for i in 1:100\n",
    "    array = applypercolation(array)\n",
    "end\n",
    "visualizearray(array, 4)"
   ]
  },
  {
   "cell_type": "markdown",
   "metadata": {},
   "source": [
    "## Phase Change\n",
    "\n",
    "Now let’s test whether a random array contains a percolating cluster."
   ]
  },
  {
   "cell_type": "code",
   "execution_count": null,
   "metadata": {},
   "outputs": [],
   "source": [
    "function testpercolation(array::Array{Float64, 2}, vis=false)\n",
    "    numberwet = count(x->x==0.5, array[3:101, 2:101])\n",
    "    while true\n",
    "        array = applypercolation(array)\n",
    "        if count(x->x==0.5, array[101, 2:101]) > 0\n",
    "            if vis; visualizearray(array, 4) end\n",
    "            return true\n",
    "        end\n",
    "        newnumberwet = count(x->x==0.5, array[3:101, 2:101])\n",
    "        if numberwet == newnumberwet\n",
    "            if vis; visualizearray(array, 4) end\n",
    "            return false\n",
    "        end\n",
    "        numberwet = newnumberwet\n",
    "    end\n",
    "end"
   ]
  },
  {
   "cell_type": "code",
   "execution_count": null,
   "metadata": {},
   "outputs": [],
   "source": [
    "array = createwall(100, 0.5)\n",
    "testpercolation(array, true)"
   ]
  },
  {
   "cell_type": "markdown",
   "metadata": {},
   "source": [
    "To estimate the probability of a percolating cluster, we generate many random arrays and test them."
   ]
  },
  {
   "cell_type": "code",
   "execution_count": null,
   "metadata": {},
   "outputs": [],
   "source": [
    "function estimateprob(;n=100, q=0.5, iters=100)\n",
    "    t = Bool[]\n",
    "    for _ in 1:iters\n",
    "        array = createwall(n, q)\n",
    "        push!(t, testpercolation(array))\n",
    "    end\n",
    "    count(x->x, t) / iters\n",
    "end"
   ]
  },
  {
   "cell_type": "code",
   "execution_count": null,
   "metadata": {},
   "outputs": [],
   "source": [
    "estimateprob(q = 0.5)"
   ]
  },
  {
   "cell_type": "markdown",
   "metadata": {},
   "source": [
    "We can estimate the critical value more precisely using a random walk. Starting from an initial value of `q`, we construct a wall and check whether it has a percolating cluster. If so, `q` is probably too high, so we decrease it. If not, `q` is probably too low, so we increase it."
   ]
  },
  {
   "cell_type": "code",
   "execution_count": null,
   "metadata": {},
   "outputs": [],
   "source": [
    "function findcritical(;n=100, q=0.5, iters=100)\n",
    "    qs = [q]\n",
    "    for _ in 1:iters\n",
    "        array = createwall(n, q)\n",
    "        if testpercolation(array)\n",
    "            q -= 0.004\n",
    "        else\n",
    "            q += 0.004\n",
    "        end\n",
    "        push!(qs, q)\n",
    "    end\n",
    "    qs\n",
    "end"
   ]
  },
  {
   "cell_type": "code",
   "execution_count": null,
   "metadata": {},
   "outputs": [],
   "source": [
    "findcritical()"
   ]
  },
  {
   "cell_type": "markdown",
   "metadata": {},
   "source": [
    "With `n=100` the mean of `qs` is about 0.59; this value does not seem to depend on `n`.\n",
    "\n",
    "The rapid change in behavior near the critical value is called a phase change by analogy with phase changes in physical systems, like the way water changes from liquid to solid at its freezing point.\n",
    "\n",
    "A wide variety of systems display a common set of behaviors and characteristics when they are at or near a critical point. These behaviors are known collectively as critical phenomena."
   ]
  },
  {
   "cell_type": "markdown",
   "metadata": {},
   "source": [
    "## Fractals\n",
    "\n",
    "To understand fractals, we have to start with dimensions.\n",
    "\n",
    "For simple geometric objects, dimension is defined in terms of scaling behavior. For example, if the side of a square has length `l`, its area is `l^2`. The exponent, 2, indicates that a square is two-dimensional. Similarly, if the side of a cube has length `l`, its volume is `l^3`, which indicates that a cube is three-dimensional.\n",
    "\n",
    "More generally, we can estimate the dimension of an object by measuring some kind of size (like area or volume) as a function of some kind of linear measure (like the length of a side).\n",
    "\n",
    "As an example, I’ll estimate the dimension of a 1-D cellular automaton by measuring its area (total number of “on” cells) as a function of the number of rows."
   ]
  },
  {
   "cell_type": "code",
   "execution_count": null,
   "metadata": {},
   "outputs": [],
   "source": [
    "function inttorule1dim(val::UInt8)\n",
    "    digs = BitArray(digits(val, base=2))\n",
    "    for i in length(digs):7\n",
    "        push!(digs, false)\n",
    "    end\n",
    "    digs\n",
    "end\n",
    "\n",
    "function applyrule1dim(rule::BitArray{1}, bits::BitArray{1})\n",
    "    val = 1 + bits[3] + 2*bits[2] + 4*bits[1]\n",
    "    rule[val]\n",
    "end\n",
    "\n",
    "function step1dim(x₀::BitArray{1}, rule::BitArray{1}, steps::Int64)\n",
    "    xs = [x₀]\n",
    "    len = length(x₀)\n",
    "    for i in 1:steps\n",
    "        x = copy(x₀)\n",
    "        for j in 2:len-1\n",
    "            x[j] = applyrule1dim(rule, xs[end][j-1:j+1])\n",
    "        end\n",
    "        push!(xs, x)\n",
    "    end\n",
    "    xs\n",
    "end\n",
    "\n",
    "function visualize1dim(res, dim)\n",
    "    width = dim * (length(res[1]) + 1)\n",
    "    height = dim * (length(res) + 1)\n",
    "    Drawing(width, height, \"out.svg\")\n",
    "    for (i, arr) in enumerate(res)\n",
    "        for (j, val) in enumerate(arr)\n",
    "            if val\n",
    "                sethue(\"grey\")\n",
    "            else\n",
    "                sethue(\"lightgrey\")\n",
    "            end\n",
    "            box(j*dim, i*dim, dim, dim, :fill)\n",
    "        end\n",
    "     end\n",
    "     finish()\n",
    "     preview()\n",
    "end"
   ]
  },
  {
   "cell_type": "code",
   "execution_count": null,
   "metadata": {},
   "outputs": [],
   "source": [
    "x₀ = falses(65)\n",
    "x₀[33] = true\n",
    "res = step1dim(x₀, inttorule1dim(UInt8(18)), 31) # 20, 50, 18\n",
    "visualize1dim(res, 5)"
   ]
  },
  {
   "cell_type": "markdown",
   "metadata": {},
   "source": [
    "I’ll estimate the dimension of these CAs with the following function, which counts the number of on cells after each time step."
   ]
  },
  {
   "cell_type": "code",
   "execution_count": null,
   "metadata": {},
   "outputs": [],
   "source": [
    "function countcells(rule, n=501)\n",
    "    x₀ = falses(2*n+3)\n",
    "    x₀[n+2] = true\n",
    "    res = step1dim(x₀, inttorule1dim(UInt8(rule)), n)\n",
    "    cells = [1]\n",
    "    for i in 2:n\n",
    "        push!(cells, cells[end]+sum(line->count(cell->cell, line), res[i]))\n",
    "    end\n",
    "    cells\n",
    "end"
   ]
  },
  {
   "cell_type": "code",
   "execution_count": null,
   "metadata": {},
   "outputs": [],
   "source": [
    "using Pkg\n",
    "pkg\"add Plots\"\n",
    "\n",
    "using Plots"
   ]
  },
  {
   "cell_type": "code",
   "execution_count": null,
   "metadata": {},
   "outputs": [],
   "source": [
    "n = 501\n",
    "rule = 18 # 20, 50, 18\n",
    "res = countcells(rule, n);"
   ]
  },
  {
   "cell_type": "code",
   "execution_count": null,
   "metadata": {},
   "outputs": [],
   "source": [
    "plot(1:n, 1:n, xaxis=:log, yaxis=:log, label=\"d=1\")\n",
    "plot!(1:n, (1:n).^2, xaxis=:log, yaxis=:log, label=\"d=2\")\n",
    "plot!(1:n,res, xaxis=:log, yaxis=:log, label=\"rule $rule\")"
   ]
  },
  {
   "cell_type": "markdown",
   "metadata": {},
   "source": [
    "Rule 20 (left) produces 3 cells every 2 time steps, so the total number of cells after $i$ steps is $y = 1.5i$. Taking the log of both sides, we have $\\log y = \\log 1.5 + \\log i$, so on a log-log scale, we expect a line with slope 1. In fact, the estimated slope of the line is 1.01.\n",
    "\n",
    "Rule 50 (center) produces i+1 new cells during the ith time step, so the total number of cells after $i$ steps is $y = i^2 + i$. If we ignore the second term and take the log of both sides, we have $\\log y \\approx 2 \\log i$, so as $i$ gets large, we expect to see a line with slope 2. In fact, the estimated slope is 1.97.\n",
    "\n",
    "Finally, for Rule 18 (right), the estimated slope is about 1.57, which is clearly not 1, 2, or any other integer. This suggests that the pattern generated by Rule 18 has a “fractional dimension”; that is, it is a fractal.\n",
    "\n",
    "This way of estimating a fractal dimension is called box-counting."
   ]
  },
  {
   "cell_type": "markdown",
   "metadata": {},
   "source": [
    "## Fractals and Percolation\n",
    "\n",
    "Now let’s get back to percolation models.\n",
    "\n",
    "To estimate their fractal dimension, we can run CAs with a range of sizes, count the number of wet cells in each percolating cluster, and then see how the cell counts scale as we increase the size of the array."
   ]
  },
  {
   "cell_type": "code",
   "execution_count": null,
   "metadata": {},
   "outputs": [],
   "source": [
    "function percolationwet(array::Array{Float64, 2})\n",
    "    numberwet = count(x->x==0.5, array[3:end-1, 2:end-1])\n",
    "    while true\n",
    "        array = applypercolation(array)\n",
    "        if count(x->x==0.5, array[end-1, 2:end-1]) > 0\n",
    "            break\n",
    "        end\n",
    "        newnumberwet = count(x->x==0.5, array[3:end-1, 2:end-1])\n",
    "        if numberwet == newnumberwet\n",
    "            break\n",
    "        end\n",
    "        numberwet = newnumberwet\n",
    "    end\n",
    "    numberwet\n",
    "end"
   ]
  },
  {
   "cell_type": "code",
   "execution_count": null,
   "metadata": {},
   "outputs": [],
   "source": [
    "res = Float64[]\n",
    "sizes = 10:10:200\n",
    "q = 0.60\n",
    "for size in sizes\n",
    "    array = createwall(size, q)\n",
    "    push!(res, percolationwet(array))\n",
    "end\n",
    "plot(sizes, sizes, xaxis=:log, yaxis=:log, label=\"d=1\")\n",
    "plot!(sizes, (sizes).^2, xaxis=:log, yaxis=:log, label=\"d=2\")\n",
    "plot!(sizes, res, xaxis=:log, yaxis=:log, seriestype=:scatter, label=\"q = $q\")"
   ]
  },
  {
   "cell_type": "markdown",
   "metadata": {},
   "source": [
    "The dots show the number of cells in each percolating cluster. The slope of a line fitted to these dots is often near 1.85, which suggests that the percolating cluster is, in fact, fractal when `q` is near the critical value.\n",
    "\n",
    "When `q` is larger than the critical value, nearly every porous cell gets filled, so the number of wet cells is close to `q * size^2`, which has dimension 2.\n",
    "\n",
    "When `q` is substantially smaller than the critical value, the number of wet cells is proportional to the linear size of the array, so it has dimension 1."
   ]
  }
 ],
 "metadata": {
  "kernel_info": {
   "name": "julia-1.2"
  },
  "kernelspec": {
   "display_name": "Julia 1.2.0",
   "language": "julia",
   "name": "julia-1.2"
  },
  "language_info": {
   "file_extension": ".jl",
   "mimetype": "application/julia",
   "name": "julia",
   "version": "1.2.0"
  },
  "nteract": {
   "version": "0.14.5"
  }
 },
 "nbformat": 4,
 "nbformat_minor": 4
}
