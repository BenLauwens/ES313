{
 "cells": [
  {
   "cell_type": "markdown",
   "metadata": {
    "slideshow": {
     "slide_type": "slide"
    }
   },
   "source": [
    "# MM1 Queuing System\n",
    "\n",
    "A MM1 queuing system will be used to illustrate the three main simulation methodologies:\n",
    "- time-stepping\n",
    "- discrete-events processing\n",
    "- process-driven simulation"
   ]
  },
  {
   "cell_type": "markdown",
   "metadata": {
    "slideshow": {
     "slide_type": "slide"
    }
   },
   "source": [
    "## Using packages\n"
   ]
  },
  {
   "cell_type": "code",
   "execution_count": null,
   "metadata": {
    "collapsed": false,
    "jupyter": {
     "outputs_hidden": false
    },
    "slideshow": {
     "slide_type": "-"
    }
   },
   "outputs": [],
   "source": [
    "using SimJulia\n",
    "using Distributions\n",
    "using Plots\n",
    "using StatsPlots\n",
    "using HypothesisTests"
   ]
  },
  {
   "cell_type": "markdown",
   "metadata": {
    "slideshow": {
     "slide_type": "slide"
    }
   },
   "source": [
    "## MM1 Queuing System\n",
    "\n",
    "- The queuing system has 1 server.\n",
    "- The interarrival times between clients (packets, ...) are exponential distributed with rate $\\lambda$.\n",
    "- The service times are also exponential distributed with rate $\\mu$."
   ]
  },
  {
   "cell_type": "code",
   "execution_count": null,
   "metadata": {
    "collapsed": false,
    "jupyter": {
     "outputs_hidden": false
    },
    "slideshow": {
     "slide_type": "-"
    }
   },
   "outputs": [],
   "source": [
    "const λ = 1.0\n",
    "const μ = 2.0;"
   ]
  },
  {
   "cell_type": "markdown",
   "metadata": {
    "slideshow": {
     "slide_type": "slide"
    }
   },
   "source": [
    "### Time-stepping\n",
    "\n",
    "- A small value for the time increment $\\Delta t$ is chosen and every tick of the clock a function that mimics our queuing system is run.\n",
    "- Exponential distributions can be easily simulated; $P(\\text{\"arrival\"})=\\lambda\\Delta t$ and $P(\\text{\"departure\"})=\\mu\\Delta t$."
   ]
  },
  {
   "cell_type": "code",
   "execution_count": null,
   "metadata": {
    "collapsed": false,
    "jupyter": {
     "outputs_hidden": false
    }
   },
   "outputs": [],
   "source": [
    "Δt = 0.1"
   ]
  },
  {
   "cell_type": "code",
   "execution_count": null,
   "metadata": {
    "collapsed": false,
    "jupyter": {
     "outputs_hidden": false
    },
    "slideshow": {
     "slide_type": "subslide"
    }
   },
   "outputs": [],
   "source": [
    "function time_step(nr_in_system::Int)\n",
    "    if nr_in_system > 0\n",
    "        if rand() < μ*Δt\n",
    "            nr_in_system -= 1\n",
    "        end\n",
    "    end\n",
    "    if rand() < λ*Δt\n",
    "        nr_in_system += 1\n",
    "    end\n",
    "    nr_in_system\n",
    "end"
   ]
  },
  {
   "cell_type": "code",
   "execution_count": null,
   "metadata": {
    "collapsed": false,
    "jupyter": {
     "outputs_hidden": false
    },
    "slideshow": {
     "slide_type": "fragment"
    }
   },
   "outputs": [],
   "source": [
    "output = Int[]\n",
    "push!(output, 0)\n",
    "t = 0.0\n",
    "while t < 10\n",
    "    t += Δt\n",
    "    result = time_step(output[end])\n",
    "    push!(output, result)\n",
    "end\n",
    "println(output)"
   ]
  },
  {
   "cell_type": "markdown",
   "metadata": {
    "slideshow": {
     "slide_type": "subslide"
    }
   },
   "source": [
    "- Very easy to implement for simple queuing systems but this become cumbersome if the system gets more complex (number of queues, interactions, other distributions, ...)."
   ]
  },
  {
   "cell_type": "markdown",
   "metadata": {
    "slideshow": {
     "slide_type": "subslide"
    }
   },
   "source": [
    "- A simulation is always something dynamic, i.e. time is an important feature:\n",
    "    - When are we in steady-state?\n",
    "    - How many samples of the system in steady-state are needed, to produce a useful average?\n",
    "    - How many runs do a need to have some statistics about the variation around the average?\n",
    "    - These questions are trivial for our example but in real-world applications they are though to answer.\n",
    "    - A stable single server queue is reset every time the queue becomes idle, so we don't have to worry about steady-state and we can use eg. 1000 time-steps and 100 runs."
   ]
  },
  {
   "cell_type": "markdown",
   "metadata": {
    "slideshow": {
     "slide_type": "slide"
    }
   },
   "source": [
    "### Discrete-event processing\n",
    "\n",
    "- Looking at the output of the time-stepping procedure, we can observe that a lot of the time-steps the state of our system, i.e. the number of clients in the system does not change. So the procedure does a lot of processing for nothing.\n",
    "- We can predict the next arrival of a client by sampling an exponential distribution with parameter $\\frac{1}{\\lambda}$, so can we predict the service time of a client by sampling an exponential distribution with parameter $\\frac{1}{\\mu}$.\n",
    "- Only during an arrival of a client or an end of service of a client, the state changes."
   ]
  },
  {
   "cell_type": "code",
   "execution_count": null,
   "metadata": {
    "collapsed": false,
    "jupyter": {
     "outputs_hidden": false
    },
    "slideshow": {
     "slide_type": "subslide"
    }
   },
   "outputs": [],
   "source": [
    "interarrival_distribution = Exponential(1/λ)\n",
    "service_distribution = Exponential(1/μ)"
   ]
  },
  {
   "cell_type": "code",
   "execution_count": null,
   "metadata": {
    "collapsed": false,
    "jupyter": {
     "outputs_hidden": false
    },
    "slideshow": {
     "slide_type": "subslide"
    }
   },
   "outputs": [],
   "source": [
    "function arrival(ev::AbstractEvent)\n",
    "    sim = environment(ev)\n",
    "    time = now(sim)\n",
    "    push!(times, time)\n",
    "    push!(output, output[end]+1)\n",
    "    if output[end] == 1\n",
    "        service_delay = rand(service_distribution)\n",
    "        @callback service(timeout(sim, service_delay))\n",
    "    end\n",
    "    next_arrival_delay = rand(interarrival_distribution)\n",
    "    @callback arrival(timeout(sim, next_arrival_delay))\n",
    "end"
   ]
  },
  {
   "cell_type": "code",
   "execution_count": null,
   "metadata": {
    "collapsed": false,
    "jupyter": {
     "outputs_hidden": false
    },
    "slideshow": {
     "slide_type": "fragment"
    }
   },
   "outputs": [],
   "source": [
    "function service(ev::AbstractEvent)\n",
    "    sim = environment(ev)\n",
    "    time = now(sim)\n",
    "    push!(times, time)\n",
    "    push!(output, output[end]-1)\n",
    "    if output[end] > 0\n",
    "        service_delay = rand(service_distribution)\n",
    "        @callback service(timeout(sim, service_delay))\n",
    "    end\n",
    "end"
   ]
  },
  {
   "cell_type": "code",
   "execution_count": null,
   "metadata": {
    "collapsed": false,
    "jupyter": {
     "outputs_hidden": false
    },
    "slideshow": {
     "slide_type": "subslide"
    }
   },
   "outputs": [],
   "source": [
    "times = Float64[0.0]\n",
    "output = Int[0]\n",
    "sim = Simulation()\n",
    "next_arrival_delay = rand(interarrival_distribution)\n",
    "@callback arrival(timeout(sim, next_arrival_delay))\n",
    "run(sim, 10.0)\n",
    "println(times)\n",
    "println(output)"
   ]
  },
  {
   "cell_type": "markdown",
   "metadata": {
    "slideshow": {
     "slide_type": "subslide"
    }
   },
   "source": [
    "- Two callback functions describe completely what happens during the execution of an event.\n",
    "- For complicated systems (network of queues, clients with priorities, other scheduling methods) working with discrete events in this ways results in spaghetti code.\n",
    "- Code reuse is very limited. A lot of very different application domains can be modeled in a similar way."
   ]
  },
  {
   "cell_type": "markdown",
   "metadata": {
    "slideshow": {
     "slide_type": "slide"
    }
   },
   "source": [
    "### Process-driven Discrete-event Simulation\n",
    "\n",
    "- Events and their callbacks are abstracted and the simulation creator has only to program the logic of the system.\n",
    "- A process function describes what a specific entity (also called agent) is doing."
   ]
  },
  {
   "cell_type": "code",
   "execution_count": null,
   "metadata": {
    "collapsed": false,
    "jupyter": {
     "outputs_hidden": false
    },
    "slideshow": {
     "slide_type": "subslide"
    }
   },
   "outputs": [],
   "source": [
    "@resumable function packet_generator(sim::Simulation)\n",
    "    line = Resource(sim, 1)\n",
    "    while true\n",
    "        next_arrival_delay = rand(interarrival_distribution)\n",
    "        @yield timeout(sim, next_arrival_delay)\n",
    "        @process packet(sim, line)\n",
    "    end\n",
    "end\n",
    "\n",
    "@resumable function packet(sim::Simulation, line::Resource)\n",
    "    time = now(sim)\n",
    "    push!(times, time)\n",
    "    push!(output, output[end]+1)\n",
    "    @yield request(line)\n",
    "    service_delay = rand(service_distribution)\n",
    "    @yield timeout(sim, service_delay)\n",
    "    time = now(sim)\n",
    "    push!(times, time)\n",
    "    push!(output, output[end]-1)\n",
    "    @yield release(line)\n",
    "end"
   ]
  },
  {
   "cell_type": "code",
   "execution_count": null,
   "metadata": {
    "collapsed": false,
    "jupyter": {
     "outputs_hidden": false
    },
    "slideshow": {
     "slide_type": "subslide"
    }
   },
   "outputs": [],
   "source": [
    "times = Float64[0.0]\n",
    "output = Int[0]\n",
    "sim = Simulation()\n",
    "@process packet_generator(sim)\n",
    "run(sim, 10.0)\n",
    "println(times)\n",
    "println(output)"
   ]
  },
  {
   "cell_type": "markdown",
   "metadata": {
    "slideshow": {
     "slide_type": "slide"
    }
   },
   "source": [
    "## Plotting"
   ]
  },
  {
   "cell_type": "code",
   "execution_count": null,
   "metadata": {
    "collapsed": false,
    "jupyter": {
     "outputs_hidden": false
    }
   },
   "outputs": [],
   "source": [
    "plot(times, output, line=:steppost, leg=false)\n",
    "plot!(title = \"MM1\", xlabel = \"Time\", ylabel = \"Number of clients in system\")"
   ]
  },
  {
   "cell_type": "markdown",
   "metadata": {
    "slideshow": {
     "slide_type": "slide"
    }
   },
   "source": [
    "## Monte Carlo Simulation and Statistical Processing\n",
    "\n",
    "- Often we like to gather information about probabilites.\n",
    "- We also want to know the variation of these probabilities between simulation runs."
   ]
  },
  {
   "cell_type": "code",
   "execution_count": null,
   "metadata": {},
   "outputs": [],
   "source": [
    "const RUNS = 30\n",
    "const DURATION = 1000.0;"
   ]
  },
  {
   "cell_type": "code",
   "execution_count": null,
   "metadata": {
    "collapsed": false,
    "jupyter": {
     "outputs_hidden": false
    },
    "slideshow": {
     "slide_type": "subslide"
    }
   },
   "outputs": [],
   "source": [
    "Pₙ = Vector{Dict{Int, Float64}}()\n",
    "for r in 1:RUNS\n",
    "    push!(Pₙ, Dict{Int, Float64}())\n",
    "    times = Float64[0.0]\n",
    "    output = Int[0]\n",
    "    sim = Simulation()\n",
    "    @process packet_generator(sim)\n",
    "    run(sim, DURATION)\n",
    "    for (i,t) in enumerate(times[1:length(times)-1])\n",
    "        duration = times[i+1] - t\n",
    "        if output[i] ∈ keys(Pₙ[r])\n",
    "            Pₙ[r][output[i]] = Pₙ[r][output[i]] + duration\n",
    "        else\n",
    "            Pₙ[r][output[i]] = duration\n",
    "        end\n",
    "    end\n",
    "    tₑ = times[end]\n",
    "    for nr_in_system in keys(Pₙ[r])\n",
    "        Pₙ[r][nr_in_system] = Pₙ[r][nr_in_system] / tₑ\n",
    "    end\n",
    "    print(\"$(Pₙ[r][0]), \")\n",
    "end\n",
    "println()"
   ]
  },
  {
   "cell_type": "code",
   "execution_count": null,
   "metadata": {},
   "outputs": [],
   "source": [
    "n = 8\n",
    "arr = zeros(Float64, RUNS, n+1)\n",
    "for v in 0:n\n",
    "    for r in 1:RUNS\n",
    "        if v ∈ keys(Pₙ[r])\n",
    "            arr[r, v+1] = Pₙ[r][v]\n",
    "        else\n",
    "            arr[r, v+1] = 0\n",
    "        end\n",
    "    end\n",
    "end\n",
    "boxplot(reshape(collect(0:n), 1, n+1), arr, label=reshape(collect(0:n), 1, n+1))"
   ]
  },
  {
   "cell_type": "markdown",
   "metadata": {},
   "source": [
    "## Hypothesistests\n",
    "\n",
    "We can test easily whether that the data in a vector comes from a given distribution"
   ]
  },
  {
   "cell_type": "code",
   "execution_count": null,
   "metadata": {},
   "outputs": [],
   "source": [
    "@resumable function packet(sim::Simulation, line::Resource)\n",
    "    @yield request(line)\n",
    "    service_delay = rand(service_distribution)\n",
    "    @yield timeout(sim, service_delay)\n",
    "    time = now(sim)\n",
    "    push!(times, time)\n",
    "    @yield release(line)\n",
    "end"
   ]
  },
  {
   "cell_type": "code",
   "execution_count": null,
   "metadata": {},
   "outputs": [],
   "source": [
    "times = Float64[]\n",
    "sim = Simulation()\n",
    "@process client_generator(sim)\n",
    "run(sim, 100.0)\n",
    "vec = diff(times)\n",
    "ExactOneSampleKSTest(vec, interarrival_distribution)"
   ]
  }
 ],
 "metadata": {
  "anaconda-cloud": {},
  "celltoolbar": "Slideshow",
  "kernelspec": {
   "display_name": "Julia 1.2.0",
   "language": "julia",
   "name": "julia-1.2"
  },
  "language_info": {
   "file_extension": ".jl",
   "mimetype": "application/julia",
   "name": "julia",
   "version": "1.2.0"
  }
 },
 "nbformat": 4,
 "nbformat_minor": 4
}
