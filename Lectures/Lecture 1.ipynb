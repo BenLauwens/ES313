{
  "cells": [
    {
      "cell_type": "markdown",
      "source": [
        "# Cellular Automaton"
      ],
      "metadata": {}
    },
    {
      "cell_type": "markdown",
      "source": [
        "Port of [Think Complexity chapter 5](http://greenteapress.com/complexity2/html/index.html) by Allen Downey."
      ],
      "metadata": {}
    },
    {
      "cell_type": "code",
      "source": [
        "using Pkg        # Only first time\n",
        "pkg\"add Luxor\"   # Only first time\n",
        "\n",
        "using Luxor"
      ],
      "outputs": [],
      "execution_count": null,
      "metadata": {
        "collapsed": false,
        "outputHidden": true,
        "inputHidden": false,
        "outputExpanded": true
      }
    },
    {
      "cell_type": "markdown",
      "source": [
        "Cellular Automaton = discrete space (cells) as input for a calculation in discrete time"
      ],
      "metadata": {}
    },
    {
      "cell_type": "markdown",
      "source": [
        "## A Trivial Example"
      ],
      "metadata": {}
    },
    {
      "cell_type": "markdown",
      "source": [
        "0 dimensional CA, inverting its cell at each timestep (2 state values only)\n",
        "\n",
        "rule:"
      ],
      "metadata": {}
    },
    {
      "cell_type": "code",
      "source": [
        "function rule0dim(x::Bool)\n",
        "    !x\n",
        "end"
      ],
      "outputs": [],
      "execution_count": null,
      "metadata": {
        "collapsed": false,
        "outputHidden": false,
        "inputHidden": false
      }
    },
    {
      "cell_type": "markdown",
      "source": [
        "time evolution:"
      ],
      "metadata": {}
    },
    {
      "cell_type": "code",
      "source": [
        "function step0dim(x₀::Bool, steps::Int64)\n",
        "    xs = [x₀]\n",
        "    for i in 1:steps\n",
        "        push!(xs, rule0dim(xs[end]))\n",
        "    end\n",
        "    xs\n",
        "end"
      ],
      "outputs": [],
      "execution_count": null,
      "metadata": {
        "collapsed": false,
        "outputHidden": false,
        "inputHidden": false
      }
    },
    {
      "cell_type": "markdown",
      "source": [
        "visualisation:"
      ],
      "metadata": {}
    },
    {
      "cell_type": "code",
      "source": [
        "res = step0dim(false, 10)\n",
        "Drawing(50, 120, \"out.svg\")\n",
        "for (i, val) in enumerate(res)\n",
        "    if val\n",
        "        sethue(\"grey\")\n",
        "    else\n",
        "        sethue(\"lightgrey\")\n",
        "    end\n",
        "    box(5, 5+i*10, 10, 10, :fill)\n",
        "end\n",
        "finish()\n",
        "preview()"
      ],
      "outputs": [],
      "execution_count": null,
      "metadata": {
        "collapsed": false,
        "outputHidden": false,
        "inputHidden": false
      }
    },
    {
      "cell_type": "markdown",
      "source": [
        "## Wolfram's Experiment"
      ],
      "metadata": {}
    },
    {
      "cell_type": "markdown",
      "source": [
        "1 dimensional CA with 2 state values, new value of a cell depends only on state of neighbouring cells.\n",
        "\n",
        "rule can be expressed as an integer\n",
        "\n",
        "|prev|111|110|101|100|011|010|001|000|\n",
        "|---|---|---|---|---|---|---|---|\n",
        "|next|b7|b6|b5|b4|b3|b2|b1|b0|\n",
        "|rule50|0|0|1|1|0|0|1|0|\n",
        "\n",
        "b can be converted to an integer\n",
        "\n",
        "get a rule from an integer:"
      ],
      "metadata": {}
    },
    {
      "cell_type": "code",
      "source": [
        "function inttorule1dim(val::UInt8)\n",
        "    digs = BitArray(digits(val, base=2))\n",
        "    for i in length(digs):7\n",
        "        push!(digs, false)\n",
        "    end\n",
        "    digs\n",
        "end"
      ],
      "outputs": [],
      "execution_count": null,
      "metadata": {
        "collapsed": false,
        "outputHidden": false,
        "inputHidden": false
      }
    },
    {
      "cell_type": "markdown",
      "source": [
        "Apply rule to a cell knowing its own previous state and the previous state of his left and right neighbour"
      ],
      "metadata": {}
    },
    {
      "cell_type": "code",
      "source": [
        "function applyrule1dim(rule::BitArray{1}, bits::BitArray{1})\n",
        "    val = 1 + bits[3] + 2*bits[2] + 4*bits[1]\n",
        "    rule[val]\n",
        "end"
      ],
      "outputs": [],
      "execution_count": null,
      "metadata": {
        "collapsed": false,
        "outputHidden": false,
        "inputHidden": false
      }
    },
    {
      "cell_type": "markdown",
      "source": [
        "time evolution:"
      ],
      "metadata": {}
    },
    {
      "cell_type": "code",
      "source": [
        "function step1dim(x₀::BitArray{1}, rule::BitArray{1}, steps::Int64)\n",
        "    xs = [x₀]\n",
        "    len = length(x₀)\n",
        "    for i in 1:steps\n",
        "        x = copy(x₀)\n",
        "        for j in 2:len-1\n",
        "            x[j] = applyrule1dim(rule, xs[end][j-1:j+1])\n",
        "        end\n",
        "        push!(xs, x)\n",
        "    end\n",
        "    xs\n",
        "end"
      ],
      "outputs": [],
      "execution_count": null,
      "metadata": {
        "collapsed": false,
        "outputHidden": false,
        "inputHidden": false
      }
    },
    {
      "cell_type": "markdown",
      "source": [
        "initialisation:"
      ],
      "metadata": {}
    },
    {
      "cell_type": "code",
      "source": [
        "x₀ = falses(21)\n",
        "x₀[11] = true\n",
        "res = step1dim(x₀, inttorule1dim(UInt8(50)), 9);"
      ],
      "outputs": [],
      "execution_count": null,
      "metadata": {
        "collapsed": false,
        "outputHidden": false,
        "inputHidden": false
      }
    },
    {
      "cell_type": "markdown",
      "source": [
        "visualisation:"
      ],
      "metadata": {}
    },
    {
      "cell_type": "code",
      "source": [
        "function visualize1dim(res, dim)\n",
        "    width = dim * (length(res[1]) + 1)\n",
        "    height = dim * (length(res) + 1)\n",
        "    Drawing(width, height, \"out.svg\")\n",
        "    for (i, arr) in enumerate(res)\n",
        "        for (j, val) in enumerate(arr)\n",
        "            if val\n",
        "                sethue(\"grey\")\n",
        "            else\n",
        "                sethue(\"lightgrey\")\n",
        "            end\n",
        "            box(j*dim, i*dim, dim, dim, :fill)\n",
        "        end\n",
        "     end\n",
        "     finish()\n",
        "     preview()\n",
        "end"
      ],
      "outputs": [],
      "execution_count": null,
      "metadata": {
        "collapsed": false,
        "outputHidden": false,
        "inputHidden": false
      }
    },
    {
      "cell_type": "code",
      "source": [
        "visualize1dim(res, 10)"
      ],
      "outputs": [],
      "execution_count": null,
      "metadata": {
        "collapsed": false,
        "outputHidden": false,
        "inputHidden": false
      }
    },
    {
      "cell_type": "markdown",
      "source": [
        "## Classifying CAs"
      ],
      "metadata": {}
    },
    {
      "cell_type": "markdown",
      "source": [
        "### Class 1\n",
        "\n",
        "Evolution from any starting condition to the same uniform pattern, eg. rule0"
      ],
      "metadata": {}
    },
    {
      "cell_type": "code",
      "source": [
        "using Random\n",
        "x₀ = bitrand(21)\n",
        "x₀[1] = false; x₀[end] = false;\n",
        "res = step1dim(x₀, inttorule1dim(UInt8(0)), 1)\n",
        "visualize1dim(res, 10)"
      ],
      "outputs": [],
      "execution_count": null,
      "metadata": {
        "collapsed": false,
        "outputHidden": false,
        "inputHidden": false
      }
    },
    {
      "cell_type": "markdown",
      "source": [
        "### Class 2\n",
        "\n",
        "Generation of a simple pattern with nested structure, i.e. a pattern that contains many smaller versions of itself, eg. rule50.\n",
        "\n",
        "Example that looks like a Sierpinsi triangle (fractal): rule18."
      ],
      "metadata": {}
    },
    {
      "cell_type": "code",
      "source": [
        "x₀ = falses(129)\n",
        "x₀[65] = true\n",
        "res = step1dim(x₀, inttorule1dim(UInt8(18)), 63);\n",
        "visualize1dim(res, 4)"
      ],
      "outputs": [],
      "execution_count": null,
      "metadata": {
        "collapsed": false,
        "outputHidden": false,
        "inputHidden": false
      }
    },
    {
      "cell_type": "markdown",
      "source": [
        "### Class 3\n",
        "\n",
        "CAs that generate randomness, eg. rule30."
      ],
      "metadata": {}
    },
    {
      "cell_type": "code",
      "source": [
        "x₀ = falses(201)\n",
        "x₀[101] = true\n",
        "res = step1dim(x₀, inttorule1dim(UInt8(30)), 99);\n",
        "visualize1dim(res, 2.5)"
      ],
      "outputs": [],
      "execution_count": null,
      "metadata": {
        "collapsed": false,
        "outputHidden": false,
        "inputHidden": false
      }
    },
    {
      "cell_type": "markdown",
      "source": [
        "Center column as a sequence of bits, is hard to distinguish from a truly random sequence: pseudo-random number generators (PRNGs).\n",
        "\n",
        "- regularities can be detected statistically\n",
        "- a PRNG with finite amount of state will eventually repeat itself (period)\n",
        "- underlying process is fundamentally deterministic (unlike some physical processes: thermodynamics or quantum mechanics)\n",
        "\n",
        "This complex behavior is surprising (chaos is often associated with non-linear behavior of continuous time and space processes)."
      ],
      "metadata": {}
    },
    {
      "cell_type": "markdown",
      "source": [
        "### Class 4\n",
        "\n",
        "CAs that are Turing complete or universal, which means that they can compute any computable function, eg. rule110."
      ],
      "metadata": {}
    },
    {
      "cell_type": "code",
      "source": [
        "x₀ = bitrand(600)\n",
        "res = step1dim(x₀, inttorule1dim(UInt8(110)), 599);\n",
        "visualize1dim(res, 0.85)"
      ],
      "outputs": [],
      "execution_count": null,
      "metadata": {
        "collapsed": false,
        "outputHidden": false,
        "inputHidden": false
      }
    },
    {
      "cell_type": "markdown",
      "source": [
        "- After about 100 steps, simple repeating patterns emerge, but there are a number of persistent structures that appear as disturbances. Some are vertical, other are diagonal and are called spaceships.\n",
        "\n",
        "- Collisions between spaceships yields different results depending on their type and their phase. Some collisions annihilate both ships; other leaves one ship unchanged; still other yield one or more ships of different types.\n",
        "\n",
        "- The collisions are the basis of computation in a rule110 CA. You can think of spaceships as signales that propagate through space, and collisions as gate that compute logical operations like AND and OR."
      ],
      "metadata": {}
    },
    {
      "cell_type": "markdown",
      "source": [
        "## Turing State-Machines\n",
        "\n",
        "Based on [wikipedia: Turing Machine](https://en.wikipedia.org/wiki/Turing_machine).\n",
        "\n",
        "A Turing machine is a mathematical model of computation that defines an abstract machine, which manipulates symbols on a tape according to a table of rules. Despite the model's simplicity, given any computer algorithm, a Turing machine capable of simulating that algorithm's logic can be constructed.\n",
        "\n",
        "- A tape divided into cells, one next to the other. Each cell contains a symbol from some finite alphabet. The alphabet contains a special blank symbol (here written as '0') and one or more other symbols. The tape is assumed to be arbitrarily extendable to the left and to the right, i.e., the Turing machine is always supplied with as much tape as it needs for its computation. Cells that have not been written before are assumed to be filled with the blank symbol. In some models the tape has a left end marked with a special symbol; the tape extends or is indefinitely extensible to the right.\n",
        "- A head that can read and write symbols on the tape and move the tape left and right one (and only one) cell at a time. In some models the head moves and the tape is stationary.\n",
        "- A state register that stores the state of the Turing machine, one of finitely many. Among these is the special start state with which the state register is initialized. These states, writes Turing, replace the \"state of mind\" a person performing computations would ordinarily be in.\n",
        "- A finite table of instructions that, given the state the machine is currently in and the symbol it is reading on the tape (symbol currently under the head), tells the machine to do the following in sequence:\n",
        "    - Erase or write a symbol.\n",
        "    - Move the head ( 'L' for one step left or 'R' for one step right or 'N' for staying in the same place).\n",
        "    - Assume the same or a new state as prescribed."
      ],
      "metadata": {}
    },
    {
      "cell_type": "markdown",
      "source": [
        "Table of rules:\n",
        "\n",
        "| Tape Symbol | State A   | State B   | State C   |\n",
        "|:-----------:|-----------|-----------|-----------|\n",
        "| 0           | 1 - R - B | 1 - L - A | 1 - L - B |\n",
        "| 1           | 1 - L - C | 1 - R - B | 1 - R - H |\n"
      ],
      "metadata": {}
    },
    {
      "cell_type": "code",
      "source": [
        "function applyrulebusybeaver(state, read)\n",
        "    if state == 'A' && read == 0\n",
        "        return 1, 'R', 'B'\n",
        "    elseif state == 'A' && read == 1\n",
        "        return 1, 'L', 'C'\n",
        "    elseif state == 'B' && read == 0\n",
        "        return 1, 'L', 'A'\n",
        "    elseif state == 'B' && read == 1\n",
        "        return 1, 'R', 'B'\n",
        "    elseif state == 'C' && read == 0\n",
        "        return 1, 'L', 'B'\n",
        "    elseif state == 'C' && read == 1\n",
        "        return 1, 'R', 'H'\n",
        "    end\n",
        "end"
      ],
      "outputs": [],
      "execution_count": null,
      "metadata": {
        "collapsed": false,
        "outputHidden": false,
        "inputHidden": false
      }
    },
    {
      "cell_type": "markdown",
      "source": [
        "struct to represent the Turing State-Machine:"
      ],
      "metadata": {}
    },
    {
      "cell_type": "code",
      "source": [
        "mutable struct Turing\n",
        "    tape :: Array{Int64}\n",
        "    position :: Int64\n",
        "    state :: Char\n",
        "end"
      ],
      "outputs": [],
      "execution_count": null,
      "metadata": {
        "collapsed": false,
        "outputHidden": false,
        "inputHidden": false
      }
    },
    {
      "cell_type": "code",
      "source": [
        "function Base.show(io::IO, turing::Turing)\n",
        "    print(io, turing.position, \" - \", turing.state, \": \", turing.tape)\n",
        "end"
      ],
      "outputs": [],
      "execution_count": null,
      "metadata": {
        "collapsed": false,
        "outputHidden": false,
        "inputHidden": false
      }
    },
    {
      "cell_type": "markdown",
      "source": [
        "implementation of a step:"
      ],
      "metadata": {}
    },
    {
      "cell_type": "code",
      "source": [
        "function stepturing(turing, applyrule)\n",
        "    if turing.state == 'H'\n",
        "        error(\"Machine has stopped!\")\n",
        "    end\n",
        "    read = turing.tape[turing.position]\n",
        "    (write, dir, turing.state) = applyrule(turing.state, read)\n",
        "    turing.tape[turing.position] = write\n",
        "    if dir == 'L'\n",
        "        if turing.position == length(turing.tape)\n",
        "            push!(turing.tape, false)\n",
        "        end\n",
        "        turing.position += 1\n",
        "    else\n",
        "        if turing.position == 1\n",
        "            pushfirst!(turing.tape, false)\n",
        "        else\n",
        "            turing.position -= 1\n",
        "        end\n",
        "    end\n",
        "    nothing\n",
        "end"
      ],
      "outputs": [],
      "execution_count": null,
      "metadata": {
        "collapsed": false,
        "outputHidden": false,
        "inputHidden": false
      }
    },
    {
      "cell_type": "markdown",
      "source": [
        "output:"
      ],
      "metadata": {}
    },
    {
      "cell_type": "code",
      "source": [
        "turing = Turing(zeros(Int64, 11), 6, 'A')\n",
        "println(turing)\n",
        "try\n",
        "    while true\n",
        "        stepturing(turing, applyrulebusybeaver)\n",
        "        println(turing)\n",
        "    end\n",
        "catch\n",
        "end"
      ],
      "outputs": [],
      "execution_count": null,
      "metadata": {
        "collapsed": false,
        "outputHidden": false,
        "inputHidden": false
      }
    }
  ],
  "metadata": {
    "kernel_info": {
      "name": "julia-1.1"
    },
    "language_info": {
      "file_extension": ".jl",
      "name": "julia",
      "mimetype": "application/julia",
      "version": "1.1.1"
    },
    "kernelspec": {
      "name": "julia-1.1",
      "language": "julia",
      "display_name": "Julia 1.1.1"
    },
    "nteract": {
      "version": "0.14.5"
    }
  },
  "nbformat": 4,
  "nbformat_minor": 0
}