{
 "cells": [
  {
   "cell_type": "markdown",
   "metadata": {},
   "source": [
    "# Introduction"
   ]
  },
  {
   "cell_type": "markdown",
   "metadata": {},
   "source": [
    "## Who?\n",
    "\n",
    "- Ben Lauwens, Maj IMM, D30.20, ben.lauwens@rma.ac.be\n",
    "- Bart Declerck, Kapt, D30.17 , bart.declerck@mil.be"
   ]
  },
  {
   "cell_type": "markdown",
   "metadata": {},
   "source": [
    "## Schedule\n",
    "\n",
    "- September:\n",
    "    - Tuesday: Programmation and Algorithms\n",
    "    - Wednesday: Guided Exercises\n",
    "- October:\n",
    "    - Tuesday: Modelling and Simulation\n",
    "    - Wednesday: Guided Exercises\n",
    "- November:\n",
    "    - Tuesday and Wednesday (2x): Guided Mini-Projects\n",
    "- November-December:\n",
    "    - Tuesday and Wednesday: Personal Mini-Project + Intermediate Evaluations"
   ]
  },
  {
   "cell_type": "markdown",
   "metadata": {},
   "source": [
    "## Test and Exam\n",
    "\n",
    "- Written test after Programmation and Algorithms (1/3)\n",
    "\n",
    "- Presentation of Personal Mini-Project during exams (2/3)"
   ]
  },
  {
   "cell_type": "markdown",
   "metadata": {},
   "source": [
    "# VirtualBox and Jupyter Lab"
   ]
  },
  {
   "cell_type": "markdown",
   "metadata": {},
   "source": [
    "- Virtualbox\n",
    "- Jupyter Lab:\n",
    "    - notebook\n",
    "    - console\n",
    "    - terminal\n",
    "- Julia\n",
    "- git (pull, stash)"
   ]
  }
 ],
 "metadata": {
  "kernelspec": {
   "display_name": "Julia 0.7.0",
   "language": "julia",
   "name": "julia-0.7"
  },
  "language_info": {
   "file_extension": ".jl",
   "mimetype": "application/julia",
   "name": "julia",
   "version": "0.7.0"
  }
 },
 "nbformat": 4,
 "nbformat_minor": 2
}
