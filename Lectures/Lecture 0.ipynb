{
  "cells": [
    {
      "cell_type": "markdown",
      "source": [
        "# Introduction"
      ],
      "metadata": {}
    },
    {
      "cell_type": "markdown",
      "source": [
        "## Who are we?\n",
        "\n",
        "Lecturer: MAJ IMM Ben Lauwens / D30.20 / [ben.lauwens@mil.be]\n",
        "\n",
        "Assistant: CPN Bart De Clerck / D30.20 / [bart.declerck@mil.be]"
      ],
      "metadata": {}
    },
    {
      "cell_type": "markdown",
      "source": [
        "## Why Modelling and Simulation\n",
        "\n",
        "- What is modelling?\n",
        "\n",
        "- What is simulation?\n",
        "\n",
        "Reality is often too complex to calculate ..."
      ],
      "metadata": {}
    },
    {
      "cell_type": "markdown",
      "source": [
        "## Documentations\n",
        "\n",
        "All slides can be found on github: [https://github.com/BenLauwens/ES313.jl.git]."
      ],
      "metadata": {}
    },
    {
      "cell_type": "markdown",
      "source": [
        "## Schedule\n",
        "\n",
        "### Theory\n",
        "\n",
        "- 01/09: Cellular Automaton + Game of Life\n",
        "- 02/09: Year Coord\n",
        "- 15/09: Physical Modelling + Self-Organization\n",
        "- 22/09: Optimisation Techniques\n",
        "- 23/09: Linear Programming I\n",
        "- 29/09: Linear Programming II + Applications I\n",
        "- 30/09: Applications of Linear Programming II\n",
        "- 20/10: Introduction to Discrete Event Simulation\n",
        "- 21/10: Process Driven DES: SimJulia I\n",
        "- 27/10: Process Driven DES II + Applications I\n",
        "- 28/10: Applications with SimJulia II\n",
        "\n",
        "### Practice\n",
        "\n",
        "- 08/09: Visualisation\n",
        "- 09/09: Cellular Automaton\n",
        "- 16/09: Game of Life\n",
        "- 06/10: Physical Modelling + Self-Organization\n",
        "- 07/10: Optimisation Techniques I\n",
        "- 13/10: Optimisation Techniques II + Linear Programming I\n",
        "- 14/10: Linear Programming II\n",
        "- 27/10: Linear Programming III + Introduction to Discrete Event Simulation I\n",
        "- 03/11: Introduction to Discrete Event Simulation II + Process Driven DES: SimJulia I\n",
        "- 04/11: Process Driven DES II + Applications with SimJulia I\n",
        "- 10/11: Applications with SimJulia II\n",
        "- 11/11: Performance\n",
        "\n",
        "### Project\n",
        "\n",
        "- 11/11: List of projects available\n",
        "- we are available during contact hours\n",
        "- 17/11: obligatory meeting: understanding of the problem\n",
        "- 01/12: obligatory meeting: progress"
      ],
      "metadata": {}
    },
    {
      "cell_type": "markdown",
      "source": [
        "## Evaluation\n",
        "\n",
        "Test: Oct - 2Hr\n",
        "- Cellular Automaton + Game of Life\n",
        "- Physical Modelling + Self-Organization\n",
        "\n",
        "Examen: Project with Oral Defense\n",
        "- Visualisation\n",
        "- Optimisation Techniques\n",
        "- Linear Programming\n",
        "- Discrete Event Simulation"
      ],
      "metadata": {}
    }
  ],
  "metadata": {
    "kernel_info": {
      "name": "julia-1.1"
    },
    "kernelspec": {
      "display_name": "Julia 1.2.0",
      "language": "julia",
      "name": "julia-1.2"
    },
    "language_info": {
      "file_extension": ".jl",
      "mimetype": "application/julia",
      "name": "julia",
      "version": "1.2.0"
    },
    "nteract": {
      "version": "0.24.1"
    }
  },
  "nbformat": 4,
  "nbformat_minor": 4
}