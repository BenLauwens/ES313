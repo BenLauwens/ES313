{
 "cells": [
  {
   "cell_type": "markdown",
   "metadata": {},
   "source": [
    "# Introduction"
   ]
  },
  {
   "cell_type": "markdown",
   "metadata": {},
   "source": [
    "## Who are we?\n",
    "\n",
    "Lecturer: MAJ IMM Ben Lauwens / D30.20 / [ben.lauwens@mil.be]\n",
    "\n",
    "Assistant: CPN Bart De Clerck / D30.17 / [bart.declerck@mil.be]"
   ]
  },
  {
   "cell_type": "markdown",
   "metadata": {},
   "source": [
    "## Why Modelling and Simulation\n",
    "\n",
    "- What is modelling?\n",
    "\n",
    "- What is simulation?\n",
    "\n",
    "Reality is often too complex to calculate ..."
   ]
  },
  {
   "cell_type": "markdown",
   "metadata": {},
   "source": [
    "## Documentations\n",
    "\n",
    "All slides can be found on github: [https://github.com/BenLauwens/ES313.jl.git]."
   ]
  },
  {
   "cell_type": "markdown",
   "metadata": {},
   "source": [
    "## Schedule\n",
    "\n",
    "### Theory\n",
    "\n",
    "- 27/08: Cellular Automaton + Game of Life\n",
    "- 03/09: Physical Modelling + Self-Organization\n",
    "- 17/09: Optimisation Techniques\n",
    "- 24/09: Linear Programming\n",
    "- 01/10: Applications of Linear Programming\n",
    "- 15/10: Introduction to Discrete Event Simulation\n",
    "- 22/10: Process Driven DES: SimJulia\n",
    "- 29/10: Applications with SimJulia\n",
    "\n",
    "### Practice\n",
    "\n",
    "- 28/08: Visualisation I\n",
    "- 04/09: Visualisation II\n",
    "- 10/09: Cellular Automaton + Game of Life\n",
    "- 11/09: Physical Modelling + Self-Organization I\n",
    "- 18/09: Physical Modelling + Self-Organization II\n",
    "- 25/09: Optimisation Techniques I\n",
    "- 02/10: Optimisation Techniques II \n",
    "- 08/10: Linear Programming I\n",
    "- 09/10: Linear Programming II\n",
    "- 16/10: Linear Programming III\n",
    "- 23/10: Introduction to Discrete Event Simulation I\n",
    "- 30/10: Introduction to Discrete Event Simulation II\n",
    "- 05/11: Process Driven DES: SimJulia\n",
    "- 12/11: Applications with SimJulia\n",
    "\n",
    "### Project\n",
    "\n",
    "- 13/11: List of projects available\n",
    "- we are available during contact hours\n",
    "- 19/11: obligatory meeting: understanding of the problem\n",
    "- 10/12: obligatory meeting: progress"
   ]
  },
  {
   "cell_type": "markdown",
   "metadata": {},
   "source": [
    "## Evaluation\n",
    "\n",
    "Test: 2nd week of Oct - 2Hr\n",
    "- Visualisation\n",
    "- Cellular Automaton + Game of Life\n",
    "- Physical Modelling + Self-Organization\n",
    "\n",
    "Examen: Project with Oral Defense\n",
    "- Optimisation Techniques\n",
    "- Linear Programming\n",
    "- Discrete Event Simulation"
   ]
  }
 ],
 "metadata": {
  "kernel_info": {
   "name": "julia-1.1"
  },
  "kernelspec": {
   "display_name": "Julia 1.2.0",
   "language": "julia",
   "name": "julia-1.2"
  },
  "language_info": {
   "file_extension": ".jl",
   "mimetype": "application/julia",
   "name": "julia",
   "version": "1.2.0"
  },
  "nteract": {
   "version": "0.14.5"
  }
 },
 "nbformat": 4,
 "nbformat_minor": 4
}
