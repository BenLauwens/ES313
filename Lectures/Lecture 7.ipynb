{
 "cells": [
  {
   "cell_type": "markdown",
   "metadata": {},
   "source": [
    "# Applications of Linear Programming"
   ]
  },
  {
   "cell_type": "code",
   "execution_count": null,
   "metadata": {},
   "outputs": [],
   "source": [
    "using JuMP\n",
    "using GLPK"
   ]
  },
  {
   "cell_type": "markdown",
   "metadata": {},
   "source": [
    "## Economy\n",
    "\n",
    "A manufacturer produces  four different  products  $X_1$, $X_2$, $X_3$ and $X_4$. There are three inputs to this production process:\n",
    "\n",
    "- labor in man weeks,  \n",
    "- kilograms of raw material A, and \n",
    "- boxes  of raw  material  B.\n",
    "\n",
    "Each product has different input requirements. In determining each  week's production schedule, the manufacturer cannot use more than the available amounts of  manpower and the two raw  materials:\n",
    "\n",
    "|Inputs|$X_1$|$X_2$|$X_3$|$X_4$|Availabilities|\n",
    "|------|-----|-----|-----|-----|--------------|\n",
    "|Person-weeks|1|2|1|2|20|\n",
    "|Kilograms of material A|6|5|3|2|100|\n",
    "|Boxes of material B|3|4|9|12|75|\n",
    "|Production level|$x_1$|$x_2$|$x_3$|$x_4$| |\n",
    "\n",
    "These constraints can be written in mathematical form\n",
    "\n",
    "\\begin{align}\n",
    "x_1+2x_2+x_3+2x_4\\le&20\\\\\n",
    "6x_1+5x_2+3x_3+2x_4\\le&100\\\\\n",
    "3x_1+4x_2+9x_3+12x_4\\le&75\n",
    "\\end{align}\n",
    "\n",
    "Because negative production levels are not meaningful, we must impose the following nonnegativity constraints on the production levels:\n",
    "\n",
    "\\begin{equation}\n",
    "x_i\\ge0,\\qquad i=1,2,3,4\n",
    "\\end{equation}\n",
    "\n",
    "Now suppose that one unit of product $X_1$ sells for €6 and $X_2$, $X_3$ and $X_4$ sell for €4, €7 and €5, respectively. Then, the total revenue for any production decision $\\left(x_1,x_2,x_3,x_4\\right)$ is\n",
    "\n",
    "\\begin{equation}\n",
    "f\\left(x_1,x_2,x_3,x_4\\right)=6x_1+4x_2+7x_3+5x_4\n",
    "\\end{equation}\n",
    "\n",
    "The problem is then to maximize $f$ subject to the given constraints."
   ]
  },
  {
   "cell_type": "code",
   "execution_count": null,
   "metadata": {},
   "outputs": [],
   "source": [
    "model = Model(with_optimizer(GLPK.Optimizer, method = GLPK.SIMPLEX))\n",
    "@variable(model, 0 <= x1)\n",
    "@variable(model, 0 <= x2)\n",
    "@variable(model, 0 <= x3)\n",
    "@variable(model, 0 <= x4)\n",
    "@objective(model, Max, 6*x1 + 4*x2 + 7*x3 + 5*x4)\n",
    "@constraint(model, con1,   x1 + 2*x2 +   x3 +  2*x4 <= 20)\n",
    "@constraint(model, con2, 6*x1 + 5*x2 + 3*x3 +  2*x4 <= 100)\n",
    "@constraint(model, con3, 3*x1 + 4*x2 + 9*x3 + 12*x4 <= 75)\n",
    "optimize!(model)"
   ]
  },
  {
   "cell_type": "code",
   "execution_count": null,
   "metadata": {},
   "outputs": [],
   "source": [
    "termination_status(model)"
   ]
  },
  {
   "cell_type": "code",
   "execution_count": null,
   "metadata": {},
   "outputs": [],
   "source": [
    "primal_status(model)"
   ]
  },
  {
   "cell_type": "code",
   "execution_count": null,
   "metadata": {},
   "outputs": [],
   "source": [
    "for x in (x1, x2, x3, x4)\n",
    "    println(\"$x = $(value(x))\")\n",
    "end"
   ]
  },
  {
   "cell_type": "code",
   "execution_count": null,
   "metadata": {},
   "outputs": [],
   "source": [
    "objective_value(model)"
   ]
  },
  {
   "cell_type": "markdown",
   "metadata": {},
   "source": [
    "## Manufacturing\n",
    "\n",
    "A manufacturer produces two different products $X_1$ and $X_2$ using three machines $M_1$, $M_2$, and $M_3$. Each machine can be used only for a limited amount of time. Production times of each product on each machine are given by \n",
    "\n",
    "|Machine|Production time $X_1$|Production time $X_2$|Available time|\n",
    "|-------|---------------------|---------------------|--------------|\n",
    "|$M_1$  |1                    |1                    |8             |\n",
    "|$M_2$  |1                    |3                    |18            |\n",
    "|$M_3$  |2                    |1                    |14            |\n",
    "|Total  |4                    |5                    |              |\n",
    "\n",
    "The objective is to maximize the combined time of utilization of all three machines.\n",
    "\n",
    "Every production decision must satisfy the constraints on the available time. These restrictions can be written down using data from the table.\n",
    "\n",
    "\\begin{align}\n",
    "x_1+x_2&\\le8\\,,\\\\\n",
    "x_1+3x_2&\\le18\\,,\\\\\n",
    "2x_1+x_2&\\le14\\,,\n",
    "\\end{align}\n",
    "\n",
    "where $x_1$ and $x_2$ denote the production levels. The combined production time of all three machines is\n",
    "\n",
    "\\begin{equation}\n",
    "f\\left(x_1,x_2\\right)=4x_1+5x_2\\,.\n",
    "\\end{equation}"
   ]
  },
  {
   "cell_type": "code",
   "execution_count": null,
   "metadata": {},
   "outputs": [],
   "source": [
    "model = Model(with_optimizer(GLPK.Optimizer, method = GLPK.SIMPLEX))\n",
    "@variable(model, 0 <= x1)\n",
    "@variable(model, 0 <= x2)\n",
    "@objective(model, Max, 4*x1 + 5*x2)\n",
    "@constraint(model, con1,   x1 +   x2 <= 8)\n",
    "@constraint(model, con2,   x1 + 3*x2 <= 18)\n",
    "@constraint(model, con3, 2*x1 +   x2 <= 14)\n",
    "optimize!(model)"
   ]
  },
  {
   "cell_type": "code",
   "execution_count": null,
   "metadata": {},
   "outputs": [],
   "source": [
    "termination_status(model)"
   ]
  },
  {
   "cell_type": "code",
   "execution_count": null,
   "metadata": {},
   "outputs": [],
   "source": [
    "primal_status(model)"
   ]
  },
  {
   "cell_type": "code",
   "execution_count": null,
   "metadata": {},
   "outputs": [],
   "source": [
    "for x in (x1, x2)\n",
    "    println(\"$x = $(value(x))\")\n",
    "end"
   ]
  },
  {
   "cell_type": "code",
   "execution_count": null,
   "metadata": {},
   "outputs": [],
   "source": [
    "objective_value(model)"
   ]
  },
  {
   "cell_type": "markdown",
   "metadata": {},
   "source": [
    "## Transportation\n",
    "\n",
    "A manufacturing company has plants in cities A, B, and C. The company produces and distributes its product to dealers in various cities. On a particular day, the company has 30 units of its product in A, 40 in B, and 30 in C. The company plans to ship 20 units to D, 20 to E, 25 to F, and 35 to G, following orders received from dealers. The transportation costs per unit of each product between the cities are given by\n",
    "\n",
    "|From|To D|To E|To F|To G|Supply|\n",
    "|----|----|----|----|----|------|\n",
    "|A   |7   |10  |14  |8   |30    |\n",
    "|B   |7   |11  |12  |6   |40    |\n",
    "|C   |5   |8   |15  |9   |30    |\n",
    "|Demand|20|20  |25  |35  |100   |\n",
    "\n",
    "In the table, the quantities supplied and demanded appear at the right and along the bottom of the table. The quantities to be transported from the plants to different destinations are represented by the decision variables.\n",
    "\n",
    "This problem can be stated in the form:\n",
    "\n",
    "\\begin{equation}\n",
    "\\min 7x_{AD}+10x_{AE}+14x_{AF}+8x_{AG}+7x_{BD}+11x_{BE}+12x_{BF}+6x_{BG}+5x_{CD}+8x_{CE}+15x_{CF}+9x_{CG}\n",
    "\\end{equation}\n",
    "\n",
    "subject to\n",
    "\n",
    "\\begin{align}\n",
    "x_{AD}+x_{AE}+x_{AF}+x_{AG}&=30\\\\\n",
    "x_{BD}+x_{BE}+x_{BF}+x_{BG}&=40\\\\\n",
    "x_{CD}+x_{CE}+x_{CF}+x_{CG}&=30\\\\\n",
    "x_{AD}+x_{BD}+x_{CD}&=20\\\\\n",
    "x_{AE}+x_{BE}+x_{CE}&=20\\\\\n",
    "x_{AF}+x_{BF}+x_{CF}&=25\\\\\n",
    "x_{AG}+x_{BG}+x_{CG}&=35\n",
    "\\end{align}\n",
    "\n",
    "In this problem, one of the constraint equations is redundant because it can be derived from the rest of the constraint equations. The mathematical formulation of the transportation problem is then in a linear programming form with twelve (3x4) decision variables and six (3 + 4—1) linearly independent constraint equations. Obviously, we also require nonnegativity of the decision variables, since a negative shipment is impossible and does not have any valid interpretation."
   ]
  },
  {
   "cell_type": "code",
   "execution_count": null,
   "metadata": {},
   "outputs": [],
   "source": [
    "model = Model(with_optimizer(GLPK.Optimizer, method = GLPK.SIMPLEX))\n",
    "@variable(model, 0 <= x[1:3,1:4])\n",
    "@objective(model, Min, 7x[1,1]+10x[1,2]+14x[1,3]+8x[1,4]+7x[2,1]+11x[2,2]+12x[2,3]+6x[2,4]+5x[3,1]+8x[3,2]+15x[3,3]+9x[3,4])\n",
    "@constraint(model, con1, sum(x[1,j] for j in 1:4) == 30)\n",
    "@constraint(model, con2, sum(x[2,j] for j in 1:4) == 40)\n",
    "@constraint(model, con3, sum(x[3,j] for j in 1:4) == 30)\n",
    "@constraint(model, con4, sum(x[i,1] for i in 1:3) == 20)\n",
    "@constraint(model, con5, sum(x[i,2] for i in 1:3) == 20)\n",
    "@constraint(model, con6, sum(x[i,3] for i in 1:3) == 25)\n",
    "@constraint(model, con7, sum(x[i,4] for i in 1:3) == 35)\n",
    "optimize!(model)"
   ]
  },
  {
   "cell_type": "code",
   "execution_count": null,
   "metadata": {},
   "outputs": [],
   "source": [
    "termination_status(model)"
   ]
  },
  {
   "cell_type": "code",
   "execution_count": null,
   "metadata": {},
   "outputs": [],
   "source": [
    "primal_status(model)"
   ]
  },
  {
   "cell_type": "code",
   "execution_count": null,
   "metadata": {},
   "outputs": [],
   "source": [
    "for i in 1:3\n",
    "    for j in 1:4\n",
    "        println(\"x[$i,$j] = $(value(x[i,j]))\")\n",
    "    end\n",
    "end"
   ]
  },
  {
   "cell_type": "code",
   "execution_count": null,
   "metadata": {},
   "outputs": [],
   "source": [
    "objective_value(model)"
   ]
  },
  {
   "cell_type": "markdown",
   "metadata": {},
   "source": [
    "This problem is an _integer linear programming_ problem, i.e. the solution components must be integers.\n",
    "\n",
    "We can use the simplex method to find a solution to an ILP problem if the $m\\times n$ matrix $A$ is unimodular, i.e. if all its nonzero $m$th order minors are $\\pm 1$."
   ]
  },
  {
   "cell_type": "markdown",
   "metadata": {},
   "source": [
    "## Electricity\n",
    "\n",
    "An electric circuit is designed to use a 30 V source to charge 10 V, 6 V, and 20 V batteries connected in parallel. Physical constraints limit the currents $I_1$, $I_2$, $I_3$, $I_4$, and $I_5$ to a maximum of 4 A, 3 A, 3 A, 2 A, and 2 A, respectively. In addition, the batteries must not be discharged, that is, the currents $I_1$, $I_2$, $I_3$, $I_4$, and $I_5$ must not be negative. We wish to find the values of the currents $I_1$, $I_2$, $I_3$, $I_4$, and $I_5$ such that the total power transferred to the batteries is maximized.\n",
    "\n",
    "The total power transferred to the batteries is the sum of the powers transferred to each battery, and is given by $10I_2 + 6I_4 + 20I_5$ W. From the circuit, we observe that the currents satisfy the constraints $I_1 = I_2 + I_3$, and $I_3 = I_4 + I_5$. Therefore, the problem can be posed as the following linear program:\n",
    "\n",
    "\\begin{equation}\n",
    "\\max 10I_2+6I_4+20I_5\n",
    "\\end{equation}\n",
    "\n",
    "subject to\n",
    "\n",
    "\\begin{align}\n",
    "I_1 &= I_2 + I_3\\\\\n",
    "I_3 &= I_4 + I_5\\\\\n",
    "I_1 &\\le 4\\\\\n",
    "I_2 &\\le 3\\\\\n",
    "I_3 &\\le 3\\\\\n",
    "I_4 &\\le 2\\\\\n",
    "I_5 &\\le 2\\\\\n",
    "\\end{align}"
   ]
  },
  {
   "cell_type": "code",
   "execution_count": null,
   "metadata": {},
   "outputs": [],
   "source": [
    "model = Model(with_optimizer(GLPK.Optimizer, method = GLPK.SIMPLEX))\n",
    "@variable(model, 0 <= I[1:5])\n",
    "@objective(model, Max, 10*I[2]+6*I[4]+20I[5])\n",
    "@constraint(model, con1, I[1] == I[2] + I[3])\n",
    "@constraint(model, con2, I[3] == I[4] + I[5])\n",
    "@constraint(model, con3, I[1] <= 4)\n",
    "@constraint(model, con4, I[2] <= 3)\n",
    "@constraint(model, con5, I[3] <= 3)\n",
    "@constraint(model, con6, I[4] <= 2)\n",
    "@constraint(model, con7, I[5] <= 2)\n",
    "optimize!(model)"
   ]
  },
  {
   "cell_type": "code",
   "execution_count": null,
   "metadata": {},
   "outputs": [],
   "source": [
    "termination_status(model)"
   ]
  },
  {
   "cell_type": "code",
   "execution_count": null,
   "metadata": {},
   "outputs": [],
   "source": [
    "primal_status(model)"
   ]
  },
  {
   "cell_type": "code",
   "execution_count": null,
   "metadata": {},
   "outputs": [],
   "source": [
    "for i in 1:5\n",
    "    println(\"I$i = $(value(I[i]))\")\n",
    "end"
   ]
  },
  {
   "cell_type": "code",
   "execution_count": null,
   "metadata": {},
   "outputs": [],
   "source": [
    "objective_value(model)"
   ]
  },
  {
   "cell_type": "markdown",
   "metadata": {},
   "source": [
    "## Telecom\n",
    "\n",
    "Consider a wireless communication system. There are $n$ \"mobile\" users. For each $i$ in $1,\\dots, n$; user $i$ transmits a signal to the base station with power $P_i$ and an attenuation factor of $h_i$ (i.e., the actual received signal power at the basestation from user $i$ is $h_iP_i$). When the basestation is receiving from user $i$, the total received power from all other users is considered \"interference\" (i.e., the interference for user $i$ is $\\sum_{i\\ne j}h_jP_j$). For the communication with user $i$ to be reliable, the signal-to-interference ratio must exceed a threshold $\\gamma_i$, where the \"signal\" is the received power for user $i$.\n",
    "\n",
    "We are interested in minimizing the total power transmitted by all the users subject to having reliable communications for all users. We can formulate the problem as a linear programming problem of the form\n",
    "\n",
    "\\begin{equation}\n",
    "\\min \\sum_iP_i\n",
    "\\end{equation}\n",
    "\n",
    "subject to\n",
    "\n",
    "\\begin{equation}\n",
    "\\forall i \\in 1,\\dots,n\\,:\\,\\begin{cases}\n",
    "\\frac{h_iP_i}{\\sum_{i\\ne j}h_jP_j}\\ge\\gamma_i\\\\\n",
    "P_i\\ge0\n",
    "\\end{cases}\n",
    "\\end{equation}"
   ]
  }
 ],
 "metadata": {
  "kernelspec": {
   "display_name": "Julia 1.2.0",
   "language": "julia",
   "name": "julia-1.2"
  },
  "language_info": {
   "file_extension": ".jl",
   "mimetype": "application/julia",
   "name": "julia",
   "version": "1.2.0"
  }
 },
 "nbformat": 4,
 "nbformat_minor": 4
}
