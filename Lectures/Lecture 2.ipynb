{
  "cells": [
    {
      "cell_type": "markdown",
      "source": [
        "# Game of Life"
      ],
      "metadata": {}
    },
    {
      "cell_type": "markdown",
      "source": [
        "Port of [Think Complexity chapter 6](http://greenteapress.com/complexity2/html/index.html) by Allen Downey.\n",
        "\n",
        "Conway's Game of Life (GoL) is a 2 dimensional CA that turns out to be universal."
      ],
      "metadata": {}
    },
    {
      "cell_type": "code",
      "source": [
        "using Luxor"
      ],
      "outputs": [],
      "execution_count": null,
      "metadata": {
        "collapsed": false,
        "outputHidden": false,
        "inputHidden": false
      }
    },
    {
      "cell_type": "markdown",
      "source": [
        "## Conway's GOL"
      ],
      "metadata": {}
    },
    {
      "cell_type": "markdown",
      "source": [
        "- The cells in GoL are arranged in a 2-D grid, that is, an array of rows and columns. Usually the grid is considered to be infinite, but in practice it is often “wrapped”; that is, the right edge is connected to the left, and the top edge to the bottom.\n",
        "\n",
        "- Each cell in the grid has two states — live and dead — and 8 neighbors — north, south, east, west, and the four diagonals. This set of neighbors is sometimes called a “Moore neighborhood”.\n",
        "\n",
        "- Like the 1-D CAs in the previous chapters, GoL evolves over time according to rules, which are like simple laws of physics.\n",
        "\n",
        "- In GoL, the next state of each cell depends on its current state and its number of live neighbors. If a cell is alive, it stays alive if it has 2 or 3 neighbors, and dies otherwise. If a cell is dead, it stays dead unless it has exactly 3 neighbors.\n",
        "\n",
        "- This behavior is loosely analogous to real cell growth: cells that are isolated or overcrowded die; at moderate densities they flourish."
      ],
      "metadata": {}
    },
    {
      "cell_type": "markdown",
      "source": [
        "## Implementation"
      ],
      "metadata": {}
    },
    {
      "cell_type": "markdown",
      "source": [
        "rule:"
      ],
      "metadata": {}
    },
    {
      "cell_type": "code",
      "source": [
        "function applyrulegameoflife(bits::BitArray{2})\n",
        "    (nr_y, nr_x) = size(bits)\n",
        "    out = falses(nr_y, nr_x)\n",
        "    for y in 2:nr_y-1\n",
        "        for x in 2:nr_x-1\n",
        "            if bits[y, x]\n",
        "                if 2 ≤ count(v->v, bits[y-1:y+1,x-1:x+1]) - 1 ≤ 3\n",
        "                    out[y, x] = true\n",
        "                end\n",
        "            else\n",
        "                if count(v->v, bits[y-1:y+1,x-1:x+1]) == 3\n",
        "                    out[y, x] = true\n",
        "                end\n",
        "            end\n",
        "        end\n",
        "    end\n",
        "    out\n",
        "end"
      ],
      "outputs": [],
      "execution_count": null,
      "metadata": {
        "collapsed": false,
        "outputHidden": false,
        "inputHidden": false
      }
    },
    {
      "cell_type": "markdown",
      "source": [
        "visualisation:"
      ],
      "metadata": {}
    },
    {
      "cell_type": "code",
      "source": [
        "function visualize2dim(bits::BitArray{2}, dim)\n",
        "    (nr_y, nr_x) = size(bits)\n",
        "    width = dim * (nr_x - 1)\n",
        "    height = dim * (nr_y - 1)\n",
        "    Drawing(width, height, \"out.svg\")\n",
        "    for (j, y) in enumerate(2:nr_y-1)\n",
        "        for (i, x) in enumerate(2:nr_x-1)\n",
        "            if bits[y, x]\n",
        "                sethue(\"grey\")\n",
        "            else\n",
        "                sethue(\"lightgrey\")\n",
        "            end\n",
        "            box(i*dim, j*dim, dim, dim, :fill)\n",
        "        end\n",
        "     end\n",
        "     finish()\n",
        "     preview()\n",
        "end"
      ],
      "outputs": [],
      "execution_count": null,
      "metadata": {
        "collapsed": false,
        "outputHidden": false,
        "inputHidden": false
      }
    },
    {
      "cell_type": "markdown",
      "source": [
        "example:"
      ],
      "metadata": {}
    },
    {
      "cell_type": "code",
      "source": [
        "using Random\n",
        "example = falses(12, 12)\n",
        "example[2:11,2:11] = reshape(bitrand(100), (10,10))\n",
        "visualize2dim(example, 15)"
      ],
      "outputs": [],
      "execution_count": null,
      "metadata": {
        "collapsed": false,
        "outputHidden": false,
        "inputHidden": false
      }
    },
    {
      "cell_type": "code",
      "source": [
        "example = applyrulegameoflife(example)\n",
        "visualize2dim(example, 15)"
      ],
      "outputs": [],
      "execution_count": null,
      "metadata": {
        "collapsed": false,
        "outputHidden": false,
        "inputHidden": false
      }
    },
    {
      "cell_type": "markdown",
      "source": [
        "## Life Patterns\n",
        "\n",
        "A number of stable patterns are likely to appear.\n",
        "\n",
        "### Beehive\n",
        "\n",
        "A stable pattern."
      ],
      "metadata": {}
    },
    {
      "cell_type": "code",
      "source": [
        "beehive = falses(5, 6)\n",
        "beehive[2,3:4] = [true, true]\n",
        "beehive[3,2] = true\n",
        "beehive[3,5] = true\n",
        "beehive[4,3:4] = [true, true]\n",
        "visualize2dim(beehive, 32)"
      ],
      "outputs": [],
      "execution_count": null,
      "metadata": {
        "collapsed": false,
        "outputHidden": false,
        "inputHidden": false
      }
    },
    {
      "cell_type": "code",
      "source": [
        "beehive = applyrulegameoflife(beehive)\n",
        "visualize2dim(beehive, 32)"
      ],
      "outputs": [],
      "execution_count": null,
      "metadata": {
        "collapsed": false,
        "outputHidden": false,
        "inputHidden": false
      }
    },
    {
      "cell_type": "markdown",
      "source": [
        "### Toad\n",
        "\n",
        "An oscillating pattern. The toad has a period of 2 timesteps."
      ],
      "metadata": {}
    },
    {
      "cell_type": "code",
      "source": [
        "toad = falses(6, 6)\n",
        "toad[3,3:5] = [true, true, true]\n",
        "toad[4,2:4] = [true, true, true]\n",
        "visualize2dim(toad, 32)"
      ],
      "outputs": [],
      "execution_count": null,
      "metadata": {
        "collapsed": false,
        "outputHidden": false,
        "inputHidden": false
      }
    },
    {
      "cell_type": "code",
      "source": [
        "toad = applyrulegameoflife(toad)\n",
        "visualize2dim(toad, 32)"
      ],
      "outputs": [],
      "execution_count": null,
      "metadata": {
        "collapsed": false,
        "outputHidden": false,
        "inputHidden": false
      }
    },
    {
      "cell_type": "markdown",
      "source": [
        "### Glider\n",
        "\n",
        "Oscillation pattern that shift in space. After a period of 4 steps, the glider is back in the starting configuration, shifted one unit down and to the right."
      ],
      "metadata": {}
    },
    {
      "cell_type": "code",
      "source": [
        "glider = falses(6, 6)\n",
        "glider[2,3] = true\n",
        "glider[3,4] = true\n",
        "glider[4,2:4] = [true, true, true]\n",
        "visualize2dim(glider, 32)"
      ],
      "outputs": [],
      "execution_count": null,
      "metadata": {
        "collapsed": false,
        "outputHidden": false,
        "inputHidden": false
      }
    },
    {
      "cell_type": "code",
      "source": [
        "for _ in 1:4\n",
        "    glider = applyrulegameoflife(glider)\n",
        "    visualize2dim(glider, 32)\n",
        "    sleep(1)\n",
        "end"
      ],
      "outputs": [],
      "execution_count": null,
      "metadata": {
        "collapsed": false,
        "outputHidden": false,
        "inputHidden": false
      }
    },
    {
      "cell_type": "markdown",
      "source": [
        "## Methusalems\n",
        "\n",
        "From most initial conditions, GoL quickly reaches a stable state where the number of live cells is nearly constant (possibly with some oscillation).\n",
        "\n",
        "But there are some simple starting conditions that yield a surprising number of live cells, and take a long time to settle down. Because these patterns are so long-lived, they are called “Methuselahs”.\n",
        "\n",
        "One of the simplest Methuselahs is the r-pentomino, which has only five cells, roughly in the shape of the letter “r”."
      ],
      "metadata": {}
    },
    {
      "cell_type": "code",
      "source": [
        "r_pentomino = falses(66, 66)\n",
        "r_pentomino[28,28:29] = [true, true]\n",
        "r_pentomino[29,27:28] = [true, true]\n",
        "r_pentomino[30,28] = true\n",
        "visualize2dim(r_pentomino, 4)"
      ],
      "outputs": [],
      "execution_count": null,
      "metadata": {
        "collapsed": false,
        "outputHidden": false,
        "inputHidden": false
      }
    },
    {
      "cell_type": "code",
      "source": [
        "for _ in 1:100\n",
        "    r_pentomino = applyrulegameoflife(r_pentomino)\n",
        "    visualize2dim(r_pentomino, 4)\n",
        "    sleep(0.1)\n",
        "end"
      ],
      "outputs": [],
      "execution_count": null,
      "metadata": {
        "collapsed": false,
        "outputHidden": false,
        "inputHidden": false
      }
    },
    {
      "cell_type": "code",
      "source": [
        "for _ in 1:1103\n",
        "    r_pentomino = applyrulegameoflife(r_pentomino)\n",
        "end\n",
        "visualize2dim(r_pentomino, 4)"
      ],
      "outputs": [],
      "execution_count": null,
      "metadata": {
        "collapsed": false,
        "outputHidden": false,
        "inputHidden": false
      }
    },
    {
      "cell_type": "markdown",
      "source": [
        "This configuration is final in the sense that all remaining patterns are either stable, oscillators or gliders that will never collide with another pattern.\n",
        "\n",
        "There are initial patterns that never stabilize, eg. a gun or a puffer train\n",
        "\n",
        "The Game of Life was proved Turing complete in 1982. Since then, several people have constructed GoL patterns that implement a Turing machine or another machine known to be Turing complete."
      ],
      "metadata": {}
    }
  ],
  "metadata": {
    "kernel_info": {
      "name": "julia-1.1"
    },
    "language_info": {
      "file_extension": ".jl",
      "name": "julia",
      "mimetype": "application/julia",
      "version": "1.1.1"
    },
    "kernelspec": {
      "name": "julia-1.1",
      "language": "julia",
      "display_name": "Julia 1.1.1"
    },
    "nteract": {
      "version": "0.14.5"
    }
  },
  "nbformat": 4,
  "nbformat_minor": 0
}