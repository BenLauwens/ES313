{
 "cells": [
  {
   "cell_type": "markdown",
   "metadata": {},
   "source": [
    "# Simulating the Atomic Bomb"
   ]
  },
  {
   "cell_type": "markdown",
   "metadata": {},
   "source": [
    "## Packages"
   ]
  },
  {
   "cell_type": "code",
   "execution_count": null,
   "metadata": {},
   "outputs": [],
   "source": [
    "#using Pkg\n",
    "#pkg\"add SimJulia\"\n",
    "#pkg\"add Distributions\"\n",
    "#pkg\"add StatsPlots\"\n",
    "\n",
    "using SimJulia\n",
    "using Distributions\n",
    "using Plots\n",
    "using StatsPlots\n",
    "using CSV\n",
    "using Logging"
   ]
  },
  {
   "cell_type": "markdown",
   "metadata": {},
   "source": [
    "## Constants"
   ]
  },
  {
   "cell_type": "code",
   "execution_count": null,
   "metadata": {},
   "outputs": [],
   "source": [
    "const Nₐ = 6.02214086e23  # atoms / mole\n",
    "const ρᵤ = 19.1           # g / cm3\n",
    "const mᵤ = 235.0439299    # g / mole\n",
    "const nᵤ = ρᵤ * Nₐ / mᵤ   # atoms / cm3\n",
    "const mₙ = 1.008664916    # g / mole\n",
    "const Mₙ = mₙ / Nₐ * 1e-3 # kg\n",
    "const k = 1.38064852e-23  # J / K\n",
    "const q = 1.60217662e-19  # C\n",
    "const A = mᵤ / mₙ\n",
    "const α = (A - 1)^2 / (A + 1) ^2\n",
    "const numberofspontaneousfis = 0.0003; # / g / s\n",
    "ρᵤ * 4/3 * π * 9^3 * numberofspontaneousfis"
   ]
  },
  {
   "cell_type": "markdown",
   "metadata": {},
   "source": [
    "## Distributions"
   ]
  },
  {
   "cell_type": "code",
   "execution_count": null,
   "metadata": {},
   "outputs": [],
   "source": [
    "const cosΘdistr = Uniform(-1, 1)\n",
    "const cosϕdistr = Uniform(-1, 1)\n",
    "\n",
    "const energy = 1e-3:1e-3:15\n",
    "function wattspectrum(energy) # MeV\n",
    "    0.453 * sinh(sqrt(2.29*energy))*exp(-1.036*energy)\n",
    "end\n",
    "const spectrum = wattspectrum.(energy)\n",
    "const wattdistr = Categorical(spectrum ./ sum(spectrum))\n",
    "\n",
    "const numberofneutronsdistr = Categorical([0,0.6,0.36,0.04])\n",
    "const numberofneutronsspontaneousdistr = Categorical([0.2,0.74,0.06]);"
   ]
  },
  {
   "cell_type": "markdown",
   "metadata": {},
   "source": [
    "## Data"
   ]
  },
  {
   "cell_type": "code",
   "execution_count": null,
   "metadata": {},
   "outputs": [],
   "source": [
    "σt = CSV.read(\"sigma_total.txt\")\n",
    "σf = CSV.read(\"sigma_fission.txt\")\n",
    "σa = CSV.read(\"sigma_absorption.txt\")\n",
    "σi = CSV.read(\"sigma_inelastic.txt\")\n",
    "\n",
    "function Σ(energy::Float64) # 1 / cm\n",
    "    i = findfirst(e -> e > energy, σt[:, 1])\n",
    "    σ = σt[i, 2] + (energy - σt[i, 1]) / (σt[i-1, 1] - σt[i, 1]) * (σt[i-1, 2] - σt[i, 2])\n",
    "    nᵤ * σ * 1e-24\n",
    "end\n",
    "\n",
    "function ΔtΔl(energy::Float64)\n",
    "    Δl = -log(rand()) / Σ(energy)\n",
    "    v = sqrt(2 * energy * q / Mₙ) * 100\n",
    "    Δl / v, Δl\n",
    "end;"
   ]
  },
  {
   "cell_type": "markdown",
   "metadata": {},
   "source": [
    "## Types"
   ]
  },
  {
   "cell_type": "code",
   "execution_count": null,
   "metadata": {},
   "outputs": [],
   "source": [
    "struct Bomb\n",
    "    radius :: Float64             # cm\n",
    "    generated :: Vector{Int64}\n",
    "    neutrons :: Vector{Int64}\n",
    "    times :: Vector{Float64}      # s\n",
    "    function Bomb(radius::Real)\n",
    "        new(radius, Float64[], Int64[], Float64[])\n",
    "    end\n",
    "end\n",
    "\n",
    "mutable struct Neutron\n",
    "    r :: Float64                  # cm\n",
    "    cosθ :: Float64\n",
    "    energy :: Float64             # eV\n",
    "    function Neutron(r::Float64, energy::Float64, cosθ::Float64 = rand(cosΘdistr))\n",
    "        new(r, cosθ, energy)\n",
    "    end\n",
    "end\n",
    "\n",
    "function Neutron(sim::Simulation, bomb::Bomb, r::Float64, energy::Float64=energy[rand(wattdistr)] * 1e6)\n",
    "    neutron = Neutron(r, energy)\n",
    "    time = now(sim)\n",
    "    @info(\"$time: create neutron at position $r with cosθ = $(neutron.cosθ) and energy = $(neutron.energy) eV\")\n",
    "    push!(bomb.times, time)\n",
    "    push!(bomb.neutrons, 1)\n",
    "    Δt, Δl = ΔtΔl(neutron.energy)\n",
    "    @callback collision(timeout(sim, Δt), bomb, neutron, Δl)\n",
    "end;"
   ]
  },
  {
   "cell_type": "markdown",
   "metadata": {},
   "source": [
    "## Callback"
   ]
  },
  {
   "cell_type": "code",
   "execution_count": null,
   "metadata": {},
   "outputs": [],
   "source": [
    "function spontaneousfission(ev::AbstractEvent, bomb::Bomb)\n",
    "    sim = environment(ev)\n",
    "    for _ in rand(numberofneutronsspontaneousdistr)\n",
    "        Neutron(sim, bomb, rand() * bomb.radius)\n",
    "    end\n",
    "    rate = ρᵤ * 4/3 * π * bomb.radius^3 * numberofspontaneousfis\n",
    "    @callback spontaneousfission(timeout(sim, -log(rand()) / rate), bomb)\n",
    "end\n",
    "\n",
    "function collision(ev::AbstractEvent, bomb::Bomb, neutron::Neutron, Δl::Float64)\n",
    "    sim = environment(ev)\n",
    "    time = now(ev)\n",
    "    r′ = sqrt(neutron.r^2 + Δl^2 + 2*neutron.r*Δl*neutron.cosθ)\n",
    "    if r′ > bomb.radius\n",
    "        @info(\"$(now(sim)): neutron has left the bomb\")\n",
    "        push!(bomb.times, time)\n",
    "        push!(bomb.neutrons, -1)\n",
    "        push!(bomb.generated, 0)\n",
    "    else\n",
    "        i = findfirst(e -> e > neutron.energy, σt[:, 1])\n",
    "        σtot = σt[i, 2] + (neutron.energy - σt[i, 1]) / (σt[i-1, 1] - σt[i, 1]) * (σt[i-1, 2] - σt[i, 2])\n",
    "        i = findfirst(e -> e > neutron.energy, σf[:, 1])\n",
    "        σfis = σf[i, 2] + (neutron.energy - σf[i, 1]) / (σf[i-1, 1] - σf[i, 1]) * (σf[i-1, 2] - σf[i, 2])\n",
    "        i = findfirst(e -> e > neutron.energy, σa[:, 1])\n",
    "        σabs = σa[i, 2] + (neutron.energy - σa[i, 1]) / (σa[i-1, 1] - σa[i, 1]) * (σa[i-1, 2] - σa[i, 2])\n",
    "        i = findfirst(e -> e > neutron.energy, σi[:, 1])\n",
    "        i = i == 1 ? 2 : i\n",
    "        σin = σi[i, 2] + (neutron.energy - σi[i, 1]) / (σi[i-1, 1] - σi[i, 1]) * (σi[i-1, 2] - σi[i, 2])\n",
    "        rnd = rand()\n",
    "        if rnd < σfis / σtot\n",
    "            n = rand(numberofneutronsdistr)\n",
    "            @info(\"$(now(sim)): fission with creation of $n neutrons\")\n",
    "            for _ in 1:n\n",
    "                Neutron(sim, bomb, r′)\n",
    "            end\n",
    "            push!(bomb.times, time)\n",
    "            push!(bomb.neutrons, -1)\n",
    "            push!(bomb.generated, n)\n",
    "        elseif rnd < (σabs + σfis) / σtot\n",
    "            @info(\"$(now(sim)): neutron absorbed\")\n",
    "            push!(bomb.times, time)\n",
    "            push!(bomb.neutrons, -1)\n",
    "            push!(bomb.generated, 0)\n",
    "        elseif rnd < (σin + σabs + σfis) / σtot\n",
    "            @info(\"$(now(sim)): inelastic scattering\")\n",
    "            n = 1\n",
    "            Neutron(sim, bomb, r′)\n",
    "            push!(bomb.times, time)\n",
    "            push!(bomb.neutrons, -1)\n",
    "        else\n",
    "            cosϕ = rand(cosϕdistr)\n",
    "            cosψ = (A * cosϕ + 1) / sqrt(A^2 + 2 * A * cosϕ +1)\n",
    "            neutron.r = r′\n",
    "            neutron.energy *= 0.5 * (1 + α + (1 - α) * cosϕ)\n",
    "            θ = acos(neutron.cosθ)\n",
    "            ψ = acos(cosψ)\n",
    "            θplusψ = θ + ψ\n",
    "            θminψ = ψ < π / 2 ? θ - ψ : θ - ψ + 2π\n",
    "            neutron.cosθ = cos(θplusψ + rand() * (θminψ - θplusψ))\n",
    "            @info(\"$(now(sim)): elastic scattering at position $r′ with cosθ = $(neutron.cosθ) and energy = $(neutron.energy) eV\")\n",
    "            Δt, Δl = ΔtΔl(neutron.energy)\n",
    "            @callback collision(timeout(sim, Δt), bomb, neutron, Δl)\n",
    "        end\n",
    "    end\n",
    "    ((sum(bomb.generated) > 500 && sum(bomb.neutrons) == 0) || (time > 1 && sum(bomb.neutrons) == 0) || sum(bomb.generated) > 1000) && throw(StopSimulation())\n",
    "end"
   ]
  },
  {
   "cell_type": "markdown",
   "metadata": {},
   "source": [
    "## Simulation"
   ]
  },
  {
   "cell_type": "code",
   "execution_count": null,
   "metadata": {},
   "outputs": [],
   "source": [
    "sim = Simulation()\n",
    "bomb = Bomb(8.0)\n",
    "@callback spontaneousfission(timeout(sim, 0.0), bomb)\n",
    "run(sim)"
   ]
  },
  {
   "cell_type": "code",
   "execution_count": null,
   "metadata": {},
   "outputs": [],
   "source": [
    "mean(bomb.generated)"
   ]
  },
  {
   "cell_type": "markdown",
   "metadata": {},
   "source": [
    "## Plot"
   ]
  },
  {
   "cell_type": "code",
   "execution_count": null,
   "metadata": {},
   "outputs": [],
   "source": [
    "i = findlast(x->x==0, cumsum(bomb.neutrons))\n",
    "i = i === nothing ? 1 : i\n",
    "plot(bomb.times[i+1:end], cumsum(bomb.neutrons)[i+1:end], seriestype=:scatter, ylabel=\"N\", xlabel=\"time [s]\")\n",
    "#plot(bomb.times, cumsum(bomb.neutrons), seriestype=:scatter, ylabel=\"N\", xlabel=\"time [s]\")"
   ]
  },
  {
   "cell_type": "markdown",
   "metadata": {},
   "source": [
    "## Monte Carlo"
   ]
  },
  {
   "cell_type": "code",
   "execution_count": null,
   "metadata": {},
   "outputs": [],
   "source": [
    "const RUNS = 100\n",
    "const RADII = 5:12;\n",
    "Logging.disable_logging(LogLevel(1000));"
   ]
  },
  {
   "cell_type": "code",
   "execution_count": null,
   "metadata": {},
   "outputs": [],
   "source": [
    "ks = zeros(Float64, RUNS, length(RADII))\n",
    "for (i, r) in enumerate(RADII)\n",
    "    for j in 1:RUNS\n",
    "        sim = Simulation()\n",
    "        bomb = Bomb(r)\n",
    "        @callback spontaneousfission(timeout(sim, 0.0), bomb)\n",
    "        run(sim)\n",
    "        ks[j, i] = mean(bomb.generated)\n",
    "    end\n",
    "end"
   ]
  },
  {
   "cell_type": "code",
   "execution_count": null,
   "metadata": {},
   "outputs": [],
   "source": [
    "boxplot(reshape(collect(RADII), 1, length(RADII)), ks, label=reshape(collect(RADII), 1, length(RADII)), legend=:bottomright, xlabel=\"R [cm]\", ylabel=\"k\")"
   ]
  },
  {
   "cell_type": "code",
   "execution_count": null,
   "metadata": {},
   "outputs": [],
   "source": [
    "mean(ks, dims=1)"
   ]
  },
  {
   "cell_type": "code",
   "execution_count": null,
   "metadata": {},
   "outputs": [],
   "source": [
    "plot(RADII, [mean(ks, dims=1) ...], seriestype=:scatter, xlabel=\"R [cm]\", ylabel=\"k\")"
   ]
  }
 ],
 "metadata": {
  "kernelspec": {
   "display_name": "Julia 1.5.1",
   "language": "julia",
   "name": "julia-1.5"
  },
  "language_info": {
   "file_extension": ".jl",
   "mimetype": "application/julia",
   "name": "julia",
   "version": "1.5.1"
  }
 },
 "nbformat": 4,
 "nbformat_minor": 4
}
