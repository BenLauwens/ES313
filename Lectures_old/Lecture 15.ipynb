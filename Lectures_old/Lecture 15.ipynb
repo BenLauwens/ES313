{
 "cells": [
  {
   "cell_type": "markdown",
   "metadata": {},
   "source": [
    "# Simulation of a Computer Network"
   ]
  },
  {
   "cell_type": "markdown",
   "metadata": {},
   "source": [
    "## Router as a Queuing System\n",
    "\n",
    "Delay/Jitter:\n",
    "- Transmission\n",
    "- Service\n",
    "- Processing\n",
    "- Waiting\n",
    "\n",
    "Quality of Service:\n",
    "- Realtime\n",
    "- Lossless\n",
    "\n",
    "Representation:\n",
    "- $A\\left(t\\right)$\n",
    "- $D\\left(t\\right)$\n",
    "- $W\\left(t\\right)$\n",
    "- $W_Q\\left(t\\right)$\n",
    "- $T_n$\n",
    "- $S_n$\n",
    "- $L_n$\n",
    "- $L_{Qn}$"
   ]
  },
  {
   "cell_type": "markdown",
   "metadata": {},
   "source": [
    "## Little's Law\n",
    "\n",
    "\\begin{equation}\n",
    "\\mathbb E\\left[L\\right]=\\lambda\\mathbb E\\left[W\\right]\n",
    "\\end{equation}\n",
    "\\begin{equation}\n",
    "\\mathbb E\\left[L_Q\\right]=\\lambda\\mathbb E\\left[W_Q\\right]\n",
    "\\end{equation}"
   ]
  },
  {
   "cell_type": "markdown",
   "metadata": {},
   "source": [
    "## Steady State Probabilities\n",
    "\n",
    "\\begin{equation}\n",
    "P_n=\\lim_{t\\rightarrow\\infty}\\mathbb P\\left\\{L(t)=n\\right\\}\n",
    "\\end{equation}\n",
    "\n",
    "Stability\n",
    "\\begin{equation}\n",
    "a_n=d_n\n",
    "\\end{equation}\n",
    "\n",
    "Poisson arrivals always see time averages (PASTA):\n",
    "\\begin{equation}\n",
    "P_n=a_n\n",
    "\\end{equation}"
   ]
  },
  {
   "cell_type": "markdown",
   "metadata": {},
   "source": [
    "## MM1\n",
    "\n",
    "Exponential Arrivals / Exponential Services ($\\lambda$ / $\\mu$)\n",
    "\n",
    "Markov Chain\n",
    "\n",
    "A technical remark: if one event occurs at an exponential rate $\\lambda$, and another independent event at an exponential rate $\\mu$, then together they occur at an exponential rate $\\lambda+\\mu$.\n",
    "\n",
    "Steady State\n",
    "\n",
    "\\begin{equation}\n",
    "\\begin{cases}\n",
    "P_0=1-\\frac{\\lambda}{\\mu}\\\\\n",
    "P_n=\\left(1-\\frac{\\lambda}{\\mu}\\right)\\left(\\frac{\\lambda}{\\mu}\\right)^n,\\quad n>0\n",
    "\\end{cases}\n",
    "\\end{equation}\n",
    "\n",
    "\\begin{equation}\n",
    "\\mathbb E\\left[L\\right]=\\frac{\\lambda}{\\mu-\\lambda}\n",
    "\\end{equation}\n",
    "\n",
    "\\begin{equation}\n",
    "\\mathbb E\\left[W\\right]=\\frac{1}{\\lambda}\\mathbb E\\left[L\\right]=\\frac{1}{\\mu-\\lambda}\n",
    "\\end{equation}\n",
    "\n",
    "\\begin{equation}\n",
    "\\mathbb E\\left[W_Q\\right]=\\mathbb E\\left[W\\right]-\\mathbb E\\left[S\\right]=\\frac{\\lambda}{\\mu\\left(\\mu-\\lambda\\right)}\n",
    "\\end{equation}\n",
    "\n",
    "\\begin{equation}\n",
    "\\mathbb E\\left[L_Q\\right]=\\lambda\\mathbb E\\left[W_Q\\right]=\\frac{\\lambda^2}{\\mu\\left(\\mu-\\lambda\\right)}\n",
    "\\end{equation}\n",
    "\n",
    "Finite Capacity?\n",
    "\n",
    "Exponential Arrivals?\n",
    "\n",
    "Exponential Services?\n",
    "\n",
    "Network of Queues?"
   ]
  },
  {
   "cell_type": "markdown",
   "metadata": {},
   "source": [
    "## GG1\n",
    "\n",
    "Virtual Waiting Time: $V\\left(t\\right)$\n",
    "\\begin{equation}\n",
    "\\mathbb E\\left[V\\right]=\\lambda\\mathbb E\\left[S\\right]E\\left[W_Q\\right]+\\frac{\\lambda}{2}\\mathbb E\\left[S^2\\right]\n",
    "\\end{equation}\n",
    "\n",
    "## MG1\n",
    "\n",
    "Pollaczek–Khintchine formula\n",
    "\\begin{equation}\n",
    "\\mathbb E\\left[W_Q\\right] = \\frac{\\lambda\\mathbb E\\left[S^2\\right]}{2\\left(1-\\lambda\\mathbb E\\left[S\\right]\\right)}\n",
    "\\end{equation}"
   ]
  },
  {
   "cell_type": "markdown",
   "metadata": {},
   "source": [
    "## Statistical Processing"
   ]
  },
  {
   "cell_type": "markdown",
   "metadata": {},
   "source": [
    "Sample Mean and Sample Variance\n",
    "\n",
    "\\begin{equation}\n",
    "\\bar X = \\sum_{i=1}^n X_i\n",
    "\\end{equation}\n",
    "\n",
    "\\begin{equation}\n",
    "\\mathbb E\\left[\\bar X\\right]= \\mu\n",
    "\\end{equation}\n",
    "\n",
    "To determine the “worth” of $\\bar X$ as an estimator of the population mean $\\mu$, we consider its mean square error:\n",
    "\\begin{equation}\n",
    "\\mathbb E\\left[\\left(\\bar X - \\mu\\right)^2\\right]= \\frac{\\sigma^2}{n}\n",
    "\\end{equation}\n",
    "\n",
    "\\begin{equation}\n",
    "S^2=\\frac{\\sum_{i=1}^n\\left(X-\\bar x\\right)^2}{n-1}\n",
    "\\end{equation}\n",
    "\n",
    "\\begin{equation}\n",
    "\\mathbb E\\left[S^2\\right]=\\sigma^2\n",
    "\\end{equation}\n",
    "\n",
    "$n$ sufficient large: central limit theorema\n",
    "\\begin{equation}\n",
    "\\mathbb P\\left\\{\\left|X − \\mu\\right|>c\\frac{\\sigma}{\\sqrt n}\\right\\} \\approx \\mathbb P\\left\\{\\left|Z\\right|>c\\right\\}\n",
    "\\end{equation}\n",
    "where $Z$ is a standard normal\n",
    "\n",
    "Runtime\n",
    "\n",
    "Number of Runs\n",
    "\n",
    "The Regenerative Approach\n",
    "\n",
    "Stationnarity vs Ergodicity"
   ]
  }
 ],
 "metadata": {
  "kernelspec": {
   "display_name": "Julia 1.2.0",
   "language": "julia",
   "name": "julia-1.2"
  },
  "language_info": {
   "file_extension": ".jl",
   "mimetype": "application/julia",
   "name": "julia",
   "version": "1.2.0"
  }
 },
 "nbformat": 4,
 "nbformat_minor": 4
}
