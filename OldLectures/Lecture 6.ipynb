{
 "cells": [
  {
   "cell_type": "markdown",
   "metadata": {},
   "source": [
    "# Discrete Events"
   ]
  },
  {
   "cell_type": "markdown",
   "metadata": {},
   "source": [
    "# ResumableFunctions"
   ]
  },
  {
   "cell_type": "code",
   "execution_count": null,
   "metadata": {},
   "outputs": [],
   "source": [
    "using Pkg\n",
    "pkg\"add ResumableFunctions\"\n",
    "using ResumableFunctions"
   ]
  },
  {
   "cell_type": "code",
   "execution_count": null,
   "metadata": {},
   "outputs": [],
   "source": [
    "@resumable function fibonnaci(n::Int64)\n",
    "    a = zero(Int64)\n",
    "    b = one(Int64)\n",
    "    for i in 1:n\n",
    "        @yield a\n",
    "        a, b = b, a+b\n",
    "    end\n",
    "end"
   ]
  },
  {
   "cell_type": "code",
   "execution_count": null,
   "metadata": {},
   "outputs": [],
   "source": [
    "for v in fibonnaci(16)\n",
    "    println(v)\n",
    "end"
   ]
  },
  {
   "cell_type": "markdown",
   "metadata": {},
   "source": [
    "# Process-driven Discrete Event Simulation"
   ]
  },
  {
   "cell_type": "code",
   "execution_count": null,
   "metadata": {},
   "outputs": [],
   "source": [
    "pkg\"add SimJulia\"\n",
    "using SimJulia"
   ]
  },
  {
   "cell_type": "markdown",
   "metadata": {},
   "source": [
    "## Basic Process"
   ]
  },
  {
   "cell_type": "code",
   "execution_count": null,
   "metadata": {},
   "outputs": [],
   "source": [
    "@resumable function car(sim::Simulation)\n",
    "    while true\n",
    "        println(now(sim), \": I'm driving\")\n",
    "        @yield timeout(sim, 3)\n",
    "        println(now(sim), \": I'm parked\")\n",
    "        @yield timeout(sim, 2)\n",
    "    end\n",
    "end"
   ]
  },
  {
   "cell_type": "code",
   "execution_count": null,
   "metadata": {},
   "outputs": [],
   "source": [
    "sim = Simulation()\n",
    "@process car(sim)\n",
    "run(sim, 10)"
   ]
  },
  {
   "cell_type": "markdown",
   "metadata": {},
   "source": [
    "## Waiting for a Process"
   ]
  },
  {
   "cell_type": "code",
   "execution_count": null,
   "metadata": {},
   "outputs": [],
   "source": [
    "using Dates"
   ]
  },
  {
   "cell_type": "code",
   "execution_count": null,
   "metadata": {},
   "outputs": [],
   "source": [
    "@resumable function chargingpoint(sim::Simulation, duration::Period)\n",
    "    println(nowDatetime(sim), \": Charging station activated\")\n",
    "    @yield timeout(sim, duration)\n",
    "    println(nowDatetime(sim), \": Charging station deactivated\")\n",
    "end"
   ]
  },
  {
   "cell_type": "code",
   "execution_count": null,
   "metadata": {},
   "outputs": [],
   "source": [
    "@resumable function car(sim::Simulation)\n",
    "    while true\n",
    "        println(nowDatetime(sim), \": I'm driving\")\n",
    "        @yield timeout(sim, Hour(3))\n",
    "        println(nowDatetime(sim), \": I'm parked\")\n",
    "        charging = @process chargingpoint(sim, Hour(2))\n",
    "        @yield charging\n",
    "    end\n",
    "end       "
   ]
  },
  {
   "cell_type": "code",
   "execution_count": null,
   "metadata": {},
   "outputs": [],
   "source": [
    "sim = Simulation(DateTime(2018, 10, 23, 8, 45, 0))\n",
    "@process  car(sim)\n",
    "run(sim, DateTime(2018, 10, 23, 24, 0, 0))"
   ]
  },
  {
   "cell_type": "markdown",
   "metadata": {},
   "source": [
    "## Interrupting a Process"
   ]
  },
  {
   "cell_type": "code",
   "execution_count": null,
   "metadata": {},
   "outputs": [],
   "source": [
    "@resumable function driver(sim::Simulation, charging::Process)\n",
    "    busy_period = Minute(Int(floor(180*rand())))\n",
    "    @yield timeout(sim, busy_period)\n",
    "    if busy_period < Hour(2)\n",
    "        println(nowDatetime(sim), \": I'm running out of time\")\n",
    "        @yield interrupt(charging)\n",
    "    end\n",
    "end"
   ]
  },
  {
   "cell_type": "code",
   "execution_count": null,
   "metadata": {},
   "outputs": [],
   "source": [
    "@resumable function chargingpoint(sim::Simulation, duration::Period)\n",
    "    println(nowDatetime(sim), \": Charging station activated\")\n",
    "    try\n",
    "        @yield timeout(sim, duration)\n",
    "    catch exc\n",
    "        println(nowDatetime(sim), \": Charging interrupted\")\n",
    "    end\n",
    "    println(nowDatetime(sim), \": Charging station deactivated\")\n",
    "end"
   ]
  },
  {
   "cell_type": "code",
   "execution_count": null,
   "metadata": {},
   "outputs": [],
   "source": [
    "@resumable function car(sim::Simulation)\n",
    "    while true\n",
    "        println(nowDatetime(sim), \": I'm driving\")\n",
    "        @yield timeout(sim, Hour(3))\n",
    "        println(nowDatetime(sim), \": I'm parked\")\n",
    "        charging = @process chargingpoint(sim, Hour(2))\n",
    "        @yield @process driver(sim, charging)\n",
    "    end\n",
    "end"
   ]
  },
  {
   "cell_type": "code",
   "execution_count": null,
   "metadata": {},
   "outputs": [],
   "source": [
    "sim = Simulation(DateTime(2018, 10, 23, 8, 45, 0))\n",
    "@process  car(sim)\n",
    "run(sim, DateTime(2018, 10, 23, 24, 0, 0))"
   ]
  },
  {
   "cell_type": "markdown",
   "metadata": {},
   "source": [
    "# Resources"
   ]
  },
  {
   "cell_type": "markdown",
   "metadata": {},
   "source": [
    "## Basic Queue"
   ]
  },
  {
   "cell_type": "code",
   "execution_count": null,
   "metadata": {},
   "outputs": [],
   "source": [
    "@resumable function cargenerator(sim::Simulation, number::Int64, station::Resource)\n",
    "    for i in 1:number\n",
    "        @process car(sim, i, station)\n",
    "    end\n",
    "end"
   ]
  },
  {
   "cell_type": "code",
   "execution_count": null,
   "metadata": {},
   "outputs": [],
   "source": [
    "@resumable function car(sim::Simulation, number::Int, station::Resource)\n",
    "    while true\n",
    "        println(nowDatetime(sim), \": ($number) I'm driving\")\n",
    "        @yield timeout(sim, Minute(Int(floor(180*rand()))))\n",
    "        starttime = nowDatetime(sim)\n",
    "        println(starttime, \": ($number) I'm parked\")\n",
    "        @yield request(station)\n",
    "        stoptime = nowDatetime(sim)\n",
    "        println(stoptime, \": ($number) I can charge after $(floor(stoptime - starttime, Minute)) minutes\")\n",
    "        @yield timeout(sim, Minute(Int(floor(120*rand()))))\n",
    "        println(nowDatetime(sim), \": ($number) I'm charged'\")\n",
    "        @yield release(station)\n",
    "    end\n",
    "end        "
   ]
  },
  {
   "cell_type": "code",
   "execution_count": null,
   "metadata": {},
   "outputs": [],
   "source": [
    "sim = Simulation(DateTime(2018, 10, 23, 8, 45, 0))\n",
    "charging_station = Resource(sim, 2)\n",
    "@process  cargenerator(sim, 8, charging_station)\n",
    "run(sim, DateTime(2018, 10, 23, 24, 0, 0))"
   ]
  },
  {
   "cell_type": "markdown",
   "metadata": {},
   "source": [
    "## Canceling a request"
   ]
  },
  {
   "cell_type": "code",
   "execution_count": null,
   "metadata": {},
   "outputs": [],
   "source": [
    "@resumable function car(sim::Simulation, number::Int, station::Resource)\n",
    "    while true\n",
    "        println(nowDatetime(sim), \": ($number) I'm driving\")\n",
    "        @yield timeout(sim, Minute(Int(floor(180*rand()))))\n",
    "        starttime = nowDatetime(sim)\n",
    "        println(starttime, \": ($number) I'm parked\")\n",
    "        req = request(station)\n",
    "        @yield req | timeout(sim, Minute(Int(floor(60*rand()))))\n",
    "        if state(req) ≠ SimJulia.idle\n",
    "            stoptime = nowDatetime(sim)\n",
    "            println(stoptime, \": ($number) I can charge after $(floor(stoptime - starttime, Minute)) minutes\")\n",
    "            @yield timeout(sim, Minute(Int(floor(120*rand()))))\n",
    "            println(nowDatetime(sim), \": ($number) I'm charged'\")\n",
    "            @yield release(station)\n",
    "        else\n",
    "            println(nowDatetime(sim), \": ($number) I'm not charged'\")\n",
    "            cancel(station, req)\n",
    "        end\n",
    "    end\n",
    "end     "
   ]
  },
  {
   "cell_type": "code",
   "execution_count": null,
   "metadata": {},
   "outputs": [],
   "source": [
    "sim = Simulation(DateTime(2018, 10, 23, 8, 45, 0))\n",
    "charging_station = Resource(sim, 2)\n",
    "@process  cargenerator(sim, 8, charging_station)\n",
    "run(sim, DateTime(2018, 10, 23, 24, 0, 0))"
   ]
  },
  {
   "cell_type": "markdown",
   "metadata": {},
   "source": [
    "## Container"
   ]
  },
  {
   "cell_type": "code",
   "execution_count": null,
   "metadata": {},
   "outputs": [],
   "source": [
    "container = Container(sim, 100.0; level=10.0)\n",
    "put(container, 20.0)\n",
    "get(container, 30.0)"
   ]
  },
  {
   "cell_type": "markdown",
   "metadata": {},
   "source": [
    "## Store"
   ]
  },
  {
   "cell_type": "code",
   "execution_count": null,
   "metadata": {},
   "outputs": [],
   "source": [
    "store = Store{String}(sim; capacity=UInt64(10))\n",
    "put(store, \"Ben Lauwens\")\n",
    "get(store, v->v==\"Ben Lauwens\")"
   ]
  },
  {
   "cell_type": "markdown",
   "metadata": {},
   "source": [
    "# Router"
   ]
  },
  {
   "cell_type": "code",
   "execution_count": null,
   "metadata": {},
   "outputs": [],
   "source": [
    "using Pkg\n",
    "pkg\"add Distributions\"\n",
    "pkg\"add HypothesisTests\""
   ]
  },
  {
   "cell_type": "code",
   "execution_count": null,
   "metadata": {},
   "outputs": [],
   "source": [
    "using Distributions\n",
    "using HypothesisTests\n",
    "using Plots"
   ]
  },
  {
   "cell_type": "code",
   "execution_count": null,
   "metadata": {},
   "outputs": [],
   "source": [
    "const λ = 0.5\n",
    "const μ = 1.0"
   ]
  },
  {
   "cell_type": "code",
   "execution_count": null,
   "metadata": {},
   "outputs": [],
   "source": [
    "struct SimulationResults\n",
    "    arrival_times :: Vector{Float64}\n",
    "    departure_times :: Vector{Float64}\n",
    "    service_times :: Vector{Float64}\n",
    "    SimulationResults() = new(Float64[], Float64[], Float64[])\n",
    "end"
   ]
  },
  {
   "cell_type": "code",
   "execution_count": null,
   "metadata": {},
   "outputs": [],
   "source": [
    "@resumable function packet_process(sim::Simulation, router::Resource, service::Distribution, results::SimulationResults)\n",
    "    #println(now(sim), \": I arrived!\")\n",
    "    t = now(sim)\n",
    "    push!(results.arrival_times, now(sim))\n",
    "    @yield request(router)\n",
    "    #println(now(sim), \": Processing starts!\")\n",
    "    push!(results.service_times, rand(service))\n",
    "    @yield timeout(sim, results.service_times[end])\n",
    "    #println(now(sim), \": I am served!\")\n",
    "    @yield release(router)\n",
    "    push!(results.departure_times, now(sim))\n",
    "    #println(\"I was \", now(sim)-t, \" in the router!\")\n",
    "end"
   ]
  },
  {
   "cell_type": "code",
   "execution_count": null,
   "metadata": {},
   "outputs": [],
   "source": [
    "@resumable function source_process(sim::Simulation, results::SimulationResults)\n",
    "    router = Resource(sim)\n",
    "    arrival_dist = Exponential(1/λ)\n",
    "    service_dist = Exponential(1/μ)\n",
    "    while true\n",
    "        @process packet_process(sim, router, service_dist, results)\n",
    "        @yield timeout(sim, rand(arrival_dist))\n",
    "    end\n",
    "end"
   ]
  },
  {
   "cell_type": "code",
   "execution_count": null,
   "metadata": {},
   "outputs": [],
   "source": [
    "sim = Simulation()\n",
    "results = SimulationResults()\n",
    "@process source_process(sim, results)\n",
    "run(sim, 1000)"
   ]
  },
  {
   "cell_type": "code",
   "execution_count": null,
   "metadata": {},
   "outputs": [],
   "source": [
    "n = length(results.departure_times)\n",
    "plot(results.arrival_times[1:n], 1:n, line=:steppre)\n",
    "plot!(results.departure_times[1:n], 1:n, line=:steppre)"
   ]
  },
  {
   "cell_type": "code",
   "execution_count": null,
   "metadata": {},
   "outputs": [],
   "source": [
    "wait_dist = Exponential(1/(μ-λ))\n",
    "plot(sort(results.departure_times -  results.arrival_times[1:n]),0:1/(n-1):1)\n",
    "plot!(0:0.1:10, cdf.(wait_dist, 0:0.1:10))"
   ]
  },
  {
   "cell_type": "code",
   "execution_count": null,
   "metadata": {},
   "outputs": [],
   "source": [
    "W = mean(results.departure_times -  results.arrival_times[1:n])\n",
    "println(W, \" \", mean(wait_dist))"
   ]
  },
  {
   "cell_type": "code",
   "execution_count": null,
   "metadata": {},
   "outputs": [],
   "source": [
    "waiting_times = results.departure_times -  results.arrival_times[1:n]\n",
    "mean_waiting_times = cumsum(waiting_times)./(1:n)\n",
    "plot(mean_waiting_times)"
   ]
  },
  {
   "cell_type": "code",
   "execution_count": null,
   "metadata": {},
   "outputs": [],
   "source": [
    "ExactOneSampleKSTest(results.departure_times -  results.arrival_times[1:n], wait_dist)"
   ]
  },
  {
   "cell_type": "code",
   "execution_count": null,
   "metadata": {},
   "outputs": [],
   "source": []
  },
  {
   "cell_type": "code",
   "execution_count": null,
   "metadata": {},
   "outputs": [],
   "source": []
  }
 ],
 "metadata": {
  "kernelspec": {
   "display_name": "Julia 1.0.1",
   "language": "julia",
   "name": "julia-1.0"
  },
  "language_info": {
   "file_extension": ".jl",
   "mimetype": "application/julia",
   "name": "julia",
   "version": "1.0.1"
  }
 },
 "nbformat": 4,
 "nbformat_minor": 2
}
