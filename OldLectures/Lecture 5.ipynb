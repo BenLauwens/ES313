{
 "cells": [
  {
   "cell_type": "code",
   "execution_count": null,
   "metadata": {},
   "outputs": [],
   "source": [
    "using Pkg\n",
    "pkg\"add Luxor\""
   ]
  },
  {
   "cell_type": "code",
   "execution_count": null,
   "metadata": {},
   "outputs": [],
   "source": [
    "using Luxor"
   ]
  },
  {
   "cell_type": "markdown",
   "metadata": {},
   "source": [
    "# Trivial Example"
   ]
  },
  {
   "cell_type": "code",
   "execution_count": null,
   "metadata": {},
   "outputs": [],
   "source": [
    "function rule0dim(x::Bool)\n",
    "    !x\n",
    "end"
   ]
  },
  {
   "cell_type": "code",
   "execution_count": null,
   "metadata": {},
   "outputs": [],
   "source": [
    "function step0dim(x₀::Bool, steps::Int64)\n",
    "    xs = [x₀]\n",
    "    for i in 1:steps\n",
    "        push!(xs, rule0dim(xs[end]))\n",
    "    end\n",
    "    xs\n",
    "end"
   ]
  },
  {
   "cell_type": "code",
   "execution_count": null,
   "metadata": {},
   "outputs": [],
   "source": [
    "res = step0dim(false, 10)\n",
    "Drawing(50, 120, \"out.svg\")\n",
    "for (i, val) in enumerate(res)\n",
    "    if val\n",
    "        sethue(\"grey\")\n",
    "    else\n",
    "        sethue(\"lightgrey\")\n",
    "    end\n",
    "    box(5, 5+i*10, 10, 10, :fill)\n",
    "end\n",
    "finish()\n",
    "preview()"
   ]
  },
  {
   "cell_type": "markdown",
   "metadata": {},
   "source": [
    "# Wolfram's Experiment"
   ]
  },
  {
   "cell_type": "code",
   "execution_count": null,
   "metadata": {},
   "outputs": [],
   "source": [
    "function inttorule1dim(val::Int64)\n",
    "    digs = BitArray(digits(val, base=2))\n",
    "    #pushfirst!(digs, false)\n",
    "    for i in length(digs):7\n",
    "        push!(digs, false)\n",
    "    end\n",
    "    if digs[1] == true || digs[2] ≠ digs[5] || digs[7] ≠ digs[4]\n",
    "        #error(\"$val: is not a legal rule\")\n",
    "    end\n",
    "    digs\n",
    "end"
   ]
  },
  {
   "cell_type": "code",
   "execution_count": null,
   "metadata": {},
   "outputs": [],
   "source": [
    "println(digits(50, base=2))\n",
    "inttorule1dim(50)"
   ]
  },
  {
   "cell_type": "code",
   "execution_count": null,
   "metadata": {},
   "outputs": [],
   "source": [
    "function applyrule1dim(rule::BitArray{1}, bits::BitArray{1})\n",
    "    val = 1 + bits[3] + 2*bits[2] + 4*bits[1]\n",
    "    rule[val]\n",
    "end"
   ]
  },
  {
   "cell_type": "code",
   "execution_count": null,
   "metadata": {},
   "outputs": [],
   "source": [
    "function step1dim(x₀::BitArray{1}, rule::BitArray{1}, steps::Int64)\n",
    "    xs = [x₀]\n",
    "    len = length(x₀)\n",
    "    for i in 1:steps\n",
    "        x = copy(x₀)\n",
    "        for j in 2:len-1\n",
    "            x[j] = applyrule1dim(rule, xs[end][j-1:j+1])\n",
    "        end\n",
    "        push!(xs, x)\n",
    "    end\n",
    "    xs\n",
    "end"
   ]
  },
  {
   "cell_type": "code",
   "execution_count": null,
   "metadata": {},
   "outputs": [],
   "source": [
    "x₀ = falses(21)\n",
    "x₀[11] = true\n",
    "res = step1dim(x₀, inttorule1dim(50), 9);"
   ]
  },
  {
   "cell_type": "code",
   "execution_count": null,
   "metadata": {},
   "outputs": [],
   "source": [
    "function visualize1dim(res, dim)\n",
    "    width = dim * (length(res[1]) + 1)\n",
    "    height = dim * (length(res) + 1)\n",
    "    Drawing(width, height, \"out.svg\")\n",
    "    for (i, arr) in enumerate(res)\n",
    "        for (j, val) in enumerate(arr)\n",
    "            if val\n",
    "                sethue(\"grey\")\n",
    "            else\n",
    "                sethue(\"lightgrey\")\n",
    "            end\n",
    "            box(j*dim, i*dim, dim, dim, :fill)\n",
    "        end\n",
    "     end\n",
    "     finish()\n",
    "     preview()\n",
    "end "
   ]
  },
  {
   "cell_type": "code",
   "execution_count": null,
   "metadata": {},
   "outputs": [],
   "source": [
    "visualize1dim(res, 8)"
   ]
  },
  {
   "cell_type": "code",
   "execution_count": null,
   "metadata": {},
   "outputs": [],
   "source": [
    "x₀ = falses(129)\n",
    "x₀[65] = true\n",
    "res = step1dim(x₀, inttorule1dim(18), 63);\n",
    "visualize1dim(res, 4)"
   ]
  },
  {
   "cell_type": "code",
   "execution_count": null,
   "metadata": {},
   "outputs": [],
   "source": [
    "x₀ = falses(201)\n",
    "x₀[101] = true\n",
    "res = step1dim(x₀, inttorule1dim(30), 99);\n",
    "visualize1dim(res, 2)"
   ]
  },
  {
   "cell_type": "code",
   "execution_count": null,
   "metadata": {},
   "outputs": [],
   "source": [
    "x₀ = falses(201)\n",
    "x₀[101] = true\n",
    "res = step1dim(x₀, inttorule1dim(161), 99);\n",
    "visualize1dim(res, 2)"
   ]
  },
  {
   "cell_type": "code",
   "execution_count": null,
   "metadata": {},
   "outputs": [],
   "source": [
    "x₀ = BitArray{1}(undef, 600)\n",
    "res = step1dim(x₀, inttorule1dim(110), 599);\n",
    "visualize1dim(res, 0.75)"
   ]
  },
  {
   "cell_type": "markdown",
   "metadata": {},
   "source": [
    "# Turing State-Machine"
   ]
  },
  {
   "cell_type": "markdown",
   "metadata": {},
   "source": [
    "| Tape Symbol | State A   | State B   | State C   |\n",
    "|:-----------:|-----------|-----------|-----------|\n",
    "| 0           | 1 - R - B | 1 - L - A | 1 - L - B |\n",
    "| 1           | 1 - L - C | 1 - R - B | 1 - R - H |"
   ]
  },
  {
   "cell_type": "code",
   "execution_count": null,
   "metadata": {},
   "outputs": [],
   "source": [
    "function applyrulebusybeaver(state, read)\n",
    "    if state == 'A' && read == 0\n",
    "        return 1, 'R', 'B'\n",
    "    elseif state == 'A' && read == 1\n",
    "        return 1, 'L', 'C'\n",
    "    elseif state == 'B' && read == 0\n",
    "        return 1, 'L', 'A'\n",
    "    elseif state == 'B' && read == 1\n",
    "        return 1, 'R', 'B'\n",
    "    elseif state == 'C' && read == 0\n",
    "        return 1, 'L', 'B'\n",
    "    elseif state == 'C' && read == 1\n",
    "        return 1, 'R', 'H'\n",
    "    end\n",
    "end"
   ]
  },
  {
   "cell_type": "code",
   "execution_count": null,
   "metadata": {},
   "outputs": [],
   "source": [
    "mutable struct Turing\n",
    "    tape :: Array{Int64}\n",
    "    position :: Int64\n",
    "    state :: Char\n",
    "end"
   ]
  },
  {
   "cell_type": "code",
   "execution_count": null,
   "metadata": {},
   "outputs": [],
   "source": [
    "function Base.show(io::IO, turing::Turing)\n",
    "    print(io, turing.position, \" - \", turing.state, \": \", turing.tape)\n",
    "end"
   ]
  },
  {
   "cell_type": "code",
   "execution_count": null,
   "metadata": {},
   "outputs": [],
   "source": [
    "function stepturing(turing, applyrule)\n",
    "    if turing.state == 'H'\n",
    "        error(\"Machine has stopped!\")\n",
    "    end\n",
    "    read = turing.tape[turing.position]\n",
    "    (write, dir, turing.state) = applyrule(turing.state, read)\n",
    "    turing.tape[turing.position] = write\n",
    "    if dir == 'L'\n",
    "        if turing.position == length(turing.tape)\n",
    "            push!(turing.tape, false)\n",
    "        end\n",
    "        turing.position += 1\n",
    "    else\n",
    "        if turing.position == 1\n",
    "            pushfirst!(turing.tape, false)\n",
    "        else\n",
    "            turing.position -= 1\n",
    "        end\n",
    "    end\n",
    "    nothing\n",
    "end"
   ]
  },
  {
   "cell_type": "code",
   "execution_count": null,
   "metadata": {},
   "outputs": [],
   "source": [
    "turing = Turing(zeros(Int64, 11), 6, 'A')\n",
    "println(turing)\n",
    "while true\n",
    "    stepturing(turing, applyrulebusybeaver)\n",
    "    println(turing)\n",
    "end"
   ]
  },
  {
   "cell_type": "markdown",
   "metadata": {},
   "source": [
    "# Game of Life"
   ]
  },
  {
   "cell_type": "code",
   "execution_count": null,
   "metadata": {},
   "outputs": [],
   "source": [
    "function applyrulegameoflife(bits::BitArray{2})\n",
    "    (nr_y, nr_x) = size(bits)\n",
    "    out = falses(nr_y, nr_x)\n",
    "    for y in 2:nr_y-1\n",
    "        for x in 2:nr_x-1\n",
    "            if bits[y, x]\n",
    "                if 2 ≤ count(v->v, bits[y-1:y+1,x-1:x+1]) - 1 ≤ 3\n",
    "                    out[y, x] = true\n",
    "                end\n",
    "            else\n",
    "                if count(v->v, bits[y-1:y+1,x-1:x+1]) == 3\n",
    "                    out[y, x] = true\n",
    "                end\n",
    "            end\n",
    "        end\n",
    "    end\n",
    "    out\n",
    "end"
   ]
  },
  {
   "cell_type": "code",
   "execution_count": null,
   "metadata": {},
   "outputs": [],
   "source": [
    "function visualize2dim(bits::BitArray{2}, dim)\n",
    "    (nr_y, nr_x) = size(bits)\n",
    "    width = dim * (nr_x - 1)\n",
    "    height = dim * (nr_y - 1)\n",
    "    Drawing(width, height, \"out.svg\")\n",
    "    for (j, y) in enumerate(2:nr_y-1)\n",
    "        for (i, x) in enumerate(2:nr_x-1)\n",
    "            if bits[y, x]\n",
    "                sethue(\"grey\")\n",
    "            else\n",
    "                sethue(\"lightgrey\")\n",
    "            end\n",
    "            box(i*dim, j*dim, dim, dim, :fill)\n",
    "        end\n",
    "     end\n",
    "     finish()\n",
    "     preview()\n",
    "end"
   ]
  },
  {
   "cell_type": "code",
   "execution_count": null,
   "metadata": {},
   "outputs": [],
   "source": [
    "beehive = falses(5, 6)\n",
    "beehive[2,3:4] = [true, true]\n",
    "beehive[3,2] = true\n",
    "beehive[3,5] = true\n",
    "beehive[4,3:4] = [true, true]\n",
    "visualize2dim(beehive, 32)"
   ]
  },
  {
   "cell_type": "code",
   "execution_count": null,
   "metadata": {},
   "outputs": [],
   "source": [
    "beehive = applyrulegameoflife(beehive)\n",
    "visualize2dim(beehive, 32)"
   ]
  },
  {
   "cell_type": "code",
   "execution_count": null,
   "metadata": {},
   "outputs": [],
   "source": [
    "toad = falses(6, 6)\n",
    "toad[3,3:5] = [true, true, true]\n",
    "toad[4,2:4] = [true, true, true]\n",
    "visualize2dim(toad, 32)"
   ]
  },
  {
   "cell_type": "code",
   "execution_count": null,
   "metadata": {},
   "outputs": [],
   "source": [
    "toad = applyrulegameoflife(toad)\n",
    "visualize2dim(toad, 32)"
   ]
  },
  {
   "cell_type": "code",
   "execution_count": null,
   "metadata": {},
   "outputs": [],
   "source": [
    "r_pentomino = falses(66, 66)\n",
    "r_pentomino[28,28:29] = [true, true]\n",
    "r_pentomino[29,27:28] = [true, true]\n",
    "r_pentomino[30,28] = true\n",
    "visualize2dim(r_pentomino, 4)"
   ]
  },
  {
   "cell_type": "code",
   "execution_count": null,
   "metadata": {},
   "outputs": [],
   "source": [
    "r_pentomino = applyrulegameoflife(r_pentomino)\n",
    "visualize2dim(r_pentomino, 4)"
   ]
  },
  {
   "cell_type": "markdown",
   "metadata": {},
   "source": [
    "# Diffusion"
   ]
  },
  {
   "cell_type": "code",
   "execution_count": null,
   "metadata": {},
   "outputs": [],
   "source": [
    "function applydiffusion(array::Array{Float64, 2}, r::Float64=0.1)\n",
    "    nr_y, nr_x = size(array)\n",
    "    out = deepcopy(array)\n",
    "    for y in 2:nr_y-1\n",
    "        for x in 2:nr_x-1\n",
    "            c = array[y-1, x] + array[y, x-1] + array[y, x+1] + array[y+1, x] - 4*array[y, x]\n",
    "            out[y, x] += r*c\n",
    "        end\n",
    "    end\n",
    "    out\n",
    "end"
   ]
  },
  {
   "cell_type": "code",
   "execution_count": null,
   "metadata": {},
   "outputs": [],
   "source": [
    "function visualizearray(array::Array{Float64, 2}, dim)\n",
    "    (nr_y, nr_x) = size(array)\n",
    "    width = dim * (nr_x - 1)\n",
    "    height = dim * (nr_y - 1)\n",
    "    Drawing(width, height, \"out.svg\")\n",
    "    for (j, y) in enumerate(2:nr_y-1)\n",
    "        for (i, x) in enumerate(2:nr_x-1)\n",
    "            sethue(setgray(0.8*(1-array[y, x])+0.1))\n",
    "            box(i*dim, j*dim, dim, dim, :fill)\n",
    "        end\n",
    "     end\n",
    "     finish()\n",
    "     preview()\n",
    "end"
   ]
  },
  {
   "cell_type": "code",
   "execution_count": null,
   "metadata": {},
   "outputs": [],
   "source": [
    "array = zeros(Float64, 11, 11)\n",
    "array[5:7, 5:7] = ones(Float64, 3, 3)\n",
    "visualizearray(array, 16)"
   ]
  },
  {
   "cell_type": "code",
   "execution_count": null,
   "metadata": {},
   "outputs": [],
   "source": [
    "for i in 1: 10; array = applydiffusion(array); end\n",
    "visualizearray(array, 16)"
   ]
  },
  {
   "cell_type": "markdown",
   "metadata": {},
   "source": [
    "# Reaction-Diffusion"
   ]
  },
  {
   "cell_type": "code",
   "execution_count": null,
   "metadata": {},
   "outputs": [],
   "source": [
    "function applyreactiondiffusion(a::Array{Float64, 2}, b::Array{Float64, 2}, ra::Float64=0.5, rb=Float64=0.25, \n",
    "        f::Float64=0.055, k = Float64=0.062)\n",
    "    nr_y, nr_x = size(a)\n",
    "    a_out = deepcopy(a)\n",
    "    b_out = deepcopy(b)\n",
    "    for y in 2:nr_y-1\n",
    "        for x in 2:nr_x-1\n",
    "            reaction = a[y, x] * b[y, x]^2\n",
    "            ca = 0.25*(a[y-1, x] + a[y, x-1] + a[y, x+1] + a[y+1, x]) - a[y, x]\n",
    "            cb = 0.25*(b[y-1, x] + b[y, x-1] + b[y, x+1] + b[y+1, x]) - b[y, x]\n",
    "            a_out[y, x] += ra*ca - reaction + f * (1 - a[y, x])\n",
    "            b_out[y, x] += rb*cb + reaction - (f+k) * b[y, x]\n",
    "        end\n",
    "    end\n",
    "    a_out, b_out\n",
    "end"
   ]
  },
  {
   "cell_type": "code",
   "execution_count": null,
   "metadata": {},
   "outputs": [],
   "source": [
    "a = ones(Float64, 258, 258)\n",
    "b = rand(Float64, 258, 258)*0.1\n",
    "b[129-12:129+12, 129-12:129+12] += ones(Float64, 25, 25)*0.1\n",
    "visualizearray(b, 2)"
   ]
  },
  {
   "cell_type": "code",
   "execution_count": null,
   "metadata": {},
   "outputs": [],
   "source": [
    "# f = 0.035, 0.055, 0.039 k = 0.057, 0.062, 0.065\n",
    "for i in 1:1000\n",
    "    global a, b\n",
    "    a, b = applyreactiondiffusion(a, b, 0.5, 0.25, 0.039, 0.065)\n",
    "end\n",
    "visualizearray(b, 2)"
   ]
  },
  {
   "cell_type": "markdown",
   "metadata": {},
   "source": [
    "# Percolation"
   ]
  },
  {
   "cell_type": "code",
   "execution_count": null,
   "metadata": {},
   "outputs": [],
   "source": [
    "function applypercolation(array::Array{Float64, 2})\n",
    "    nr_y, nr_x = size(array)\n",
    "    out = deepcopy(array)\n",
    "    for y in 2:nr_y-1\n",
    "        for x in 2:nr_x-1\n",
    "            if out[y, x] > 0.0\n",
    "                c = array[y-1, x] + array[y, x-1] + array[y, x+1] + array[y+1, x]\n",
    "                if c ≥ 0.5\n",
    "                    out[y, x] = 0.5\n",
    "                end\n",
    "            end\n",
    "        end\n",
    "    end\n",
    "    out\n",
    "end"
   ]
  },
  {
   "cell_type": "code",
   "execution_count": null,
   "metadata": {},
   "outputs": [],
   "source": [
    "array = zeros(Float64, 102, 102)\n",
    "array[2, 2:101] = ones(Float64, 100)*0.5\n",
    "array[3:101, 2:101] = rand(Float64, 99, 100)\n",
    "for y in 3:101\n",
    "    for x in 2:101\n",
    "        if array[y, x] < 0.5\n",
    "            array[y, x] = 0.1\n",
    "        else\n",
    "            array[y, x] = 0.0\n",
    "        end\n",
    "    end\n",
    "end\n",
    "visualizearray(array, 4)"
   ]
  },
  {
   "cell_type": "code",
   "execution_count": null,
   "metadata": {},
   "outputs": [],
   "source": [
    "for i in 1:100\n",
    "    array = applypercolation(array)\n",
    "end\n",
    "visualizearray(array, 4)"
   ]
  },
  {
   "cell_type": "code",
   "execution_count": null,
   "metadata": {},
   "outputs": [],
   "source": []
  }
 ],
 "metadata": {
  "kernelspec": {
   "display_name": "Julia 1.0.0",
   "language": "julia",
   "name": "julia-1.0"
  },
  "language_info": {
   "file_extension": ".jl",
   "mimetype": "application/julia",
   "name": "julia",
   "version": "1.0.0"
  }
 },
 "nbformat": 4,
 "nbformat_minor": 2
}
